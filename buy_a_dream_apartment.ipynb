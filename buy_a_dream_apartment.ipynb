{
 "cells": [
  {
   "cell_type": "markdown",
   "source": [
    "<h1>Покупка квартиры мечты</h1>\n",
    "<img src=\"media/dream_apartment.jpg/\">\n",
    "\n",
    "Вводные:\n",
    "1. Нужно купить квартирку, в которой мы будем жить и которая выгодна с точки зрения инвестиций.\n",
    "2. Будет ипотека. Ограничения: первоначальный взнос 1.8 млн рублей, 5 лет, платеж до 200 тыр.\n",
    "\n",
    "\n",
    "<span style=\"color:#ffffff; background: #0703fc\">Цель исследования: сравнить рост цены недвижки и переплату по ипотеке</span>"
   ],
   "metadata": {
    "collapsed": false
   }
  },
  {
   "cell_type": "markdown",
   "source": [
    "План анализа:\n",
    "1. Изучить расчет платежей по ипотеке. Аннуитетные платежи. Досрочные платежи.\n",
    "2. Выбрать и распарсить данные по недвиге - собрать датасет.\n",
    "4. Найти старый парсинг циана, посмотреть, как растут в цене новостройки по районам и застройщикам.\n",
    "5. Посчитать что выгоднее."
   ],
   "metadata": {
    "collapsed": false
   }
  },
  {
   "cell_type": "markdown",
   "source": [
    "<h2>Функции для расчета ипотеки</h2>"
   ],
   "metadata": {
    "collapsed": false
   }
  },
  {
   "cell_type": "code",
   "execution_count": 1,
   "outputs": [],
   "source": [
    "import pandas as pd\n",
    "\n",
    "# считаем платеж и переплату при аннуитетном платеже\n",
    "# нужно передать датафрейм с полями\n",
    "# стоимость хаты (s), первоначальный взнос (fst), срок ипотеки в месяцах (n), годовая ставка (p)\n",
    "def annuit(str):\n",
    "    p = str.p / 12\n",
    "    debt = str.s - str.fst\n",
    "    payment = debt * (p + p / (pow((1 + p), str.n) - 1))\n",
    "    overpay = payment * str.n - debt\n",
    "    return payment, overpay\n",
    "\n",
    "# возвращает график платежей\n",
    "# нужно передать датафрейм с полями\n",
    "# стоимость хаты (s), первоначальный взнос (fst), срок ипотеки в месяцах (n), годовая ставка (p)\n",
    "def payment_schedule(str):\n",
    "    payments_list = []\n",
    "    rest = str.s - str.fst\n",
    "    n = int(str.n)\n",
    "    i = 1\n",
    "    while (i <= n) & (rest > 0) :\n",
    "        perc_mon = rest * str.p/12\n",
    "        real_payment = str.payment\n",
    "        if real_payment > rest:\n",
    "            real_payment = rest + perc_mon\n",
    "        debt_mon = real_payment - perc_mon\n",
    "        rest = rest - debt_mon\n",
    "        payments_list.append([i, real_payment, rest, perc_mon, debt_mon])\n",
    "        # print(i, real_payment, rest, perc_mon, debt_mon)\n",
    "        i+=1\n",
    "    df = pd.DataFrame(payments_list)\n",
    "    df = df.rename(columns={0:'i', 1:'payment', 2:'rest', 3:'perc_mon', 4:'debt_mon'})\n",
    "    return df\n",
    "\n",
    "# возвращает график платежей с досрочным погашением\n",
    "# нужно передать датафрейм с полями\n",
    "# стоимость хаты (s), первоначальный взнос (fst), срок ипотеки в месяцах (n), годовая ставка (p)\n",
    "# и список досрочных погашений с полями [[0, 1, 2, 3]]\n",
    "# сколько платить (0), периодичность (1) 0 - разово, 1 - раз в месяц, 2 - раз в 2 месяца и тд, начало (2), конец (3)\n",
    "# можно несколько досрочных погашений\n",
    "def payment_schedule_early(str, eps):\n",
    "    payments_list = []\n",
    "    rest = str.s - str.fst\n",
    "    n = int(str.n)\n",
    "    i = 1\n",
    "    while (i <= n) & (rest > 0) :\n",
    "        perc_mon = rest * str.p/12\n",
    "        real_payment = str.payment\n",
    "        for ep in eps:\n",
    "            if i in range(ep[2], ep[3]):\n",
    "                if (ep[1] == 0)|((i - ep[2]) % ep[1] == 0):\n",
    "                    real_payment = ep[0]\n",
    "        if real_payment > rest:\n",
    "            real_payment = rest + perc_mon\n",
    "        debt_mon = real_payment - perc_mon\n",
    "        rest = rest - debt_mon\n",
    "        payments_list.append([i, real_payment, rest, perc_mon, debt_mon])\n",
    "        i+=1\n",
    "    df = pd.DataFrame(payments_list)\n",
    "    df = df.rename(columns={0:'i', 1:'payment', 2:'rest', 3:'perc_mon', 4:'debt_mon'})\n",
    "    return df"
   ],
   "metadata": {
    "collapsed": false,
    "ExecuteTime": {
     "end_time": "2023-07-06T13:32:54.903731Z",
     "start_time": "2023-07-06T13:32:53.267941Z"
    }
   }
  },
  {
   "cell_type": "markdown",
   "source": [
    "Посчитаем переплату по желаемой хате с разными параметрами"
   ],
   "metadata": {
    "collapsed": false
   }
  },
  {
   "cell_type": "code",
   "execution_count": 3,
   "outputs": [
    {
     "data": {
      "text/plain": "12189868"
     },
     "execution_count": 3,
     "metadata": {},
     "output_type": "execute_result"
    }
   ],
   "source": [
    "10361000+1828868"
   ],
   "metadata": {
    "collapsed": false,
    "ExecuteTime": {
     "end_time": "2023-07-06T13:35:48.729153Z",
     "start_time": "2023-07-06T13:35:48.718812Z"
    }
   }
  },
  {
   "cell_type": "code",
   "execution_count": 4,
   "outputs": [],
   "source": [
    "# стоимость хаты, первоначальный взнос, срок ипотеки в месяцах, годовая ставка\n",
    "params = [(12189868, 1828868, 30, 0.044),\n",
    "          (12189868, 1828868, 60, 0.044),\n",
    "          (12189868, 1828868, 240, 0.044),\n",
    "          (12189868, 1828868, 360, 0.044)]"
   ],
   "metadata": {
    "collapsed": false,
    "ExecuteTime": {
     "end_time": "2023-07-06T13:36:28.170095Z",
     "start_time": "2023-07-06T13:36:28.160204Z"
    }
   }
  },
  {
   "cell_type": "code",
   "execution_count": 18,
   "outputs": [
    {
     "data": {
      "text/plain": "          s      fst    n      p      debt        payment       overpay\n0  12189868  1828868   30  0.044  10361000  365342.157330  5.992647e+05\n1  12189868  1828868   60  0.044  10361000  192689.550538  1.200373e+06\n2  12189868  1828868  240  0.044  10361000   64990.844899  5.236803e+06\n3  12189868  1828868  360  0.044  10361000   51883.837906  8.317182e+06",
      "text/html": "<div>\n<style scoped>\n    .dataframe tbody tr th:only-of-type {\n        vertical-align: middle;\n    }\n\n    .dataframe tbody tr th {\n        vertical-align: top;\n    }\n\n    .dataframe thead th {\n        text-align: right;\n    }\n</style>\n<table border=\"1\" class=\"dataframe\">\n  <thead>\n    <tr style=\"text-align: right;\">\n      <th></th>\n      <th>s</th>\n      <th>fst</th>\n      <th>n</th>\n      <th>p</th>\n      <th>debt</th>\n      <th>payment</th>\n      <th>overpay</th>\n    </tr>\n  </thead>\n  <tbody>\n    <tr>\n      <th>0</th>\n      <td>12189868</td>\n      <td>1828868</td>\n      <td>30</td>\n      <td>0.044</td>\n      <td>10361000</td>\n      <td>365342.157330</td>\n      <td>5.992647e+05</td>\n    </tr>\n    <tr>\n      <th>1</th>\n      <td>12189868</td>\n      <td>1828868</td>\n      <td>60</td>\n      <td>0.044</td>\n      <td>10361000</td>\n      <td>192689.550538</td>\n      <td>1.200373e+06</td>\n    </tr>\n    <tr>\n      <th>2</th>\n      <td>12189868</td>\n      <td>1828868</td>\n      <td>240</td>\n      <td>0.044</td>\n      <td>10361000</td>\n      <td>64990.844899</td>\n      <td>5.236803e+06</td>\n    </tr>\n    <tr>\n      <th>3</th>\n      <td>12189868</td>\n      <td>1828868</td>\n      <td>360</td>\n      <td>0.044</td>\n      <td>10361000</td>\n      <td>51883.837906</td>\n      <td>8.317182e+06</td>\n    </tr>\n  </tbody>\n</table>\n</div>"
     },
     "execution_count": 18,
     "metadata": {},
     "output_type": "execute_result"
    }
   ],
   "source": [
    "import pandas as pd\n",
    "\n",
    "diff = pd.DataFrame(params)\n",
    "diff = diff.rename(columns={0:'s', 1:'fst', 2:'n', 3:'p'})\n",
    "diff['debt'] = diff['s'] - diff['fst']\n",
    "diff[['payment', 'overpay']] =  diff.apply(lambda row: annuit(row), axis='columns', result_type='expand')\n",
    "diff.style.format({'fst':'{:.2f}','p': '{:.3f}', 'debt':'{0:_}', 'payment':'{0:_.2f}', 'overpay':'{0:_.2f}'})\n",
    "diff.head()"
   ],
   "metadata": {
    "collapsed": false,
    "ExecuteTime": {
     "end_time": "2023-07-06T13:40:30.275716Z",
     "start_time": "2023-07-06T13:40:30.248931Z"
    }
   }
  },
  {
   "cell_type": "markdown",
   "source": [
    "Кредит дадут на миллиард лет, но гасить лучше досрочно. Посчитаем, лучше сразу ебашить по 200 тыр или можно начать через 3 месяца."
   ],
   "metadata": {
    "collapsed": false
   }
  },
  {
   "cell_type": "code",
   "execution_count": 19,
   "outputs": [
    {
     "name": "stdout",
     "output_type": "stream",
     "text": [
      "Overpay =  1245210.4468384383\n",
      "n =  61\n",
      "Overpay =  1150763.2944132632\n",
      "n =  58\n",
      "94447.15242517507\n"
     ]
    }
   ],
   "source": [
    "# сколько платить, периодичность (0 - разово, 1 - раз в месяц, 2 - раз в 2 месяца и тд), начало, конец\n",
    "early_payments =[[200000, 1, 4, 10000]]\n",
    "payments = payment_schedule_early(diff.loc[2],early_payments)\n",
    "overpay1 = payments.perc_mon.sum()\n",
    "print('Overpay = ', overpay1)\n",
    "print('n = ',payments.shape[0])\n",
    "\n",
    "# сколько платить, периодичность (0 - разово, 1 - раз в месяц, 2 - раз в 2 месяца и тд), начало, конец\n",
    "early_payments =[[200000, 1, 1, 10000]]\n",
    "payments = payment_schedule_early(diff.loc[2],early_payments)\n",
    "overpay2 = payments.perc_mon.sum()\n",
    "print('Overpay = ', overpay2)\n",
    "print('n = ',payments.shape[0])\n",
    "print(overpay1-overpay2)"
   ],
   "metadata": {
    "collapsed": false,
    "ExecuteTime": {
     "end_time": "2023-07-06T13:42:00.882132Z",
     "start_time": "2023-07-06T13:42:00.823917Z"
    }
   }
  },
  {
   "cell_type": "markdown",
   "source": [
    "ПЕРЕПЛАТА БУДЕТ СТОИТЬ 100 ТЫЩ, ГАСИМ СРАЗУ"
   ],
   "metadata": {
    "collapsed": false
   }
  },
  {
   "cell_type": "markdown",
   "source": [
    "График платежей тогда такой"
   ],
   "metadata": {
    "collapsed": false
   }
  },
  {
   "cell_type": "markdown",
   "source": [],
   "metadata": {
    "collapsed": false
   }
  },
  {
   "cell_type": "code",
   "execution_count": 22,
   "outputs": [
    {
     "data": {
      "text/plain": "     i        payment          rest      perc_mon       debt_mon\n0    1  250000.000000  1.014899e+07  37990.333333  212009.666667\n1    2  250000.000000  9.936203e+06  37212.964556  212787.035444\n2    3  250000.000000  9.722636e+06  36432.745426  213567.254574\n3    4  250000.000000  9.508286e+06  35649.665492  214350.334508\n4    5  250000.000000  9.293149e+06  34863.714266  215136.285734\n5    6  250000.000000  9.077224e+06  34074.881218  215925.118782\n6    7  250000.000000  8.860507e+06  33283.155782  216716.844218\n7    8  250000.000000  8.642996e+06  32488.527354  217511.472646\n8    9  250000.000000  8.424687e+06  31690.985287  218309.014713\n9   10  250000.000000  8.205577e+06  30890.518900  219109.481100\n10  11  250000.000000  7.985665e+06  30087.117469  219912.882531\n11  12  250000.000000  7.764945e+06  29280.770233  220719.229767\n12  13  250000.000000  7.543417e+06  28471.466391  221528.533609\n13  14  250000.000000  7.321076e+06  27659.195101  222340.804899\n14  15  250000.000000  7.097920e+06  26843.945483  223156.054517\n15  16  250000.000000  6.873946e+06  26025.706616  223974.293384\n16  17  250000.000000  6.649150e+06  25204.467541  224795.532459\n17  18  250000.000000  6.423530e+06  24380.217255  225619.782745\n18  19  250000.000000  6.197083e+06  23552.944718  226447.055282\n19  20  250000.000000  5.969806e+06  22722.638849  227277.361151\n20  21  250000.000000  5.741695e+06  21889.288525  228110.711475\n21  22  250000.000000  5.512748e+06  21052.882583  228947.117417\n22  23  250000.000000  5.282962e+06  20213.409819  229786.590181\n23  24  250000.000000  5.052332e+06  19370.858988  230629.141012\n24  25  250000.000000  4.820858e+06  18525.218804  231474.781196\n25  26  250000.000000  4.588534e+06  17676.477940  232323.522060\n26  27  250000.000000  4.355359e+06  16824.625026  233175.374974\n27  28  250000.000000  4.121328e+06  15969.648651  234030.351349\n28  29  250000.000000  3.886440e+06  15111.537363  234888.462637\n29  30  250000.000000  3.650690e+06  14250.279666  235749.720334\n30  31  250000.000000  3.414076e+06  13385.864025  236614.135975\n31  32  250000.000000  3.176594e+06  12518.278860  237481.721140\n32  33  250000.000000  2.938242e+06  11647.512549  238352.487451\n33  34  250000.000000  2.699015e+06  10773.553428  239226.446572\n34  35  250000.000000  2.458912e+06   9896.389791  240103.610209\n35  36  250000.000000  2.217928e+06   9016.009887  240983.990113\n36  37  250000.000000  1.976060e+06   8132.401923  241867.598077\n37  38  250000.000000  1.733306e+06   7245.554063  242754.445937\n38  39  250000.000000  1.489661e+06   6355.454428  243644.545572\n39  40  250000.000000  1.245123e+06   5462.091094  244537.908906\n40  41  250000.000000  9.996888e+05   4565.452095  245434.547905\n41  42  250000.000000  7.533543e+05   3665.525420  246334.474580\n42  43  250000.000000  5.061166e+05   2762.299013  247237.700987\n43  44  250000.000000  2.579723e+05   1855.760776  248144.239224\n44  45  250000.000000  8.918235e+03    945.898565  249054.101435\n45  46    8950.934744  0.000000e+00     32.700193    8918.234550",
      "text/html": "<div>\n<style scoped>\n    .dataframe tbody tr th:only-of-type {\n        vertical-align: middle;\n    }\n\n    .dataframe tbody tr th {\n        vertical-align: top;\n    }\n\n    .dataframe thead th {\n        text-align: right;\n    }\n</style>\n<table border=\"1\" class=\"dataframe\">\n  <thead>\n    <tr style=\"text-align: right;\">\n      <th></th>\n      <th>i</th>\n      <th>payment</th>\n      <th>rest</th>\n      <th>perc_mon</th>\n      <th>debt_mon</th>\n    </tr>\n  </thead>\n  <tbody>\n    <tr>\n      <th>0</th>\n      <td>1</td>\n      <td>250000.000000</td>\n      <td>1.014899e+07</td>\n      <td>37990.333333</td>\n      <td>212009.666667</td>\n    </tr>\n    <tr>\n      <th>1</th>\n      <td>2</td>\n      <td>250000.000000</td>\n      <td>9.936203e+06</td>\n      <td>37212.964556</td>\n      <td>212787.035444</td>\n    </tr>\n    <tr>\n      <th>2</th>\n      <td>3</td>\n      <td>250000.000000</td>\n      <td>9.722636e+06</td>\n      <td>36432.745426</td>\n      <td>213567.254574</td>\n    </tr>\n    <tr>\n      <th>3</th>\n      <td>4</td>\n      <td>250000.000000</td>\n      <td>9.508286e+06</td>\n      <td>35649.665492</td>\n      <td>214350.334508</td>\n    </tr>\n    <tr>\n      <th>4</th>\n      <td>5</td>\n      <td>250000.000000</td>\n      <td>9.293149e+06</td>\n      <td>34863.714266</td>\n      <td>215136.285734</td>\n    </tr>\n    <tr>\n      <th>5</th>\n      <td>6</td>\n      <td>250000.000000</td>\n      <td>9.077224e+06</td>\n      <td>34074.881218</td>\n      <td>215925.118782</td>\n    </tr>\n    <tr>\n      <th>6</th>\n      <td>7</td>\n      <td>250000.000000</td>\n      <td>8.860507e+06</td>\n      <td>33283.155782</td>\n      <td>216716.844218</td>\n    </tr>\n    <tr>\n      <th>7</th>\n      <td>8</td>\n      <td>250000.000000</td>\n      <td>8.642996e+06</td>\n      <td>32488.527354</td>\n      <td>217511.472646</td>\n    </tr>\n    <tr>\n      <th>8</th>\n      <td>9</td>\n      <td>250000.000000</td>\n      <td>8.424687e+06</td>\n      <td>31690.985287</td>\n      <td>218309.014713</td>\n    </tr>\n    <tr>\n      <th>9</th>\n      <td>10</td>\n      <td>250000.000000</td>\n      <td>8.205577e+06</td>\n      <td>30890.518900</td>\n      <td>219109.481100</td>\n    </tr>\n    <tr>\n      <th>10</th>\n      <td>11</td>\n      <td>250000.000000</td>\n      <td>7.985665e+06</td>\n      <td>30087.117469</td>\n      <td>219912.882531</td>\n    </tr>\n    <tr>\n      <th>11</th>\n      <td>12</td>\n      <td>250000.000000</td>\n      <td>7.764945e+06</td>\n      <td>29280.770233</td>\n      <td>220719.229767</td>\n    </tr>\n    <tr>\n      <th>12</th>\n      <td>13</td>\n      <td>250000.000000</td>\n      <td>7.543417e+06</td>\n      <td>28471.466391</td>\n      <td>221528.533609</td>\n    </tr>\n    <tr>\n      <th>13</th>\n      <td>14</td>\n      <td>250000.000000</td>\n      <td>7.321076e+06</td>\n      <td>27659.195101</td>\n      <td>222340.804899</td>\n    </tr>\n    <tr>\n      <th>14</th>\n      <td>15</td>\n      <td>250000.000000</td>\n      <td>7.097920e+06</td>\n      <td>26843.945483</td>\n      <td>223156.054517</td>\n    </tr>\n    <tr>\n      <th>15</th>\n      <td>16</td>\n      <td>250000.000000</td>\n      <td>6.873946e+06</td>\n      <td>26025.706616</td>\n      <td>223974.293384</td>\n    </tr>\n    <tr>\n      <th>16</th>\n      <td>17</td>\n      <td>250000.000000</td>\n      <td>6.649150e+06</td>\n      <td>25204.467541</td>\n      <td>224795.532459</td>\n    </tr>\n    <tr>\n      <th>17</th>\n      <td>18</td>\n      <td>250000.000000</td>\n      <td>6.423530e+06</td>\n      <td>24380.217255</td>\n      <td>225619.782745</td>\n    </tr>\n    <tr>\n      <th>18</th>\n      <td>19</td>\n      <td>250000.000000</td>\n      <td>6.197083e+06</td>\n      <td>23552.944718</td>\n      <td>226447.055282</td>\n    </tr>\n    <tr>\n      <th>19</th>\n      <td>20</td>\n      <td>250000.000000</td>\n      <td>5.969806e+06</td>\n      <td>22722.638849</td>\n      <td>227277.361151</td>\n    </tr>\n    <tr>\n      <th>20</th>\n      <td>21</td>\n      <td>250000.000000</td>\n      <td>5.741695e+06</td>\n      <td>21889.288525</td>\n      <td>228110.711475</td>\n    </tr>\n    <tr>\n      <th>21</th>\n      <td>22</td>\n      <td>250000.000000</td>\n      <td>5.512748e+06</td>\n      <td>21052.882583</td>\n      <td>228947.117417</td>\n    </tr>\n    <tr>\n      <th>22</th>\n      <td>23</td>\n      <td>250000.000000</td>\n      <td>5.282962e+06</td>\n      <td>20213.409819</td>\n      <td>229786.590181</td>\n    </tr>\n    <tr>\n      <th>23</th>\n      <td>24</td>\n      <td>250000.000000</td>\n      <td>5.052332e+06</td>\n      <td>19370.858988</td>\n      <td>230629.141012</td>\n    </tr>\n    <tr>\n      <th>24</th>\n      <td>25</td>\n      <td>250000.000000</td>\n      <td>4.820858e+06</td>\n      <td>18525.218804</td>\n      <td>231474.781196</td>\n    </tr>\n    <tr>\n      <th>25</th>\n      <td>26</td>\n      <td>250000.000000</td>\n      <td>4.588534e+06</td>\n      <td>17676.477940</td>\n      <td>232323.522060</td>\n    </tr>\n    <tr>\n      <th>26</th>\n      <td>27</td>\n      <td>250000.000000</td>\n      <td>4.355359e+06</td>\n      <td>16824.625026</td>\n      <td>233175.374974</td>\n    </tr>\n    <tr>\n      <th>27</th>\n      <td>28</td>\n      <td>250000.000000</td>\n      <td>4.121328e+06</td>\n      <td>15969.648651</td>\n      <td>234030.351349</td>\n    </tr>\n    <tr>\n      <th>28</th>\n      <td>29</td>\n      <td>250000.000000</td>\n      <td>3.886440e+06</td>\n      <td>15111.537363</td>\n      <td>234888.462637</td>\n    </tr>\n    <tr>\n      <th>29</th>\n      <td>30</td>\n      <td>250000.000000</td>\n      <td>3.650690e+06</td>\n      <td>14250.279666</td>\n      <td>235749.720334</td>\n    </tr>\n    <tr>\n      <th>30</th>\n      <td>31</td>\n      <td>250000.000000</td>\n      <td>3.414076e+06</td>\n      <td>13385.864025</td>\n      <td>236614.135975</td>\n    </tr>\n    <tr>\n      <th>31</th>\n      <td>32</td>\n      <td>250000.000000</td>\n      <td>3.176594e+06</td>\n      <td>12518.278860</td>\n      <td>237481.721140</td>\n    </tr>\n    <tr>\n      <th>32</th>\n      <td>33</td>\n      <td>250000.000000</td>\n      <td>2.938242e+06</td>\n      <td>11647.512549</td>\n      <td>238352.487451</td>\n    </tr>\n    <tr>\n      <th>33</th>\n      <td>34</td>\n      <td>250000.000000</td>\n      <td>2.699015e+06</td>\n      <td>10773.553428</td>\n      <td>239226.446572</td>\n    </tr>\n    <tr>\n      <th>34</th>\n      <td>35</td>\n      <td>250000.000000</td>\n      <td>2.458912e+06</td>\n      <td>9896.389791</td>\n      <td>240103.610209</td>\n    </tr>\n    <tr>\n      <th>35</th>\n      <td>36</td>\n      <td>250000.000000</td>\n      <td>2.217928e+06</td>\n      <td>9016.009887</td>\n      <td>240983.990113</td>\n    </tr>\n    <tr>\n      <th>36</th>\n      <td>37</td>\n      <td>250000.000000</td>\n      <td>1.976060e+06</td>\n      <td>8132.401923</td>\n      <td>241867.598077</td>\n    </tr>\n    <tr>\n      <th>37</th>\n      <td>38</td>\n      <td>250000.000000</td>\n      <td>1.733306e+06</td>\n      <td>7245.554063</td>\n      <td>242754.445937</td>\n    </tr>\n    <tr>\n      <th>38</th>\n      <td>39</td>\n      <td>250000.000000</td>\n      <td>1.489661e+06</td>\n      <td>6355.454428</td>\n      <td>243644.545572</td>\n    </tr>\n    <tr>\n      <th>39</th>\n      <td>40</td>\n      <td>250000.000000</td>\n      <td>1.245123e+06</td>\n      <td>5462.091094</td>\n      <td>244537.908906</td>\n    </tr>\n    <tr>\n      <th>40</th>\n      <td>41</td>\n      <td>250000.000000</td>\n      <td>9.996888e+05</td>\n      <td>4565.452095</td>\n      <td>245434.547905</td>\n    </tr>\n    <tr>\n      <th>41</th>\n      <td>42</td>\n      <td>250000.000000</td>\n      <td>7.533543e+05</td>\n      <td>3665.525420</td>\n      <td>246334.474580</td>\n    </tr>\n    <tr>\n      <th>42</th>\n      <td>43</td>\n      <td>250000.000000</td>\n      <td>5.061166e+05</td>\n      <td>2762.299013</td>\n      <td>247237.700987</td>\n    </tr>\n    <tr>\n      <th>43</th>\n      <td>44</td>\n      <td>250000.000000</td>\n      <td>2.579723e+05</td>\n      <td>1855.760776</td>\n      <td>248144.239224</td>\n    </tr>\n    <tr>\n      <th>44</th>\n      <td>45</td>\n      <td>250000.000000</td>\n      <td>8.918235e+03</td>\n      <td>945.898565</td>\n      <td>249054.101435</td>\n    </tr>\n    <tr>\n      <th>45</th>\n      <td>46</td>\n      <td>8950.934744</td>\n      <td>0.000000e+00</td>\n      <td>32.700193</td>\n      <td>8918.234550</td>\n    </tr>\n  </tbody>\n</table>\n</div>"
     },
     "execution_count": 22,
     "metadata": {},
     "output_type": "execute_result"
    }
   ],
   "source": [
    "early_payments =[[250000, 1, 1, 10000]]\n",
    "payments = payment_schedule_early(diff.loc[2],early_payments)\n",
    "payments"
   ],
   "metadata": {
    "collapsed": false,
    "ExecuteTime": {
     "end_time": "2023-07-06T13:44:12.929968Z",
     "start_time": "2023-07-06T13:44:12.907456Z"
    }
   }
  },
  {
   "cell_type": "markdown",
   "source": [
    "<h2>Парсим сайты с недвигой</h2>"
   ],
   "metadata": {
    "collapsed": false
   }
  },
  {
   "cell_type": "code",
   "execution_count": 1,
   "outputs": [],
   "source": [
    "import requests\n",
    "from bs4 import BeautifulSoup # for web scraping\n",
    "import pandas as pd\n",
    "import numpy as np\n",
    "import re\n",
    "from ipywidgets import IntProgress #for progress bar\n",
    "from IPython.display import display"
   ],
   "metadata": {
    "collapsed": false,
    "ExecuteTime": {
     "end_time": "2023-06-30T12:27:55.407723Z",
     "start_time": "2023-06-30T12:27:51.470290Z"
    }
   }
  },
  {
   "cell_type": "code",
   "execution_count": 70,
   "outputs": [],
   "source": [
    "req = requests.get('https://m2.ru/sankt-peterburg/nedvizhimost/kupit-kvartiru/')\n",
    "soup = BeautifulSoup(req.text, \"lxml\")"
   ],
   "metadata": {
    "collapsed": false,
    "ExecuteTime": {
     "end_time": "2023-06-30T13:57:46.951107Z",
     "start_time": "2023-06-30T13:57:29.965755Z"
    }
   }
  },
  {
   "cell_type": "code",
   "execution_count": 71,
   "outputs": [
    {
     "data": {
      "text/plain": "['https://m2.ru/sankt-peterburg/nedvizhimost/prodazha-1-komnatnoi-kvartiri-53-3-m-1-6-etazh-672d9b9c-8827-42ca-b7be-736115ce772e/',\n 'https://m2.ru/sankt-peterburg/nedvizhimost/prodazha-1-komnatnoi-kvartiri-37-1-m-3-9-etazh-c886fe91-b6cb-4533-b7ba-688773fd11fc/',\n 'https://m2.ru/sankt-peterburg/nedvizhimost/prodazha-2-komnatnoi-kvartiri-67-4-m-6-12-etazh-6ac17150-d91b-4273-af15-f659059d7901/',\n 'https://m2.ru/sankt-peterburg/nedvizhimost/prodazha-2-komnatnoi-kvartiri-63-1-m-8-8-etazh-d9d2f232-05ad-48d2-819e-1bfdd7e4e12a/',\n 'https://m2.ru/sankt-peterburg/nedvizhimost/prodazha-1-komnatnoi-kvartiri-33-9-m-8-14-etazh-bf400424-6e48-43de-be62-ea1e6ba5b4e7/']"
     },
     "execution_count": 71,
     "metadata": {},
     "output_type": "execute_result"
    }
   ],
   "source": [
    "all_hrefs = [a.get('href') for a in soup.find_all('a')] #list of all links\n",
    "flat_hrefs=[a for a in all_hrefs if 'https://m2.ru/sankt-peterburg/nedvizhimost/prodazha' in str(a)] #filtering the list\n",
    "flat_hrefs=list(set(flat_hrefs)) #removing duplicates in the list\n",
    "flat_hrefs[0:5]"
   ],
   "metadata": {
    "collapsed": false,
    "ExecuteTime": {
     "end_time": "2023-06-30T13:57:50.075065Z",
     "start_time": "2023-06-30T13:57:50.064283Z"
    }
   }
  },
  {
   "cell_type": "code",
   "execution_count": 72,
   "outputs": [],
   "source": [
    "def add_flats(hrefs):\n",
    "    flats = pd.DataFrame()\n",
    "    progressbar=IntProgress(min=0, max=len(hrefs), value=0) #progress bar\n",
    "    display(progressbar)\n",
    "    for i,href in enumerate(hrefs):\n",
    "        # getting html code of the flat page\n",
    "        try:\n",
    "            req1 = requests.get(href)\n",
    "        except requests.exceptions.RequestException as e:\n",
    "            raise SystemExit(e)\n",
    "        soup = BeautifulSoup(req1.text, \"lxml\")\n",
    "        flat = {'Ссылка': href,\n",
    "               'Название': soup.h1.text.replace('\\xa0',' '),\n",
    "               'Адрес': ', '.join(a.string for a in soup.find_all(attrs={\"class\": \"ClClickableAddress__link\"})),\n",
    "               'Цена': soup.find(attrs={\"itemprop\": \"price\"}).text.replace('\\xa0',' ')}\n",
    "        attr = soup.find_all(attrs={\"class\":\"colors-named-module__secondary___2WPH_ fonts-module__secondary-alone___3wVR-\"})\n",
    "        vals = soup.find_all(attrs={\"class\":\"fonts-module__primary___2PNSt DescriptionCell__value\"})\n",
    "        for a,v in zip(attr,vals):\n",
    "            flat[a.text] = v.text.replace('\\xa0',' ')\n",
    "            progressbar.value = i+1\n",
    "        flats = pd.concat([flats, pd.DataFrame([flat])], ignore_index=True)\n",
    "    return flats"
   ],
   "metadata": {
    "collapsed": false,
    "ExecuteTime": {
     "end_time": "2023-06-30T13:58:02.658624Z",
     "start_time": "2023-06-30T13:58:02.638493Z"
    }
   }
  },
  {
   "cell_type": "code",
   "execution_count": 77,
   "outputs": [],
   "source": [
    "flats_all = pd.DataFrame()"
   ],
   "metadata": {
    "collapsed": false,
    "ExecuteTime": {
     "end_time": "2023-06-30T14:01:35.423416Z",
     "start_time": "2023-06-30T14:01:35.404657Z"
    }
   }
  },
  {
   "cell_type": "code",
   "execution_count": null,
   "outputs": [],
   "source": [
    "n_page=373\n",
    "while n_page<=500:\n",
    "    print('page number:',str(n_page))\n",
    "    try:\n",
    "        req = requests.get('https://m2.ru/sankt-peterburg/nedvizhimost/kupit-kvartiru/?pageNumber='+str(n_page))\n",
    "    except requests.exceptions.RequestException as e:\n",
    "        raise SystemExit(e)\n",
    "\n",
    "    soup = BeautifulSoup(req.text, \"lxml\")\n",
    "    # if we don't have header we stop parsing\n",
    "    if soup.h1 is None:\n",
    "        print('Parsing is stopped')\n",
    "        break\n",
    "    #getting all links from the page\n",
    "    all_hrefs = [a.get('href') for a in soup.find_all('a')]\n",
    "    flat_hrefs = [a for a in all_hrefs if 'https://m2.ru/sankt-peterburg/nedvizhimost/prodazha' in str(a)]\n",
    "    #getting all parameters from an apartment page.\n",
    "    flat_hrefs = list(set(flat_hrefs))\n",
    "    flats = add_flats(flat_hrefs)\n",
    "    flats_all = pd.concat([flats_all, flats], ignore_index=True)\n",
    "    print('number of rows',flats_all.shape[0])\n",
    "    n_page+=1"
   ],
   "metadata": {
    "collapsed": false
   }
  },
  {
   "cell_type": "code",
   "execution_count": 131,
   "outputs": [
    {
     "data": {
      "text/plain": "                                                 Ссылка  \\\n0     https://m2.ru/sankt-peterburg/nedvizhimost/pro...   \n1     https://m2.ru/sankt-peterburg/nedvizhimost/pro...   \n2     https://m2.ru/sankt-peterburg/nedvizhimost/pro...   \n3     https://m2.ru/sankt-peterburg/nedvizhimost/pro...   \n4     https://m2.ru/sankt-peterburg/nedvizhimost/pro...   \n...                                                 ...   \n9995  https://m2.ru/sankt-peterburg/nedvizhimost/pro...   \n9996  https://m2.ru/sankt-peterburg/nedvizhimost/pro...   \n9997  https://m2.ru/sankt-peterburg/nedvizhimost/pro...   \n9998  https://m2.ru/sankt-peterburg/nedvizhimost/pro...   \n9999  https://m2.ru/sankt-peterburg/nedvizhimost/pro...   \n\n                                             Название  \\\n0       Продажа 1-комнатной квартиры 34 м², 9/12 этаж   \n1      Продажа 1-комнатной квартиры 53,3 м², 1/6 этаж   \n2      Продажа 1-комнатной квартиры 37,1 м², 3/9 этаж   \n3     Продажа 2-комнатной квартиры 67,4 м², 6/12 этаж   \n4      Продажа 2-комнатной квартиры 63,1 м², 8/8 этаж   \n...                                               ...   \n9995       Продажа квартиры-студии 30,2 м², 5/23 этаж   \n9996      Продажа квартиры-студии 33,1 м², 15/25 этаж   \n9997        Продажа квартиры-студии 30,4 м², 4/6 этаж   \n9998     Продажа 2-комнатной квартиры 45 м², 6/9 этаж   \n9999       Продажа квартиры-студии 23,3 м², 3/13 этаж   \n\n                                                  Адрес        Цена Комнат  \\\n0     Санкт-Петербург, Выборгский район, Большой Сам...  10 500 000      1   \n1     Санкт-Петербург, Петроградский район, Петровск...  32 700 000      1   \n2     Санкт-Петербург, Невский район, проспект Обухо...  11 750 289      1   \n3     Санкт-Петербург, Красносельский район, Ленинск...  12 500 000      2   \n4     Санкт-Петербург, Московский район, Черниговска...  17 490 000      2   \n...                                                 ...         ...    ...   \n9995  Санкт-Петербург, Выборгский район, Парголово, ...   6 447 519    NaN   \n9996  Санкт-Петербург, Приморский район, Богатырский...   8 400 000    NaN   \n9997  Санкт-Петербург, Московский район, улица Коли ...   7 476 000    NaN   \n9998  Санкт-Петербург, Выборгский район, Выборгское ...   6 600 000      2   \n9999  Санкт-Петербург, Приморский район, Глухарская ...   5 062 938    NaN   \n\n           Отделка Площадь квартиры Жилая площадь Площадь кухни      Этаж  \\\n0         чистовая            34 м²       16,2 м²       10,1 м²   9 из 12   \n1              NaN          53,3 м²           NaN           NaN    1 из 6   \n2         чистовая          37,1 м²       17,3 м²       10,1 м²    3 из 9   \n3              NaN          67,4 м²       34,4 м²       15,4 м²   6 из 12   \n4              NaN          63,1 м²       33,2 м²       10,2 м²    8 из 8   \n...            ...              ...           ...           ...       ...   \n9995  предчистовая          30,2 м²       19,1 м²           NaN   5 из 23   \n9996           NaN          33,1 м²       21,4 м²           NaN  15 из 25   \n9997           NaN          30,4 м²       17,9 м²           NaN    4 из 6   \n9998           NaN            45 м²       27,5 м²        6,4 м²    6 из 9   \n9999           NaN          23,3 м²       14,1 м²           NaN   3 из 13   \n\n      ... Кухонная мебель Телевизор Стиральная машина Год постройки Консьерж  \\\n0     ...             NaN       NaN               NaN           NaN      NaN   \n1     ...            есть      есть              есть          2018     есть   \n2     ...             NaN       NaN               NaN           NaN      NaN   \n3     ...            есть       NaN              есть           NaN     есть   \n4     ...             NaN       NaN               NaN          2023      NaN   \n...   ...             ...       ...               ...           ...      ...   \n9995  ...             NaN       NaN               NaN          2022      NaN   \n9996  ...             NaN       NaN               NaN          2022      NaN   \n9997  ...             NaN       NaN               NaN           NaN      NaN   \n9998  ...             NaN       NaN               NaN           NaN      NaN   \n9999  ...             NaN       NaN               NaN           NaN      NaN   \n\n       Материал стен    Отопление Вид из окон Серия дома Временная эпоха  \n0                NaN          NaN         NaN        NaN             NaN  \n1                NaN          NaN         NaN        NaN             NaN  \n2     кирпич-монолит          NaN         NaN        NaN             NaN  \n3            монолит  центральное         NaN        NaN             NaN  \n4     кирпич-монолит          NaN         NaN        NaN             NaN  \n...              ...          ...         ...        ...             ...  \n9995             NaN          NaN         NaN        NaN             NaN  \n9996  кирпич-монолит          NaN         NaN        NaN             NaN  \n9997          кирпич          NaN         NaN        NaN             NaN  \n9998             NaN          NaN         NaN        NaN             NaN  \n9999  кирпич-монолит          NaN         NaN        NaN             NaN  \n\n[10000 rows x 36 columns]",
      "text/html": "<div>\n<style scoped>\n    .dataframe tbody tr th:only-of-type {\n        vertical-align: middle;\n    }\n\n    .dataframe tbody tr th {\n        vertical-align: top;\n    }\n\n    .dataframe thead th {\n        text-align: right;\n    }\n</style>\n<table border=\"1\" class=\"dataframe\">\n  <thead>\n    <tr style=\"text-align: right;\">\n      <th></th>\n      <th>Ссылка</th>\n      <th>Название</th>\n      <th>Адрес</th>\n      <th>Цена</th>\n      <th>Комнат</th>\n      <th>Отделка</th>\n      <th>Площадь квартиры</th>\n      <th>Жилая площадь</th>\n      <th>Площадь кухни</th>\n      <th>Этаж</th>\n      <th>...</th>\n      <th>Кухонная мебель</th>\n      <th>Телевизор</th>\n      <th>Стиральная машина</th>\n      <th>Год постройки</th>\n      <th>Консьерж</th>\n      <th>Материал стен</th>\n      <th>Отопление</th>\n      <th>Вид из окон</th>\n      <th>Серия дома</th>\n      <th>Временная эпоха</th>\n    </tr>\n  </thead>\n  <tbody>\n    <tr>\n      <th>0</th>\n      <td>https://m2.ru/sankt-peterburg/nedvizhimost/pro...</td>\n      <td>Продажа 1-комнатной квартиры 34 м², 9/12 этаж</td>\n      <td>Санкт-Петербург, Выборгский район, Большой Сам...</td>\n      <td>10 500 000</td>\n      <td>1</td>\n      <td>чистовая</td>\n      <td>34 м²</td>\n      <td>16,2 м²</td>\n      <td>10,1 м²</td>\n      <td>9 из 12</td>\n      <td>...</td>\n      <td>NaN</td>\n      <td>NaN</td>\n      <td>NaN</td>\n      <td>NaN</td>\n      <td>NaN</td>\n      <td>NaN</td>\n      <td>NaN</td>\n      <td>NaN</td>\n      <td>NaN</td>\n      <td>NaN</td>\n    </tr>\n    <tr>\n      <th>1</th>\n      <td>https://m2.ru/sankt-peterburg/nedvizhimost/pro...</td>\n      <td>Продажа 1-комнатной квартиры 53,3 м², 1/6 этаж</td>\n      <td>Санкт-Петербург, Петроградский район, Петровск...</td>\n      <td>32 700 000</td>\n      <td>1</td>\n      <td>NaN</td>\n      <td>53,3 м²</td>\n      <td>NaN</td>\n      <td>NaN</td>\n      <td>1 из 6</td>\n      <td>...</td>\n      <td>есть</td>\n      <td>есть</td>\n      <td>есть</td>\n      <td>2018</td>\n      <td>есть</td>\n      <td>NaN</td>\n      <td>NaN</td>\n      <td>NaN</td>\n      <td>NaN</td>\n      <td>NaN</td>\n    </tr>\n    <tr>\n      <th>2</th>\n      <td>https://m2.ru/sankt-peterburg/nedvizhimost/pro...</td>\n      <td>Продажа 1-комнатной квартиры 37,1 м², 3/9 этаж</td>\n      <td>Санкт-Петербург, Невский район, проспект Обухо...</td>\n      <td>11 750 289</td>\n      <td>1</td>\n      <td>чистовая</td>\n      <td>37,1 м²</td>\n      <td>17,3 м²</td>\n      <td>10,1 м²</td>\n      <td>3 из 9</td>\n      <td>...</td>\n      <td>NaN</td>\n      <td>NaN</td>\n      <td>NaN</td>\n      <td>NaN</td>\n      <td>NaN</td>\n      <td>кирпич-монолит</td>\n      <td>NaN</td>\n      <td>NaN</td>\n      <td>NaN</td>\n      <td>NaN</td>\n    </tr>\n    <tr>\n      <th>3</th>\n      <td>https://m2.ru/sankt-peterburg/nedvizhimost/pro...</td>\n      <td>Продажа 2-комнатной квартиры 67,4 м², 6/12 этаж</td>\n      <td>Санкт-Петербург, Красносельский район, Ленинск...</td>\n      <td>12 500 000</td>\n      <td>2</td>\n      <td>NaN</td>\n      <td>67,4 м²</td>\n      <td>34,4 м²</td>\n      <td>15,4 м²</td>\n      <td>6 из 12</td>\n      <td>...</td>\n      <td>есть</td>\n      <td>NaN</td>\n      <td>есть</td>\n      <td>NaN</td>\n      <td>есть</td>\n      <td>монолит</td>\n      <td>центральное</td>\n      <td>NaN</td>\n      <td>NaN</td>\n      <td>NaN</td>\n    </tr>\n    <tr>\n      <th>4</th>\n      <td>https://m2.ru/sankt-peterburg/nedvizhimost/pro...</td>\n      <td>Продажа 2-комнатной квартиры 63,1 м², 8/8 этаж</td>\n      <td>Санкт-Петербург, Московский район, Черниговска...</td>\n      <td>17 490 000</td>\n      <td>2</td>\n      <td>NaN</td>\n      <td>63,1 м²</td>\n      <td>33,2 м²</td>\n      <td>10,2 м²</td>\n      <td>8 из 8</td>\n      <td>...</td>\n      <td>NaN</td>\n      <td>NaN</td>\n      <td>NaN</td>\n      <td>2023</td>\n      <td>NaN</td>\n      <td>кирпич-монолит</td>\n      <td>NaN</td>\n      <td>NaN</td>\n      <td>NaN</td>\n      <td>NaN</td>\n    </tr>\n    <tr>\n      <th>...</th>\n      <td>...</td>\n      <td>...</td>\n      <td>...</td>\n      <td>...</td>\n      <td>...</td>\n      <td>...</td>\n      <td>...</td>\n      <td>...</td>\n      <td>...</td>\n      <td>...</td>\n      <td>...</td>\n      <td>...</td>\n      <td>...</td>\n      <td>...</td>\n      <td>...</td>\n      <td>...</td>\n      <td>...</td>\n      <td>...</td>\n      <td>...</td>\n      <td>...</td>\n      <td>...</td>\n    </tr>\n    <tr>\n      <th>9995</th>\n      <td>https://m2.ru/sankt-peterburg/nedvizhimost/pro...</td>\n      <td>Продажа квартиры-студии 30,2 м², 5/23 этаж</td>\n      <td>Санкт-Петербург, Выборгский район, Парголово, ...</td>\n      <td>6 447 519</td>\n      <td>NaN</td>\n      <td>предчистовая</td>\n      <td>30,2 м²</td>\n      <td>19,1 м²</td>\n      <td>NaN</td>\n      <td>5 из 23</td>\n      <td>...</td>\n      <td>NaN</td>\n      <td>NaN</td>\n      <td>NaN</td>\n      <td>2022</td>\n      <td>NaN</td>\n      <td>NaN</td>\n      <td>NaN</td>\n      <td>NaN</td>\n      <td>NaN</td>\n      <td>NaN</td>\n    </tr>\n    <tr>\n      <th>9996</th>\n      <td>https://m2.ru/sankt-peterburg/nedvizhimost/pro...</td>\n      <td>Продажа квартиры-студии 33,1 м², 15/25 этаж</td>\n      <td>Санкт-Петербург, Приморский район, Богатырский...</td>\n      <td>8 400 000</td>\n      <td>NaN</td>\n      <td>NaN</td>\n      <td>33,1 м²</td>\n      <td>21,4 м²</td>\n      <td>NaN</td>\n      <td>15 из 25</td>\n      <td>...</td>\n      <td>NaN</td>\n      <td>NaN</td>\n      <td>NaN</td>\n      <td>2022</td>\n      <td>NaN</td>\n      <td>кирпич-монолит</td>\n      <td>NaN</td>\n      <td>NaN</td>\n      <td>NaN</td>\n      <td>NaN</td>\n    </tr>\n    <tr>\n      <th>9997</th>\n      <td>https://m2.ru/sankt-peterburg/nedvizhimost/pro...</td>\n      <td>Продажа квартиры-студии 30,4 м², 4/6 этаж</td>\n      <td>Санкт-Петербург, Московский район, улица Коли ...</td>\n      <td>7 476 000</td>\n      <td>NaN</td>\n      <td>NaN</td>\n      <td>30,4 м²</td>\n      <td>17,9 м²</td>\n      <td>NaN</td>\n      <td>4 из 6</td>\n      <td>...</td>\n      <td>NaN</td>\n      <td>NaN</td>\n      <td>NaN</td>\n      <td>NaN</td>\n      <td>NaN</td>\n      <td>кирпич</td>\n      <td>NaN</td>\n      <td>NaN</td>\n      <td>NaN</td>\n      <td>NaN</td>\n    </tr>\n    <tr>\n      <th>9998</th>\n      <td>https://m2.ru/sankt-peterburg/nedvizhimost/pro...</td>\n      <td>Продажа 2-комнатной квартиры 45 м², 6/9 этаж</td>\n      <td>Санкт-Петербург, Выборгский район, Выборгское ...</td>\n      <td>6 600 000</td>\n      <td>2</td>\n      <td>NaN</td>\n      <td>45 м²</td>\n      <td>27,5 м²</td>\n      <td>6,4 м²</td>\n      <td>6 из 9</td>\n      <td>...</td>\n      <td>NaN</td>\n      <td>NaN</td>\n      <td>NaN</td>\n      <td>NaN</td>\n      <td>NaN</td>\n      <td>NaN</td>\n      <td>NaN</td>\n      <td>NaN</td>\n      <td>NaN</td>\n      <td>NaN</td>\n    </tr>\n    <tr>\n      <th>9999</th>\n      <td>https://m2.ru/sankt-peterburg/nedvizhimost/pro...</td>\n      <td>Продажа квартиры-студии 23,3 м², 3/13 этаж</td>\n      <td>Санкт-Петербург, Приморский район, Глухарская ...</td>\n      <td>5 062 938</td>\n      <td>NaN</td>\n      <td>NaN</td>\n      <td>23,3 м²</td>\n      <td>14,1 м²</td>\n      <td>NaN</td>\n      <td>3 из 13</td>\n      <td>...</td>\n      <td>NaN</td>\n      <td>NaN</td>\n      <td>NaN</td>\n      <td>NaN</td>\n      <td>NaN</td>\n      <td>кирпич-монолит</td>\n      <td>NaN</td>\n      <td>NaN</td>\n      <td>NaN</td>\n      <td>NaN</td>\n    </tr>\n  </tbody>\n</table>\n<p>10000 rows × 36 columns</p>\n</div>"
     },
     "execution_count": 131,
     "metadata": {},
     "output_type": "execute_result"
    }
   ],
   "source": [
    "flats_all"
   ],
   "metadata": {
    "collapsed": false,
    "ExecuteTime": {
     "end_time": "2023-06-30T20:05:56.455755Z",
     "start_time": "2023-06-30T20:05:56.411824Z"
    }
   }
  },
  {
   "cell_type": "markdown",
   "source": [],
   "metadata": {
    "collapsed": false
   }
  },
  {
   "cell_type": "code",
   "execution_count": 132,
   "outputs": [],
   "source": [
    "flats_all.to_csv('data/raw_data_from_metr2_2023.csv',sep=';',index=False)"
   ],
   "metadata": {
    "collapsed": false,
    "ExecuteTime": {
     "end_time": "2023-06-30T20:06:08.161054Z",
     "start_time": "2023-06-30T20:06:07.981456Z"
    }
   }
  },
  {
   "cell_type": "markdown",
   "source": [
    "<h2>Почистим данные</h2>"
   ],
   "metadata": {
    "collapsed": false
   }
  },
  {
   "cell_type": "code",
   "execution_count": 23,
   "outputs": [],
   "source": [
    "import pandas as pd\n",
    "flats = pd.read_csv('data/raw_data_from_metr2_2023.csv',sep=';')"
   ],
   "metadata": {
    "collapsed": false,
    "ExecuteTime": {
     "end_time": "2023-07-06T13:48:48.557092Z",
     "start_time": "2023-07-06T13:48:48.428639Z"
    }
   }
  },
  {
   "cell_type": "code",
   "execution_count": 24,
   "outputs": [
    {
     "data": {
      "text/plain": "(9193, 36)"
     },
     "execution_count": 24,
     "metadata": {},
     "output_type": "execute_result"
    }
   ],
   "source": [
    "flats.drop_duplicates(ignore_index=True,inplace=True)\n",
    "flats.shape"
   ],
   "metadata": {
    "collapsed": false,
    "ExecuteTime": {
     "end_time": "2023-07-06T13:49:20.872770Z",
     "start_time": "2023-07-06T13:49:20.808911Z"
    }
   }
  },
  {
   "cell_type": "code",
   "execution_count": 25,
   "outputs": [
    {
     "name": "stdout",
     "output_type": "stream",
     "text": [
      "<class 'pandas.core.frame.DataFrame'>\n",
      "RangeIndex: 9193 entries, 0 to 9192\n",
      "Data columns (total 36 columns):\n",
      " #   Column             Non-Null Count  Dtype  \n",
      "---  ------             --------------  -----  \n",
      " 0   Ссылка             9193 non-null   object \n",
      " 1   Название           9193 non-null   object \n",
      " 2   Адрес              9193 non-null   object \n",
      " 3   Цена               9193 non-null   object \n",
      " 4   Комнат             7517 non-null   float64\n",
      " 5   Отделка            3732 non-null   object \n",
      " 6   Площадь квартиры   9193 non-null   object \n",
      " 7   Жилая площадь      8794 non-null   object \n",
      " 8   Площадь кухни      6985 non-null   object \n",
      " 9   Этаж               9192 non-null   object \n",
      " 10  Санузел            6600 non-null   object \n",
      " 11  Кол-во санузлов    6909 non-null   float64\n",
      " 12  Балкон/лоджия      6349 non-null   object \n",
      " 13  Вид из окна        3919 non-null   object \n",
      " 14  Срок сдачи         3889 non-null   object \n",
      " 15  Высота потолков    6697 non-null   object \n",
      " 16  Лифт               5704 non-null   object \n",
      " 17  Парковка           4605 non-null   object \n",
      " 18  Территория         2001 non-null   object \n",
      " 19  Тип жилья          175 non-null    object \n",
      " 20  Ремонт             1514 non-null   object \n",
      " 21  Кондиционер        63 non-null     object \n",
      " 22  Посудомойка        145 non-null    object \n",
      " 23  Холодильник        310 non-null    object \n",
      " 24  Мебель             994 non-null    object \n",
      " 25  Интернет           2545 non-null   object \n",
      " 26  Кухонная мебель    797 non-null    object \n",
      " 27  Телевизор          155 non-null    object \n",
      " 28  Стиральная машина  297 non-null    object \n",
      " 29  Год постройки      2504 non-null   float64\n",
      " 30  Консьерж           239 non-null    object \n",
      " 31  Материал стен      8136 non-null   object \n",
      " 32  Отопление          2561 non-null   object \n",
      " 33  Вид из окон        315 non-null    object \n",
      " 34  Серия дома         1403 non-null   object \n",
      " 35  Временная эпоха    1346 non-null   object \n",
      "dtypes: float64(3), object(33)\n",
      "memory usage: 2.5+ MB\n"
     ]
    }
   ],
   "source": [
    "flats.info()"
   ],
   "metadata": {
    "collapsed": false,
    "ExecuteTime": {
     "end_time": "2023-07-06T13:49:28.925486Z",
     "start_time": "2023-07-06T13:49:28.900713Z"
    }
   }
  },
  {
   "cell_type": "code",
   "execution_count": 26,
   "outputs": [
    {
     "data": {
      "text/plain": "0    Санкт-Петербург, Выборгский район, Большой Сам...\n1    Санкт-Петербург, Петроградский район, Петровск...\n2    Санкт-Петербург, Невский район, проспект Обухо...\n3    Санкт-Петербург, Красносельский район, Ленинск...\n4    Санкт-Петербург, Московский район, Черниговска...\nName: Адрес, dtype: object"
     },
     "execution_count": 26,
     "metadata": {},
     "output_type": "execute_result"
    }
   ],
   "source": [
    "flats['Адрес'].head()"
   ],
   "metadata": {
    "collapsed": false,
    "ExecuteTime": {
     "end_time": "2023-07-06T13:49:39.151099Z",
     "start_time": "2023-07-06T13:49:39.140175Z"
    }
   }
  },
  {
   "cell_type": "code",
   "execution_count": 27,
   "outputs": [
    {
     "data": {
      "text/plain": "                    0                      1  \\\n0     Санкт-Петербург       Выборгский район   \n1     Санкт-Петербург    Петроградский район   \n2     Санкт-Петербург          Невский район   \n3     Санкт-Петербург   Красносельский район   \n4     Санкт-Петербург       Московский район   \n...               ...                    ...   \n9188  Санкт-Петербург   Адмиралтейский район   \n9189  Санкт-Петербург      Фрунзенский район   \n9190  Санкт-Петербург       Выборгский район   \n9191  Санкт-Петербург       Приморский район   \n9192  Санкт-Петербург       Приморский район   \n\n                                     2                   3      4     5  \n0      Большой Сампсониевский проспект                   7   None  None  \n1                  Петровский проспект                 2с2   None  None  \n2          проспект Обуховской Обороны                None   None  None  \n3                   Ленинский проспект                72к1   None  None  \n4                   Черниговская улица                11к1   None  None  \n...                                ...                 ...    ...   ...  \n9188                 Спасский переулок                 6-8   None  None  \n9189                Бухарестская улица                72к1   None  None  \n9190                         Парголово   Ольгинская дорога   3/20  None  \n9191              Богатырский проспект                  2А   None  None  \n9192                  Глухарская улица                  30   None  None  \n\n[9193 rows x 6 columns]",
      "text/html": "<div>\n<style scoped>\n    .dataframe tbody tr th:only-of-type {\n        vertical-align: middle;\n    }\n\n    .dataframe tbody tr th {\n        vertical-align: top;\n    }\n\n    .dataframe thead th {\n        text-align: right;\n    }\n</style>\n<table border=\"1\" class=\"dataframe\">\n  <thead>\n    <tr style=\"text-align: right;\">\n      <th></th>\n      <th>0</th>\n      <th>1</th>\n      <th>2</th>\n      <th>3</th>\n      <th>4</th>\n      <th>5</th>\n    </tr>\n  </thead>\n  <tbody>\n    <tr>\n      <th>0</th>\n      <td>Санкт-Петербург</td>\n      <td>Выборгский район</td>\n      <td>Большой Сампсониевский проспект</td>\n      <td>7</td>\n      <td>None</td>\n      <td>None</td>\n    </tr>\n    <tr>\n      <th>1</th>\n      <td>Санкт-Петербург</td>\n      <td>Петроградский район</td>\n      <td>Петровский проспект</td>\n      <td>2с2</td>\n      <td>None</td>\n      <td>None</td>\n    </tr>\n    <tr>\n      <th>2</th>\n      <td>Санкт-Петербург</td>\n      <td>Невский район</td>\n      <td>проспект Обуховской Обороны</td>\n      <td>None</td>\n      <td>None</td>\n      <td>None</td>\n    </tr>\n    <tr>\n      <th>3</th>\n      <td>Санкт-Петербург</td>\n      <td>Красносельский район</td>\n      <td>Ленинский проспект</td>\n      <td>72к1</td>\n      <td>None</td>\n      <td>None</td>\n    </tr>\n    <tr>\n      <th>4</th>\n      <td>Санкт-Петербург</td>\n      <td>Московский район</td>\n      <td>Черниговская улица</td>\n      <td>11к1</td>\n      <td>None</td>\n      <td>None</td>\n    </tr>\n    <tr>\n      <th>...</th>\n      <td>...</td>\n      <td>...</td>\n      <td>...</td>\n      <td>...</td>\n      <td>...</td>\n      <td>...</td>\n    </tr>\n    <tr>\n      <th>9188</th>\n      <td>Санкт-Петербург</td>\n      <td>Адмиралтейский район</td>\n      <td>Спасский переулок</td>\n      <td>6-8</td>\n      <td>None</td>\n      <td>None</td>\n    </tr>\n    <tr>\n      <th>9189</th>\n      <td>Санкт-Петербург</td>\n      <td>Фрунзенский район</td>\n      <td>Бухарестская улица</td>\n      <td>72к1</td>\n      <td>None</td>\n      <td>None</td>\n    </tr>\n    <tr>\n      <th>9190</th>\n      <td>Санкт-Петербург</td>\n      <td>Выборгский район</td>\n      <td>Парголово</td>\n      <td>Ольгинская дорога</td>\n      <td>3/20</td>\n      <td>None</td>\n    </tr>\n    <tr>\n      <th>9191</th>\n      <td>Санкт-Петербург</td>\n      <td>Приморский район</td>\n      <td>Богатырский проспект</td>\n      <td>2А</td>\n      <td>None</td>\n      <td>None</td>\n    </tr>\n    <tr>\n      <th>9192</th>\n      <td>Санкт-Петербург</td>\n      <td>Приморский район</td>\n      <td>Глухарская улица</td>\n      <td>30</td>\n      <td>None</td>\n      <td>None</td>\n    </tr>\n  </tbody>\n</table>\n<p>9193 rows × 6 columns</p>\n</div>"
     },
     "execution_count": 27,
     "metadata": {},
     "output_type": "execute_result"
    }
   ],
   "source": [
    "# попробуем split\n",
    "flats['Адрес'].str.split(',', expand=True)"
   ],
   "metadata": {
    "collapsed": false,
    "ExecuteTime": {
     "end_time": "2023-07-06T13:49:40.932381Z",
     "start_time": "2023-07-06T13:49:40.891227Z"
    }
   }
  },
  {
   "cell_type": "markdown",
   "source": [
    "Как раскидать адрес:\n",
    "- первая колонка - всегда город\n",
    "- вторая колонка - всегда район\n",
    "- улицы и номера дома может не быть\n",
    "- улица может быть в последней заполненной колонке или в колонке до номера дома\n",
    "- номер дома всегда последний и содержит цифры\n",
    "- все остальное не нужно"
   ],
   "metadata": {
    "collapsed": false
   }
  },
  {
   "cell_type": "code",
   "execution_count": 28,
   "outputs": [],
   "source": [
    "import re\n",
    "temp_addr = flats['Адрес'].str.split(',')\n",
    "flats['Город'] = [a[0] for a in temp_addr]\n",
    "flats['Район'] = [a[1] for a in temp_addr]\n",
    "temp_addr = [a[2:] for a in temp_addr]\n",
    "flats['Улица'] = ['' if len(a)==0 else a[0] if len(a)==1 else a[-2] for a in temp_addr]\n",
    "flats['Номер дома'] = [a[-1] if len(a)>0 else '' for a in temp_addr]\n",
    "flats['Номер дома'] = flats['Номер дома'].apply(lambda a:a if bool(re.search(r'\\d',a)) else '')"
   ],
   "metadata": {
    "collapsed": false,
    "ExecuteTime": {
     "end_time": "2023-07-06T13:49:43.543343Z",
     "start_time": "2023-07-06T13:49:43.521393Z"
    }
   }
  },
  {
   "cell_type": "code",
   "execution_count": 29,
   "outputs": [
    {
     "data": {
      "text/plain": "                                                  Адрес            Город  \\\n0     Санкт-Петербург, Выборгский район, Большой Сам...  Санкт-Петербург   \n1     Санкт-Петербург, Петроградский район, Петровск...  Санкт-Петербург   \n2     Санкт-Петербург, Невский район, проспект Обухо...  Санкт-Петербург   \n3     Санкт-Петербург, Красносельский район, Ленинск...  Санкт-Петербург   \n4     Санкт-Петербург, Московский район, Черниговска...  Санкт-Петербург   \n...                                                 ...              ...   \n9188  Санкт-Петербург, Адмиралтейский район, Спасски...  Санкт-Петербург   \n9189  Санкт-Петербург, Фрунзенский район, Бухарестск...  Санкт-Петербург   \n9190  Санкт-Петербург, Выборгский район, Парголово, ...  Санкт-Петербург   \n9191  Санкт-Петербург, Приморский район, Богатырский...  Санкт-Петербург   \n9192  Санкт-Петербург, Приморский район, Глухарская ...  Санкт-Петербург   \n\n                      Район                             Улица Номер дома  \n0          Выборгский район   Большой Сампсониевский проспект          7  \n1       Петроградский район               Петровский проспект        2с2  \n2             Невский район       проспект Обуховской Обороны             \n3      Красносельский район                Ленинский проспект       72к1  \n4          Московский район                Черниговская улица       11к1  \n...                     ...                               ...        ...  \n9188   Адмиралтейский район                 Спасский переулок        6-8  \n9189      Фрунзенский район                Бухарестская улица       72к1  \n9190       Выборгский район                 Ольгинская дорога       3/20  \n9191       Приморский район              Богатырский проспект         2А  \n9192       Приморский район                  Глухарская улица         30  \n\n[9193 rows x 5 columns]",
      "text/html": "<div>\n<style scoped>\n    .dataframe tbody tr th:only-of-type {\n        vertical-align: middle;\n    }\n\n    .dataframe tbody tr th {\n        vertical-align: top;\n    }\n\n    .dataframe thead th {\n        text-align: right;\n    }\n</style>\n<table border=\"1\" class=\"dataframe\">\n  <thead>\n    <tr style=\"text-align: right;\">\n      <th></th>\n      <th>Адрес</th>\n      <th>Город</th>\n      <th>Район</th>\n      <th>Улица</th>\n      <th>Номер дома</th>\n    </tr>\n  </thead>\n  <tbody>\n    <tr>\n      <th>0</th>\n      <td>Санкт-Петербург, Выборгский район, Большой Сам...</td>\n      <td>Санкт-Петербург</td>\n      <td>Выборгский район</td>\n      <td>Большой Сампсониевский проспект</td>\n      <td>7</td>\n    </tr>\n    <tr>\n      <th>1</th>\n      <td>Санкт-Петербург, Петроградский район, Петровск...</td>\n      <td>Санкт-Петербург</td>\n      <td>Петроградский район</td>\n      <td>Петровский проспект</td>\n      <td>2с2</td>\n    </tr>\n    <tr>\n      <th>2</th>\n      <td>Санкт-Петербург, Невский район, проспект Обухо...</td>\n      <td>Санкт-Петербург</td>\n      <td>Невский район</td>\n      <td>проспект Обуховской Обороны</td>\n      <td></td>\n    </tr>\n    <tr>\n      <th>3</th>\n      <td>Санкт-Петербург, Красносельский район, Ленинск...</td>\n      <td>Санкт-Петербург</td>\n      <td>Красносельский район</td>\n      <td>Ленинский проспект</td>\n      <td>72к1</td>\n    </tr>\n    <tr>\n      <th>4</th>\n      <td>Санкт-Петербург, Московский район, Черниговска...</td>\n      <td>Санкт-Петербург</td>\n      <td>Московский район</td>\n      <td>Черниговская улица</td>\n      <td>11к1</td>\n    </tr>\n    <tr>\n      <th>...</th>\n      <td>...</td>\n      <td>...</td>\n      <td>...</td>\n      <td>...</td>\n      <td>...</td>\n    </tr>\n    <tr>\n      <th>9188</th>\n      <td>Санкт-Петербург, Адмиралтейский район, Спасски...</td>\n      <td>Санкт-Петербург</td>\n      <td>Адмиралтейский район</td>\n      <td>Спасский переулок</td>\n      <td>6-8</td>\n    </tr>\n    <tr>\n      <th>9189</th>\n      <td>Санкт-Петербург, Фрунзенский район, Бухарестск...</td>\n      <td>Санкт-Петербург</td>\n      <td>Фрунзенский район</td>\n      <td>Бухарестская улица</td>\n      <td>72к1</td>\n    </tr>\n    <tr>\n      <th>9190</th>\n      <td>Санкт-Петербург, Выборгский район, Парголово, ...</td>\n      <td>Санкт-Петербург</td>\n      <td>Выборгский район</td>\n      <td>Ольгинская дорога</td>\n      <td>3/20</td>\n    </tr>\n    <tr>\n      <th>9191</th>\n      <td>Санкт-Петербург, Приморский район, Богатырский...</td>\n      <td>Санкт-Петербург</td>\n      <td>Приморский район</td>\n      <td>Богатырский проспект</td>\n      <td>2А</td>\n    </tr>\n    <tr>\n      <th>9192</th>\n      <td>Санкт-Петербург, Приморский район, Глухарская ...</td>\n      <td>Санкт-Петербург</td>\n      <td>Приморский район</td>\n      <td>Глухарская улица</td>\n      <td>30</td>\n    </tr>\n  </tbody>\n</table>\n<p>9193 rows × 5 columns</p>\n</div>"
     },
     "execution_count": 29,
     "metadata": {},
     "output_type": "execute_result"
    }
   ],
   "source": [
    "flats[['Адрес', 'Город', 'Район', 'Улица', 'Номер дома']]"
   ],
   "metadata": {
    "collapsed": false,
    "ExecuteTime": {
     "end_time": "2023-07-06T13:49:44.661614Z",
     "start_time": "2023-07-06T13:49:44.636299Z"
    }
   }
  },
  {
   "cell_type": "code",
   "execution_count": 30,
   "outputs": [
    {
     "data": {
      "text/plain": "0    10 500 000\n1    32 700 000\n2    11 750 289\n3    12 500 000\n4    17 490 000\nName: Цена, dtype: object"
     },
     "execution_count": 30,
     "metadata": {},
     "output_type": "execute_result"
    }
   ],
   "source": [
    "flats['Цена'].head()"
   ],
   "metadata": {
    "collapsed": false,
    "ExecuteTime": {
     "end_time": "2023-07-06T13:49:46.345031Z",
     "start_time": "2023-07-06T13:49:46.335820Z"
    }
   }
  },
  {
   "cell_type": "code",
   "execution_count": 31,
   "outputs": [
    {
     "data": {
      "text/plain": "0    10500000.0\n1    32700000.0\n2    11750289.0\n3    12500000.0\n4    17490000.0\nName: Цена, dtype: float64"
     },
     "execution_count": 31,
     "metadata": {},
     "output_type": "execute_result"
    }
   ],
   "source": [
    "flats['Цена'] = flats['Цена'].str.replace(' ','').astype(float)\n",
    "flats['Цена'].head()"
   ],
   "metadata": {
    "collapsed": false,
    "ExecuteTime": {
     "end_time": "2023-07-06T13:49:48.048249Z",
     "start_time": "2023-07-06T13:49:48.022615Z"
    }
   }
  },
  {
   "cell_type": "code",
   "execution_count": 32,
   "outputs": [
    {
     "data": {
      "text/plain": "0    1.0\n1    1.0\n2    1.0\n3    2.0\n4    2.0\nName: Комнат, dtype: float64"
     },
     "execution_count": 32,
     "metadata": {},
     "output_type": "execute_result"
    }
   ],
   "source": [
    "flats['Комнат'].head()"
   ],
   "metadata": {
    "collapsed": false,
    "ExecuteTime": {
     "end_time": "2023-07-06T13:49:49.645977Z",
     "start_time": "2023-07-06T13:49:49.619807Z"
    }
   }
  },
  {
   "cell_type": "code",
   "execution_count": 33,
   "outputs": [
    {
     "data": {
      "text/plain": "Комнат\n1     3558\n2     2390\n0     1676\n3     1310\n4      183\n5       44\n7       13\n6       12\n8        3\n11       1\n10       1\n13       1\n9        1\nName: count, dtype: int64"
     },
     "execution_count": 33,
     "metadata": {},
     "output_type": "execute_result"
    }
   ],
   "source": [
    "# 0 комнат - это похоже студия\n",
    "flats['Комнат'] = flats['Комнат'].fillna(0).astype(int)\n",
    "flats['Комнат'].value_counts()"
   ],
   "metadata": {
    "collapsed": false,
    "ExecuteTime": {
     "end_time": "2023-07-06T13:49:50.552655Z",
     "start_time": "2023-07-06T13:49:50.544262Z"
    }
   }
  },
  {
   "cell_type": "code",
   "execution_count": 34,
   "outputs": [
    {
     "data": {
      "text/plain": "0    чистовая\n1         NaN\n2    чистовая\n3         NaN\n4         NaN\nName: Отделка, dtype: object"
     },
     "execution_count": 34,
     "metadata": {},
     "output_type": "execute_result"
    }
   ],
   "source": [
    "flats['Отделка'].head()"
   ],
   "metadata": {
    "collapsed": false,
    "ExecuteTime": {
     "end_time": "2023-07-06T13:49:51.718093Z",
     "start_time": "2023-07-06T13:49:51.710602Z"
    }
   }
  },
  {
   "cell_type": "code",
   "execution_count": 35,
   "outputs": [
    {
     "data": {
      "text/plain": "Отделка\n                5461\nчистовая        2634\nбез отделки      927\nпредчистовая     171\nName: count, dtype: int64"
     },
     "execution_count": 35,
     "metadata": {},
     "output_type": "execute_result"
    }
   ],
   "source": [
    "flats['Отделка'] = flats['Отделка'].fillna('')\n",
    "flats['Отделка'].value_counts()"
   ],
   "metadata": {
    "collapsed": false,
    "ExecuteTime": {
     "end_time": "2023-07-06T13:49:52.369308Z",
     "start_time": "2023-07-06T13:49:52.359241Z"
    }
   }
  },
  {
   "cell_type": "code",
   "execution_count": 36,
   "outputs": [
    {
     "data": {
      "text/plain": "0      34 м²\n1    53,3 м²\n2    37,1 м²\n3    67,4 м²\n4    63,1 м²\nName: Площадь квартиры, dtype: object"
     },
     "execution_count": 36,
     "metadata": {},
     "output_type": "execute_result"
    }
   ],
   "source": [
    "flats['Площадь квартиры'].head()"
   ],
   "metadata": {
    "collapsed": false,
    "ExecuteTime": {
     "end_time": "2023-07-06T13:49:53.048235Z",
     "start_time": "2023-07-06T13:49:53.018890Z"
    }
   }
  },
  {
   "cell_type": "code",
   "execution_count": 37,
   "outputs": [
    {
     "data": {
      "text/plain": "         Цена  Площадь квартиры   Цена за метр\n0  10500000.0              34.0  308823.529412\n1  32700000.0              53.3  613508.442777\n2  11750289.0              37.1  316719.380054\n3  12500000.0              67.4  185459.940653\n4  17490000.0              63.1  277179.080824",
      "text/html": "<div>\n<style scoped>\n    .dataframe tbody tr th:only-of-type {\n        vertical-align: middle;\n    }\n\n    .dataframe tbody tr th {\n        vertical-align: top;\n    }\n\n    .dataframe thead th {\n        text-align: right;\n    }\n</style>\n<table border=\"1\" class=\"dataframe\">\n  <thead>\n    <tr style=\"text-align: right;\">\n      <th></th>\n      <th>Цена</th>\n      <th>Площадь квартиры</th>\n      <th>Цена за метр</th>\n    </tr>\n  </thead>\n  <tbody>\n    <tr>\n      <th>0</th>\n      <td>10500000.0</td>\n      <td>34.0</td>\n      <td>308823.529412</td>\n    </tr>\n    <tr>\n      <th>1</th>\n      <td>32700000.0</td>\n      <td>53.3</td>\n      <td>613508.442777</td>\n    </tr>\n    <tr>\n      <th>2</th>\n      <td>11750289.0</td>\n      <td>37.1</td>\n      <td>316719.380054</td>\n    </tr>\n    <tr>\n      <th>3</th>\n      <td>12500000.0</td>\n      <td>67.4</td>\n      <td>185459.940653</td>\n    </tr>\n    <tr>\n      <th>4</th>\n      <td>17490000.0</td>\n      <td>63.1</td>\n      <td>277179.080824</td>\n    </tr>\n  </tbody>\n</table>\n</div>"
     },
     "execution_count": 37,
     "metadata": {},
     "output_type": "execute_result"
    }
   ],
   "source": [
    "# Добавим сразу цену за метр\n",
    "flats['Площадь квартиры'] = flats['Площадь квартиры'].str.replace('м²','').str.replace(',','.').astype(float)\n",
    "flats['Цена за метр'] = flats['Цена'] / flats['Площадь квартиры']\n",
    "flats[['Цена', 'Площадь квартиры', 'Цена за метр']].head()"
   ],
   "metadata": {
    "collapsed": false,
    "ExecuteTime": {
     "end_time": "2023-07-06T13:49:53.726470Z",
     "start_time": "2023-07-06T13:49:53.693182Z"
    }
   }
  },
  {
   "cell_type": "code",
   "execution_count": 38,
   "outputs": [
    {
     "data": {
      "text/plain": "  Жилая площадь Площадь кухни\n0       16,2 м²       10,1 м²\n1           NaN           NaN\n2       17,3 м²       10,1 м²\n3       34,4 м²       15,4 м²\n4       33,2 м²       10,2 м²",
      "text/html": "<div>\n<style scoped>\n    .dataframe tbody tr th:only-of-type {\n        vertical-align: middle;\n    }\n\n    .dataframe tbody tr th {\n        vertical-align: top;\n    }\n\n    .dataframe thead th {\n        text-align: right;\n    }\n</style>\n<table border=\"1\" class=\"dataframe\">\n  <thead>\n    <tr style=\"text-align: right;\">\n      <th></th>\n      <th>Жилая площадь</th>\n      <th>Площадь кухни</th>\n    </tr>\n  </thead>\n  <tbody>\n    <tr>\n      <th>0</th>\n      <td>16,2 м²</td>\n      <td>10,1 м²</td>\n    </tr>\n    <tr>\n      <th>1</th>\n      <td>NaN</td>\n      <td>NaN</td>\n    </tr>\n    <tr>\n      <th>2</th>\n      <td>17,3 м²</td>\n      <td>10,1 м²</td>\n    </tr>\n    <tr>\n      <th>3</th>\n      <td>34,4 м²</td>\n      <td>15,4 м²</td>\n    </tr>\n    <tr>\n      <th>4</th>\n      <td>33,2 м²</td>\n      <td>10,2 м²</td>\n    </tr>\n  </tbody>\n</table>\n</div>"
     },
     "execution_count": 38,
     "metadata": {},
     "output_type": "execute_result"
    }
   ],
   "source": [
    "flats[['Жилая площадь','Площадь кухни']].head()"
   ],
   "metadata": {
    "collapsed": false,
    "ExecuteTime": {
     "end_time": "2023-07-06T13:49:54.930847Z",
     "start_time": "2023-07-06T13:49:54.923547Z"
    }
   }
  },
  {
   "cell_type": "code",
   "execution_count": 39,
   "outputs": [
    {
     "data": {
      "text/plain": "   Жилая площадь  Площадь кухни\n0           16.2           10.1\n1            0.0            0.0\n2           17.3           10.1\n3           34.4           15.4\n4           33.2           10.2",
      "text/html": "<div>\n<style scoped>\n    .dataframe tbody tr th:only-of-type {\n        vertical-align: middle;\n    }\n\n    .dataframe tbody tr th {\n        vertical-align: top;\n    }\n\n    .dataframe thead th {\n        text-align: right;\n    }\n</style>\n<table border=\"1\" class=\"dataframe\">\n  <thead>\n    <tr style=\"text-align: right;\">\n      <th></th>\n      <th>Жилая площадь</th>\n      <th>Площадь кухни</th>\n    </tr>\n  </thead>\n  <tbody>\n    <tr>\n      <th>0</th>\n      <td>16.2</td>\n      <td>10.1</td>\n    </tr>\n    <tr>\n      <th>1</th>\n      <td>0.0</td>\n      <td>0.0</td>\n    </tr>\n    <tr>\n      <th>2</th>\n      <td>17.3</td>\n      <td>10.1</td>\n    </tr>\n    <tr>\n      <th>3</th>\n      <td>34.4</td>\n      <td>15.4</td>\n    </tr>\n    <tr>\n      <th>4</th>\n      <td>33.2</td>\n      <td>10.2</td>\n    </tr>\n  </tbody>\n</table>\n</div>"
     },
     "execution_count": 39,
     "metadata": {},
     "output_type": "execute_result"
    }
   ],
   "source": [
    "flats['Жилая площадь'] = flats['Жилая площадь'].str.replace('м²','').str.replace(',','.').fillna(0).astype(float)\n",
    "flats['Площадь кухни'] = flats['Площадь кухни'].str.replace('м²','').str.replace(',','.').fillna(0).astype(float)\n",
    "flats[['Жилая площадь','Площадь кухни']].head()"
   ],
   "metadata": {
    "collapsed": false,
    "ExecuteTime": {
     "end_time": "2023-07-06T13:49:55.892131Z",
     "start_time": "2023-07-06T13:49:55.862808Z"
    }
   }
  },
  {
   "cell_type": "code",
   "execution_count": 40,
   "outputs": [
    {
     "data": {
      "text/plain": "0    9 из 12\n1     1 из 6\n2     3 из 9\n3    6 из 12\n4     8 из 8\nName: Этаж, dtype: object"
     },
     "execution_count": 40,
     "metadata": {},
     "output_type": "execute_result"
    }
   ],
   "source": [
    "flats['Этаж'].head()"
   ],
   "metadata": {
    "collapsed": false,
    "ExecuteTime": {
     "end_time": "2023-07-06T13:49:56.747025Z",
     "start_time": "2023-07-06T13:49:56.738774Z"
    }
   }
  },
  {
   "cell_type": "code",
   "execution_count": 41,
   "outputs": [
    {
     "data": {
      "text/plain": "   Всего этажей  Этаж\n0            12     9\n1             6     1\n2             9     3\n3            12     6\n4             8     8",
      "text/html": "<div>\n<style scoped>\n    .dataframe tbody tr th:only-of-type {\n        vertical-align: middle;\n    }\n\n    .dataframe tbody tr th {\n        vertical-align: top;\n    }\n\n    .dataframe thead th {\n        text-align: right;\n    }\n</style>\n<table border=\"1\" class=\"dataframe\">\n  <thead>\n    <tr style=\"text-align: right;\">\n      <th></th>\n      <th>Всего этажей</th>\n      <th>Этаж</th>\n    </tr>\n  </thead>\n  <tbody>\n    <tr>\n      <th>0</th>\n      <td>12</td>\n      <td>9</td>\n    </tr>\n    <tr>\n      <th>1</th>\n      <td>6</td>\n      <td>1</td>\n    </tr>\n    <tr>\n      <th>2</th>\n      <td>9</td>\n      <td>3</td>\n    </tr>\n    <tr>\n      <th>3</th>\n      <td>12</td>\n      <td>6</td>\n    </tr>\n    <tr>\n      <th>4</th>\n      <td>8</td>\n      <td>8</td>\n    </tr>\n  </tbody>\n</table>\n</div>"
     },
     "execution_count": 41,
     "metadata": {},
     "output_type": "execute_result"
    }
   ],
   "source": [
    "flats['Всего этажей'] = flats['Этаж'].str.extract(r'из (.*)').fillna(0).astype(int)\n",
    "flats['Этаж'] = flats['Этаж'].str.extract(r'(.*?) из').fillna(0).astype(int)\n",
    "flats[['Всего этажей','Этаж']].head()"
   ],
   "metadata": {
    "collapsed": false,
    "ExecuteTime": {
     "end_time": "2023-07-06T13:49:57.571777Z",
     "start_time": "2023-07-06T13:49:57.526942Z"
    }
   }
  },
  {
   "cell_type": "code",
   "execution_count": 42,
   "outputs": [
    {
     "data": {
      "text/plain": "0    совмещённый\n1    совмещённый\n2            NaN\n3     раздельный\n4     раздельный\nName: Санузел, dtype: object"
     },
     "execution_count": 42,
     "metadata": {},
     "output_type": "execute_result"
    }
   ],
   "source": [
    "flats['Санузел'].head()"
   ],
   "metadata": {
    "collapsed": false,
    "ExecuteTime": {
     "end_time": "2023-07-06T13:49:58.561169Z",
     "start_time": "2023-07-06T13:49:58.528065Z"
    }
   }
  },
  {
   "cell_type": "code",
   "execution_count": 43,
   "outputs": [
    {
     "data": {
      "text/plain": "Санузел\nраздельный     4019\n               2593\nсовмещённый    2581\nName: count, dtype: int64"
     },
     "execution_count": 43,
     "metadata": {},
     "output_type": "execute_result"
    }
   ],
   "source": [
    "flats['Санузел'] = flats['Санузел'].fillna('')\n",
    "flats['Санузел'].value_counts()"
   ],
   "metadata": {
    "collapsed": false,
    "ExecuteTime": {
     "end_time": "2023-07-06T13:49:59.970490Z",
     "start_time": "2023-07-06T13:49:59.963636Z"
    }
   }
  },
  {
   "cell_type": "code",
   "execution_count": 44,
   "outputs": [
    {
     "data": {
      "text/plain": "0    1.0\n1    1.0\n2    NaN\n3    2.0\n4    1.0\nName: Кол-во санузлов, dtype: float64"
     },
     "execution_count": 44,
     "metadata": {},
     "output_type": "execute_result"
    }
   ],
   "source": [
    "flats['Кол-во санузлов'].head()"
   ],
   "metadata": {
    "collapsed": false,
    "ExecuteTime": {
     "end_time": "2023-07-06T13:50:00.626357Z",
     "start_time": "2023-07-06T13:50:00.616015Z"
    }
   }
  },
  {
   "cell_type": "code",
   "execution_count": 45,
   "outputs": [
    {
     "data": {
      "text/plain": "Кол-во санузлов\n1.0           6488\nНеизвестно    2284\n2.0            318\n3.0             94\n4.0              8\n5.0              1\nName: count, dtype: int64"
     },
     "execution_count": 45,
     "metadata": {},
     "output_type": "execute_result"
    }
   ],
   "source": [
    "flats['Кол-во санузлов'] = flats['Кол-во санузлов'].fillna('Неизвестно')\n",
    "flats['Кол-во санузлов'].value_counts()"
   ],
   "metadata": {
    "collapsed": false,
    "ExecuteTime": {
     "end_time": "2023-07-06T13:50:02.616328Z",
     "start_time": "2023-07-06T13:50:02.605492Z"
    }
   }
  },
  {
   "cell_type": "code",
   "execution_count": 46,
   "outputs": [
    {
     "data": {
      "text/plain": "0    есть\n1     NaN\n2    есть\n3    есть\n4    есть\nName: Балкон/лоджия, dtype: object"
     },
     "execution_count": 46,
     "metadata": {},
     "output_type": "execute_result"
    }
   ],
   "source": [
    "flats['Балкон/лоджия'].head()"
   ],
   "metadata": {
    "collapsed": false,
    "ExecuteTime": {
     "end_time": "2023-07-06T13:50:04.602292Z",
     "start_time": "2023-07-06T13:50:04.593801Z"
    }
   }
  },
  {
   "cell_type": "code",
   "execution_count": 47,
   "outputs": [
    {
     "data": {
      "text/plain": "Балкон/лоджия\nесть    6349\nнет     2844\nName: count, dtype: int64"
     },
     "execution_count": 47,
     "metadata": {},
     "output_type": "execute_result"
    }
   ],
   "source": [
    "flats['Балкон/лоджия'] = flats['Балкон/лоджия'].fillna('нет')\n",
    "flats['Балкон/лоджия'].value_counts()"
   ],
   "metadata": {
    "collapsed": false,
    "ExecuteTime": {
     "end_time": "2023-07-06T13:50:05.951027Z",
     "start_time": "2023-07-06T13:50:05.931380Z"
    }
   }
  },
  {
   "cell_type": "code",
   "execution_count": 48,
   "outputs": [
    {
     "data": {
      "text/plain": "0    на улицу\n1     во двор\n2         NaN\n3    на улицу\n4    на улицу\nName: Вид из окна, dtype: object"
     },
     "execution_count": 48,
     "metadata": {},
     "output_type": "execute_result"
    }
   ],
   "source": [
    "flats['Вид из окна'].head()"
   ],
   "metadata": {
    "collapsed": false,
    "ExecuteTime": {
     "end_time": "2023-07-06T13:50:06.696285Z",
     "start_time": "2023-07-06T13:50:06.687496Z"
    }
   }
  },
  {
   "cell_type": "code",
   "execution_count": 49,
   "outputs": [
    {
     "data": {
      "text/plain": "Вид из окна\nНеизвестно    5274\nво двор       3097\nна улицу       822\nName: count, dtype: int64"
     },
     "execution_count": 49,
     "metadata": {},
     "output_type": "execute_result"
    }
   ],
   "source": [
    "flats['Вид из окна'] = flats['Вид из окна'].fillna('Неизвестно')\n",
    "flats['Вид из окна'].value_counts()"
   ],
   "metadata": {
    "collapsed": false,
    "ExecuteTime": {
     "end_time": "2023-07-06T13:50:07.470141Z",
     "start_time": "2023-07-06T13:50:07.462215Z"
    }
   }
  },
  {
   "cell_type": "code",
   "execution_count": 50,
   "outputs": [
    {
     "data": {
      "text/plain": "      Срок сдачи  Год постройки\n0  3 кв. 2023 г.            NaN\n1            NaN         2018.0\n2  2 кв. 2025 г.            NaN\n3            NaN            NaN\n4            NaN         2023.0",
      "text/html": "<div>\n<style scoped>\n    .dataframe tbody tr th:only-of-type {\n        vertical-align: middle;\n    }\n\n    .dataframe tbody tr th {\n        vertical-align: top;\n    }\n\n    .dataframe thead th {\n        text-align: right;\n    }\n</style>\n<table border=\"1\" class=\"dataframe\">\n  <thead>\n    <tr style=\"text-align: right;\">\n      <th></th>\n      <th>Срок сдачи</th>\n      <th>Год постройки</th>\n    </tr>\n  </thead>\n  <tbody>\n    <tr>\n      <th>0</th>\n      <td>3 кв. 2023 г.</td>\n      <td>NaN</td>\n    </tr>\n    <tr>\n      <th>1</th>\n      <td>NaN</td>\n      <td>2018.0</td>\n    </tr>\n    <tr>\n      <th>2</th>\n      <td>2 кв. 2025 г.</td>\n      <td>NaN</td>\n    </tr>\n    <tr>\n      <th>3</th>\n      <td>NaN</td>\n      <td>NaN</td>\n    </tr>\n    <tr>\n      <th>4</th>\n      <td>NaN</td>\n      <td>2023.0</td>\n    </tr>\n  </tbody>\n</table>\n</div>"
     },
     "execution_count": 50,
     "metadata": {},
     "output_type": "execute_result"
    }
   ],
   "source": [
    "flats[['Срок сдачи', 'Год постройки']].head()"
   ],
   "metadata": {
    "collapsed": false,
    "ExecuteTime": {
     "end_time": "2023-07-06T13:50:08.177379Z",
     "start_time": "2023-07-06T13:50:08.170974Z"
    }
   }
  },
  {
   "cell_type": "code",
   "execution_count": 51,
   "outputs": [
    {
     "data": {
      "text/plain": "      Срок сдачи  Год постройки\n0  3 кв. 2023 г.           2023\n1                          2018\n2  2 кв. 2025 г.           2025\n3                             0\n4                          2023",
      "text/html": "<div>\n<style scoped>\n    .dataframe tbody tr th:only-of-type {\n        vertical-align: middle;\n    }\n\n    .dataframe tbody tr th {\n        vertical-align: top;\n    }\n\n    .dataframe thead th {\n        text-align: right;\n    }\n</style>\n<table border=\"1\" class=\"dataframe\">\n  <thead>\n    <tr style=\"text-align: right;\">\n      <th></th>\n      <th>Срок сдачи</th>\n      <th>Год постройки</th>\n    </tr>\n  </thead>\n  <tbody>\n    <tr>\n      <th>0</th>\n      <td>3 кв. 2023 г.</td>\n      <td>2023</td>\n    </tr>\n    <tr>\n      <th>1</th>\n      <td></td>\n      <td>2018</td>\n    </tr>\n    <tr>\n      <th>2</th>\n      <td>2 кв. 2025 г.</td>\n      <td>2025</td>\n    </tr>\n    <tr>\n      <th>3</th>\n      <td></td>\n      <td>0</td>\n    </tr>\n    <tr>\n      <th>4</th>\n      <td></td>\n      <td>2023</td>\n    </tr>\n  </tbody>\n</table>\n</div>"
     },
     "execution_count": 51,
     "metadata": {},
     "output_type": "execute_result"
    }
   ],
   "source": [
    "flats['Срок сдачи'] = flats['Срок сдачи'].fillna('')\n",
    "def year(row):\n",
    "    y = 0\n",
    "    if row['Год постройки']==row['Год постройки']:\n",
    "        y = row['Год постройки']\n",
    "    elif (row['Срок сдачи']==row['Срок сдачи']) & (row['Срок сдачи']!=''):\n",
    "        p = row['Срок сдачи'].find(' г.')\n",
    "        if p>0:\n",
    "            y = row['Срок сдачи'][p-4:p]\n",
    "    return int(y)\n",
    "flats['Год постройки'] = flats.apply(year,axis=1)\n",
    "flats[['Срок сдачи', 'Год постройки']].head()"
   ],
   "metadata": {
    "collapsed": false,
    "ExecuteTime": {
     "end_time": "2023-07-06T13:50:09.576117Z",
     "start_time": "2023-07-06T13:50:09.426150Z"
    }
   }
  },
  {
   "cell_type": "code",
   "execution_count": 52,
   "outputs": [
    {
     "data": {
      "text/plain": "0    2,75 м\n1       3 м\n2    2,75 м\n3     2,8 м\n4     3,3 м\n5       NaN\n6       NaN\n7    2,77 м\n8    2,76 м\n9     2,8 м\nName: Высота потолков, dtype: object"
     },
     "execution_count": 52,
     "metadata": {},
     "output_type": "execute_result"
    }
   ],
   "source": [
    "flats['Высота потолков'].head(10)"
   ],
   "metadata": {
    "collapsed": false,
    "ExecuteTime": {
     "end_time": "2023-07-06T13:50:11.678100Z",
     "start_time": "2023-07-06T13:50:11.667384Z"
    }
   }
  },
  {
   "cell_type": "code",
   "execution_count": 53,
   "outputs": [
    {
     "data": {
      "text/plain": "0    2.75\n1    3.00\n2    2.75\n3    2.80\n4    3.30\n5    0.00\n6    0.00\n7    2.77\n8    2.76\n9    2.80\nName: Высота потолков, dtype: float64"
     },
     "execution_count": 53,
     "metadata": {},
     "output_type": "execute_result"
    }
   ],
   "source": [
    "flats['Высота потолков'] = flats['Высота потолков'].str.replace(' м', '').str.replace(',','.').fillna(0).astype(float)\n",
    "flats['Высота потолков'].head(10)"
   ],
   "metadata": {
    "collapsed": false,
    "ExecuteTime": {
     "end_time": "2023-07-06T13:50:12.960491Z",
     "start_time": "2023-07-06T13:50:12.929816Z"
    }
   }
  },
  {
   "cell_type": "code",
   "execution_count": 54,
   "outputs": [
    {
     "data": {
      "text/plain": "0    есть\n1    есть\n2    есть\n3    есть\n4    есть\n5     NaN\n6    есть\n7    есть\n8    есть\n9    есть\nName: Лифт, dtype: object"
     },
     "execution_count": 54,
     "metadata": {},
     "output_type": "execute_result"
    }
   ],
   "source": [
    "flats['Лифт'].head(10)"
   ],
   "metadata": {
    "collapsed": false,
    "ExecuteTime": {
     "end_time": "2023-07-06T13:50:16.165891Z",
     "start_time": "2023-07-06T13:50:16.154917Z"
    }
   }
  },
  {
   "cell_type": "code",
   "execution_count": 55,
   "outputs": [
    {
     "data": {
      "text/plain": "0    есть\n1    есть\n2    есть\n3    есть\n4    есть\n5     нет\n6    есть\n7    есть\n8    есть\n9    есть\nName: Лифт, dtype: object"
     },
     "execution_count": 55,
     "metadata": {},
     "output_type": "execute_result"
    }
   ],
   "source": [
    "flats['Лифт'] = flats['Лифт'].fillna('нет')\n",
    "flats['Лифт'].head(10)"
   ],
   "metadata": {
    "collapsed": false,
    "ExecuteTime": {
     "end_time": "2023-07-06T13:50:17.960240Z",
     "start_time": "2023-07-06T13:50:17.954404Z"
    }
   }
  },
  {
   "cell_type": "code",
   "execution_count": 56,
   "outputs": [
    {
     "data": {
      "text/plain": "0    закрытая\n1         NaN\n2    закрытая\n3         NaN\n4         NaN\nName: Парковка, dtype: object"
     },
     "execution_count": 56,
     "metadata": {},
     "output_type": "execute_result"
    }
   ],
   "source": [
    "flats['Парковка'].head()"
   ],
   "metadata": {
    "collapsed": false,
    "ExecuteTime": {
     "end_time": "2023-07-06T13:50:19.028216Z",
     "start_time": "2023-07-06T13:50:19.018586Z"
    }
   }
  },
  {
   "cell_type": "code",
   "execution_count": 57,
   "outputs": [
    {
     "data": {
      "text/plain": "Парковка\nзакрытая      4592\nНеизвестно    4588\nоткрытая        10\nподземная        3\nName: count, dtype: int64"
     },
     "execution_count": 57,
     "metadata": {},
     "output_type": "execute_result"
    }
   ],
   "source": [
    "flats['Парковка'] = flats['Парковка'].fillna('Неизвестно')\n",
    "flats['Парковка'].value_counts()"
   ],
   "metadata": {
    "collapsed": false,
    "ExecuteTime": {
     "end_time": "2023-07-06T13:50:21.452526Z",
     "start_time": "2023-07-06T13:50:21.444830Z"
    }
   }
  },
  {
   "cell_type": "code",
   "execution_count": 58,
   "outputs": [
    {
     "data": {
      "text/plain": "0    закрытая\n1    закрытая\n2         NaN\n3    закрытая\n4    закрытая\nName: Территория, dtype: object"
     },
     "execution_count": 58,
     "metadata": {},
     "output_type": "execute_result"
    }
   ],
   "source": [
    "flats['Территория'].head()"
   ],
   "metadata": {
    "collapsed": false,
    "ExecuteTime": {
     "end_time": "2023-07-06T13:50:24.196950Z",
     "start_time": "2023-07-06T13:50:24.184684Z"
    }
   }
  },
  {
   "cell_type": "code",
   "execution_count": 59,
   "outputs": [
    {
     "data": {
      "text/plain": "Территория\nНеизвестно    7192\nзакрытая      2001\nName: count, dtype: int64"
     },
     "execution_count": 59,
     "metadata": {},
     "output_type": "execute_result"
    }
   ],
   "source": [
    "flats['Территория'] = flats['Территория'].fillna('Неизвестно')\n",
    "flats['Территория'].value_counts()"
   ],
   "metadata": {
    "collapsed": false,
    "ExecuteTime": {
     "end_time": "2023-07-06T13:50:27.166244Z",
     "start_time": "2023-07-06T13:50:27.157260Z"
    }
   }
  },
  {
   "cell_type": "code",
   "execution_count": 60,
   "outputs": [
    {
     "data": {
      "text/plain": "0            NaN\n1    апартаменты\n2            NaN\n3            NaN\n4            NaN\nName: Тип жилья, dtype: object"
     },
     "execution_count": 60,
     "metadata": {},
     "output_type": "execute_result"
    }
   ],
   "source": [
    "flats['Тип жилья'].head()"
   ],
   "metadata": {
    "collapsed": false,
    "ExecuteTime": {
     "end_time": "2023-07-06T13:50:27.780338Z",
     "start_time": "2023-07-06T13:50:27.773267Z"
    }
   }
  },
  {
   "cell_type": "code",
   "execution_count": 61,
   "outputs": [
    {
     "data": {
      "text/plain": "Тип жилья\nне апартаменты    9018\nапартаменты        175\nName: count, dtype: int64"
     },
     "execution_count": 61,
     "metadata": {},
     "output_type": "execute_result"
    }
   ],
   "source": [
    "flats['Тип жилья'] = flats['Тип жилья'].fillna('не апартаменты')\n",
    "flats['Тип жилья'].value_counts()"
   ],
   "metadata": {
    "collapsed": false,
    "ExecuteTime": {
     "end_time": "2023-07-06T13:50:29.391828Z",
     "start_time": "2023-07-06T13:50:29.382719Z"
    }
   }
  },
  {
   "cell_type": "code",
   "execution_count": 62,
   "outputs": [
    {
     "data": {
      "text/plain": "0                 NaN\n1        Дизайнерский\n2                 NaN\n3                Евро\n4    Черновая отделка\nName: Ремонт, dtype: object"
     },
     "execution_count": 62,
     "metadata": {},
     "output_type": "execute_result"
    }
   ],
   "source": [
    "flats['Ремонт'].head()"
   ],
   "metadata": {
    "collapsed": false,
    "ExecuteTime": {
     "end_time": "2023-07-06T13:50:30.926888Z",
     "start_time": "2023-07-06T13:50:30.916577Z"
    }
   }
  },
  {
   "cell_type": "code",
   "execution_count": 63,
   "outputs": [
    {
     "data": {
      "text/plain": "Ремонт\nНеизвестно          7679\nЧерновая отделка     648\nЕвро                 349\nДизайнерский         174\nЧистовая отделка     171\nНужен ремонт         131\nХороший               41\nName: count, dtype: int64"
     },
     "execution_count": 63,
     "metadata": {},
     "output_type": "execute_result"
    }
   ],
   "source": [
    "flats['Ремонт'] = flats['Ремонт'].fillna('Неизвестно')\n",
    "flats['Ремонт'].value_counts()"
   ],
   "metadata": {
    "collapsed": false,
    "ExecuteTime": {
     "end_time": "2023-07-06T13:50:31.945642Z",
     "start_time": "2023-07-06T13:50:31.918399Z"
    }
   }
  },
  {
   "cell_type": "code",
   "execution_count": 64,
   "outputs": [],
   "source": [
    "# наличие всяких штук не буду смотреть отдельно, они или есть, или нет\n",
    "flats['Кондиционер'] = flats['Кондиционер'].fillna('нет')\n",
    "flats['Посудомойка'] = flats['Посудомойка'].fillna('нет')\n",
    "flats['Холодильник'] = flats['Холодильник'].fillna('нет')\n",
    "flats['Мебель'] = flats['Мебель'].fillna('нет')\n",
    "flats['Интернет'] = flats['Интернет'].fillna('нет')\n",
    "flats['Кухонная мебель'] = flats['Кухонная мебель'].fillna('нет')\n",
    "flats['Телевизор'] = flats['Телевизор'].fillna('нет')\n",
    "flats['Стиральная машина'] = flats['Стиральная машина'].fillna('нет')\n",
    "flats['Консьерж'] = flats['Консьерж'].fillna('нет')"
   ],
   "metadata": {
    "collapsed": false,
    "ExecuteTime": {
     "end_time": "2023-07-06T13:50:36.222637Z",
     "start_time": "2023-07-06T13:50:36.189140Z"
    }
   }
  },
  {
   "cell_type": "code",
   "execution_count": 65,
   "outputs": [],
   "source": [
    "# еще всякие штуки, где если Nan - это неизвестно\n",
    "flats['Материал стен'] = flats['Материал стен'].fillna('Неизвестно')\n",
    "flats['Отопление'] = flats['Отопление'].fillna('Неизвестно')\n",
    "flats['Вид из окон'] = flats['Вид из окон'].fillna('Неизвестно')\n",
    "flats['Серия дома'] = flats['Серия дома'].fillna('Неизвестно')\n",
    "flats['Временная эпоха'] = flats['Временная эпоха'].fillna('Неизвестно')"
   ],
   "metadata": {
    "collapsed": false,
    "ExecuteTime": {
     "end_time": "2023-07-06T13:50:39.458132Z",
     "start_time": "2023-07-06T13:50:39.444892Z"
    }
   }
  },
  {
   "cell_type": "code",
   "execution_count": 66,
   "outputs": [],
   "source": [
    "flats.to_csv('data/clean_data_from_metr2_2023.csv',sep=';')"
   ],
   "metadata": {
    "collapsed": false,
    "ExecuteTime": {
     "end_time": "2023-07-06T13:50:41.097096Z",
     "start_time": "2023-07-06T13:50:40.893914Z"
    }
   }
  },
  {
   "cell_type": "markdown",
   "source": [
    "<h2>Смотрим рост цен на недвижку всего и по районам</h2>"
   ],
   "metadata": {
    "collapsed": false
   }
  },
  {
   "cell_type": "code",
   "execution_count": 67,
   "outputs": [],
   "source": [
    "import pandas as pd\n",
    "flats_old = pd.read_csv('data/clean_data_from_cian_2021.csv',sep=';')"
   ],
   "metadata": {
    "collapsed": false,
    "ExecuteTime": {
     "end_time": "2023-07-06T15:56:51.881865Z",
     "start_time": "2023-07-06T15:56:51.811166Z"
    }
   }
  },
  {
   "cell_type": "code",
   "execution_count": 68,
   "outputs": [
    {
     "data": {
      "text/plain": "                                       link       price  total_area  \\\n0  https://spb.cian.ru/sale/flat/234775065/  13143249.0       74.13   \n1  https://spb.cian.ru/sale/flat/239273301/  12430600.0       47.81   \n2  https://spb.cian.ru/sale/flat/250966190/  13800000.0       44.10   \n3  https://spb.cian.ru/sale/flat/249950664/   8730851.0       56.29   \n4  https://spb.cian.ru/sale/flat/250766812/  13650000.0       70.80   \n\n   living_area  kitchen_area  floor         type  height  bathrooms  \\\n0         26.3          22.0      3  Новостройка     3.3        2.0   \n1          NaN           NaN      2  Новостройка     NaN        0.0   \n2         14.1          19.4      2  Новостройка     NaN        0.0   \n3         29.3          10.9      5  Новостройка     NaN        2.0   \n4          NaN          10.0     13     Вторичка     2.8        1.0   \n\n   balconies  ...  renovation             view rooms             city  \\\n0        1.0  ...         NaN              NaN     2  Санкт-Петербург   \n1        0.0  ...         NaN              NaN     1  Санкт-Петербург   \n2        0.0  ...         NaN              NaN     1  Санкт-Петербург   \n3        2.0  ...         NaN              NaN     2  Санкт-Петербург   \n4        1.0  ...  Евроремонт  На улицу и двор     2  Санкт-Петербург   \n\n                 area             neighborhood                       street  \\\n0      р-н Приморский                 Юнтолово            Планерная ул., 94   \n1   р-н Петроградский                Посадский             ул. Рентгена, 25   \n2       р-н Курортный          мкр. Сестрорецк   ул. Максима Горького, 2Ас2   \n3      р-н Приморский                 Юнтолово      Нью Тайм жилой комплекс   \n4      р-н Приморский   Комендантский аэродром       аллея Поликарпова, 6к1   \n\n                metro_name metro_km number_of_floors  \n0  Комендантский проспект      1.98               12  \n1           Петроградская      1.04                8  \n2                 Беговая      9.57                5  \n3  Комендантский проспект      1.98               13  \n4              Пионерская      1.04               19  \n\n[5 rows x 23 columns]",
      "text/html": "<div>\n<style scoped>\n    .dataframe tbody tr th:only-of-type {\n        vertical-align: middle;\n    }\n\n    .dataframe tbody tr th {\n        vertical-align: top;\n    }\n\n    .dataframe thead th {\n        text-align: right;\n    }\n</style>\n<table border=\"1\" class=\"dataframe\">\n  <thead>\n    <tr style=\"text-align: right;\">\n      <th></th>\n      <th>link</th>\n      <th>price</th>\n      <th>total_area</th>\n      <th>living_area</th>\n      <th>kitchen_area</th>\n      <th>floor</th>\n      <th>type</th>\n      <th>height</th>\n      <th>bathrooms</th>\n      <th>balconies</th>\n      <th>...</th>\n      <th>renovation</th>\n      <th>view</th>\n      <th>rooms</th>\n      <th>city</th>\n      <th>area</th>\n      <th>neighborhood</th>\n      <th>street</th>\n      <th>metro_name</th>\n      <th>metro_km</th>\n      <th>number_of_floors</th>\n    </tr>\n  </thead>\n  <tbody>\n    <tr>\n      <th>0</th>\n      <td>https://spb.cian.ru/sale/flat/234775065/</td>\n      <td>13143249.0</td>\n      <td>74.13</td>\n      <td>26.3</td>\n      <td>22.0</td>\n      <td>3</td>\n      <td>Новостройка</td>\n      <td>3.3</td>\n      <td>2.0</td>\n      <td>1.0</td>\n      <td>...</td>\n      <td>NaN</td>\n      <td>NaN</td>\n      <td>2</td>\n      <td>Санкт-Петербург</td>\n      <td>р-н Приморский</td>\n      <td>Юнтолово</td>\n      <td>Планерная ул., 94</td>\n      <td>Комендантский проспект</td>\n      <td>1.98</td>\n      <td>12</td>\n    </tr>\n    <tr>\n      <th>1</th>\n      <td>https://spb.cian.ru/sale/flat/239273301/</td>\n      <td>12430600.0</td>\n      <td>47.81</td>\n      <td>NaN</td>\n      <td>NaN</td>\n      <td>2</td>\n      <td>Новостройка</td>\n      <td>NaN</td>\n      <td>0.0</td>\n      <td>0.0</td>\n      <td>...</td>\n      <td>NaN</td>\n      <td>NaN</td>\n      <td>1</td>\n      <td>Санкт-Петербург</td>\n      <td>р-н Петроградский</td>\n      <td>Посадский</td>\n      <td>ул. Рентгена, 25</td>\n      <td>Петроградская</td>\n      <td>1.04</td>\n      <td>8</td>\n    </tr>\n    <tr>\n      <th>2</th>\n      <td>https://spb.cian.ru/sale/flat/250966190/</td>\n      <td>13800000.0</td>\n      <td>44.10</td>\n      <td>14.1</td>\n      <td>19.4</td>\n      <td>2</td>\n      <td>Новостройка</td>\n      <td>NaN</td>\n      <td>0.0</td>\n      <td>0.0</td>\n      <td>...</td>\n      <td>NaN</td>\n      <td>NaN</td>\n      <td>1</td>\n      <td>Санкт-Петербург</td>\n      <td>р-н Курортный</td>\n      <td>мкр. Сестрорецк</td>\n      <td>ул. Максима Горького, 2Ас2</td>\n      <td>Беговая</td>\n      <td>9.57</td>\n      <td>5</td>\n    </tr>\n    <tr>\n      <th>3</th>\n      <td>https://spb.cian.ru/sale/flat/249950664/</td>\n      <td>8730851.0</td>\n      <td>56.29</td>\n      <td>29.3</td>\n      <td>10.9</td>\n      <td>5</td>\n      <td>Новостройка</td>\n      <td>NaN</td>\n      <td>2.0</td>\n      <td>2.0</td>\n      <td>...</td>\n      <td>NaN</td>\n      <td>NaN</td>\n      <td>2</td>\n      <td>Санкт-Петербург</td>\n      <td>р-н Приморский</td>\n      <td>Юнтолово</td>\n      <td>Нью Тайм жилой комплекс</td>\n      <td>Комендантский проспект</td>\n      <td>1.98</td>\n      <td>13</td>\n    </tr>\n    <tr>\n      <th>4</th>\n      <td>https://spb.cian.ru/sale/flat/250766812/</td>\n      <td>13650000.0</td>\n      <td>70.80</td>\n      <td>NaN</td>\n      <td>10.0</td>\n      <td>13</td>\n      <td>Вторичка</td>\n      <td>2.8</td>\n      <td>1.0</td>\n      <td>1.0</td>\n      <td>...</td>\n      <td>Евроремонт</td>\n      <td>На улицу и двор</td>\n      <td>2</td>\n      <td>Санкт-Петербург</td>\n      <td>р-н Приморский</td>\n      <td>Комендантский аэродром</td>\n      <td>аллея Поликарпова, 6к1</td>\n      <td>Пионерская</td>\n      <td>1.04</td>\n      <td>19</td>\n    </tr>\n  </tbody>\n</table>\n<p>5 rows × 23 columns</p>\n</div>"
     },
     "execution_count": 68,
     "metadata": {},
     "output_type": "execute_result"
    }
   ],
   "source": [
    "flats_old.head()"
   ],
   "metadata": {
    "collapsed": false,
    "ExecuteTime": {
     "end_time": "2023-07-06T15:56:52.567941Z",
     "start_time": "2023-07-06T15:56:52.543671Z"
    }
   }
  },
  {
   "cell_type": "code",
   "execution_count": 69,
   "outputs": [],
   "source": [
    "flats_old['metr_price'] = flats_old['price']/flats_old['total_area']"
   ],
   "metadata": {
    "collapsed": false,
    "ExecuteTime": {
     "end_time": "2023-07-06T15:56:54.607361Z",
     "start_time": "2023-07-06T15:56:54.595698Z"
    }
   }
  },
  {
   "cell_type": "code",
   "execution_count": 70,
   "outputs": [
    {
     "data": {
      "text/plain": "count       1414.00\nmean      208232.99\nstd       110679.50\nmin        68788.50\n25%       145675.68\n50%       172714.61\n75%       234145.80\nmax      1400000.00\nName: metr_price, dtype: object"
     },
     "execution_count": 70,
     "metadata": {},
     "output_type": "execute_result"
    }
   ],
   "source": [
    "means2021 = flats_old['metr_price'].describe()\n",
    "means2021.map('{:.2f}'.format)"
   ],
   "metadata": {
    "collapsed": false,
    "ExecuteTime": {
     "end_time": "2023-07-06T15:56:55.161197Z",
     "start_time": "2023-07-06T15:56:55.153631Z"
    }
   }
  },
  {
   "cell_type": "code",
   "execution_count": 71,
   "outputs": [],
   "source": [
    "flats_new = pd.read_csv('data/clean_data_from_metr2_2023.csv',sep=';')"
   ],
   "metadata": {
    "collapsed": false,
    "ExecuteTime": {
     "end_time": "2023-07-06T15:56:56.066353Z",
     "start_time": "2023-07-06T15:56:55.911107Z"
    }
   }
  },
  {
   "cell_type": "code",
   "execution_count": 72,
   "outputs": [
    {
     "data": {
      "text/plain": "count       9193.00\nmean      218625.98\nstd        71418.83\nmin        73033.71\n25%       174743.22\n50%       203703.70\n75%       252325.58\nmax      1709558.82\nName: Цена за метр, dtype: object"
     },
     "execution_count": 72,
     "metadata": {},
     "output_type": "execute_result"
    }
   ],
   "source": [
    "means2023 = flats_new['Цена за метр'].describe()\n",
    "means2023.map('{:.2f}'.format)"
   ],
   "metadata": {
    "collapsed": false,
    "ExecuteTime": {
     "end_time": "2023-07-06T15:56:56.540130Z",
     "start_time": "2023-07-06T15:56:56.529278Z"
    }
   }
  },
  {
   "cell_type": "code",
   "execution_count": 73,
   "outputs": [
    {
     "data": {
      "text/plain": "4.991039734912574"
     },
     "execution_count": 73,
     "metadata": {},
     "output_type": "execute_result"
    }
   ],
   "source": [
    "# на сколько в среднем выросла недвижка за 2 года в %\n",
    "(means2023['mean'] - means2021['mean']) / means2021['mean'] *100"
   ],
   "metadata": {
    "collapsed": false,
    "ExecuteTime": {
     "end_time": "2023-07-06T15:56:57.241340Z",
     "start_time": "2023-07-06T15:56:57.213164Z"
    }
   }
  },
  {
   "cell_type": "code",
   "execution_count": 74,
   "outputs": [
    {
     "data": {
      "text/plain": "count       404.00\nmean     198107.08\nstd       94904.87\nmin       84477.61\n25%      145867.64\n50%      169752.03\n75%      222455.40\nmax      815850.82\nName: metr_price, dtype: object"
     },
     "execution_count": 74,
     "metadata": {},
     "output_type": "execute_result"
    }
   ],
   "source": [
    "# Теперь посмотрим первичку и вторичку\n",
    "means2021_1 = flats_old[flats_old['type']=='Новостройка']['metr_price'].describe()\n",
    "means2021_1.map('{:.2f}'.format)"
   ],
   "metadata": {
    "collapsed": false,
    "ExecuteTime": {
     "end_time": "2023-07-06T15:56:57.799838Z",
     "start_time": "2023-07-06T15:56:57.779940Z"
    }
   }
  },
  {
   "cell_type": "code",
   "execution_count": 75,
   "outputs": [
    {
     "data": {
      "text/plain": "count       1010.00\nmean      212283.35\nstd       116189.04\nmin        68788.50\n25%       145675.68\n50%       174083.41\n75%       242519.20\nmax      1400000.00\nName: metr_price, dtype: object"
     },
     "execution_count": 75,
     "metadata": {},
     "output_type": "execute_result"
    }
   ],
   "source": [
    "means2021_2 = flats_old[flats_old['type']=='Вторичка']['metr_price'].describe()\n",
    "means2021_2.map('{:.2f}'.format)"
   ],
   "metadata": {
    "collapsed": false,
    "ExecuteTime": {
     "end_time": "2023-07-06T15:56:58.472548Z",
     "start_time": "2023-07-06T15:56:58.461700Z"
    }
   }
  },
  {
   "cell_type": "code",
   "execution_count": 76,
   "outputs": [
    {
     "data": {
      "text/plain": "count      3889.00\nmean     219266.06\nstd       51694.63\nmin      105420.79\n25%      182379.39\n50%      210284.82\n75%      256338.00\nmax      469750.00\nName: Цена за метр, dtype: object"
     },
     "execution_count": 76,
     "metadata": {},
     "output_type": "execute_result"
    }
   ],
   "source": [
    "means2023_1 = flats_new[flats_new['Срок сдачи'].notna()]['Цена за метр'].describe()\n",
    "means2023_1.map('{:.2f}'.format)"
   ],
   "metadata": {
    "collapsed": false,
    "ExecuteTime": {
     "end_time": "2023-07-06T15:56:59.113724Z",
     "start_time": "2023-07-06T15:56:59.102876Z"
    }
   }
  },
  {
   "cell_type": "code",
   "execution_count": 77,
   "outputs": [
    {
     "data": {
      "text/plain": "count       5304.00\nmean      218156.66\nstd        82954.55\nmin        73033.71\n25%       169847.33\n50%       199261.23\n75%       248041.32\nmax      1709558.82\nName: Цена за метр, dtype: object"
     },
     "execution_count": 77,
     "metadata": {},
     "output_type": "execute_result"
    }
   ],
   "source": [
    "means2023_2 = flats_new[flats_new['Срок сдачи'].isna()]['Цена за метр'].describe()\n",
    "means2023_2.map('{:.2f}'.format)"
   ],
   "metadata": {
    "collapsed": false,
    "ExecuteTime": {
     "end_time": "2023-07-06T15:56:59.761484Z",
     "start_time": "2023-07-06T15:56:59.736923Z"
    }
   }
  },
  {
   "cell_type": "code",
   "execution_count": 78,
   "outputs": [
    {
     "name": "stdout",
     "output_type": "stream",
     "text": [
      "Цена на первичку поднялись на  10.680577080442614 %\n",
      "Цена на вторичку поднялись на  2.766730745335023 %\n"
     ]
    }
   ],
   "source": [
    "print('Цена на первичку поднялись на ', (means2023_1['mean'] - means2021_1['mean']) / means2021_1['mean'] *100, '%' )\n",
    "print('Цена на вторичку поднялись на ', (means2023_2['mean'] - means2021_2['mean']) / means2021_2['mean'] *100, '%' )"
   ],
   "metadata": {
    "collapsed": false,
    "ExecuteTime": {
     "end_time": "2023-07-06T15:57:00.419843Z",
     "start_time": "2023-07-06T15:57:00.396757Z"
    }
   }
  },
  {
   "cell_type": "code",
   "execution_count": 79,
   "outputs": [
    {
     "data": {
      "text/plain": "                  area  metr_price2021  metr_price2023    diff, %\n0       Адмиралтейский   219589.932183   273738.682395  24.659031\n1     Василеостровский   206045.477773   263126.991657  27.703357\n2           Выборгский   184313.622135   200157.889813   8.596363\n3          Калининский   157053.503653   224985.301817  43.253921\n4            Кировский   150048.900268   171585.234998  14.352877\n5           Колпинский   107269.490509   140552.748600  31.027702\n6    Красногвардейский   154624.312267   211571.891503  36.829641\n7       Красносельский   144509.116603   180052.592545  24.596009\n8        Кронштадтский   120876.524994   153826.956774  27.259579\n9            Курортный   243061.285793   257840.786951   6.080566\n10          Московский   193219.571384   234820.169979  21.530220\n11             Невский   152425.304976   216344.405053  41.934704\n12       Петроградский   330044.730644   395162.142804  19.729875\n13      Петродворцовый   120987.045293   183936.090676  52.029575\n14          Приморский   174862.835172   218120.458777  24.738032\n15          Пушкинский   117763.433724   168734.915912  43.282945\n16         Фрунзенский   168765.701896   229648.529479  36.075356\n17         Центральный   278125.558310   277122.084189  -0.360799",
      "text/html": "<div>\n<style scoped>\n    .dataframe tbody tr th:only-of-type {\n        vertical-align: middle;\n    }\n\n    .dataframe tbody tr th {\n        vertical-align: top;\n    }\n\n    .dataframe thead th {\n        text-align: right;\n    }\n</style>\n<table border=\"1\" class=\"dataframe\">\n  <thead>\n    <tr style=\"text-align: right;\">\n      <th></th>\n      <th>area</th>\n      <th>metr_price2021</th>\n      <th>metr_price2023</th>\n      <th>diff, %</th>\n    </tr>\n  </thead>\n  <tbody>\n    <tr>\n      <th>0</th>\n      <td>Адмиралтейский</td>\n      <td>219589.932183</td>\n      <td>273738.682395</td>\n      <td>24.659031</td>\n    </tr>\n    <tr>\n      <th>1</th>\n      <td>Василеостровский</td>\n      <td>206045.477773</td>\n      <td>263126.991657</td>\n      <td>27.703357</td>\n    </tr>\n    <tr>\n      <th>2</th>\n      <td>Выборгский</td>\n      <td>184313.622135</td>\n      <td>200157.889813</td>\n      <td>8.596363</td>\n    </tr>\n    <tr>\n      <th>3</th>\n      <td>Калининский</td>\n      <td>157053.503653</td>\n      <td>224985.301817</td>\n      <td>43.253921</td>\n    </tr>\n    <tr>\n      <th>4</th>\n      <td>Кировский</td>\n      <td>150048.900268</td>\n      <td>171585.234998</td>\n      <td>14.352877</td>\n    </tr>\n    <tr>\n      <th>5</th>\n      <td>Колпинский</td>\n      <td>107269.490509</td>\n      <td>140552.748600</td>\n      <td>31.027702</td>\n    </tr>\n    <tr>\n      <th>6</th>\n      <td>Красногвардейский</td>\n      <td>154624.312267</td>\n      <td>211571.891503</td>\n      <td>36.829641</td>\n    </tr>\n    <tr>\n      <th>7</th>\n      <td>Красносельский</td>\n      <td>144509.116603</td>\n      <td>180052.592545</td>\n      <td>24.596009</td>\n    </tr>\n    <tr>\n      <th>8</th>\n      <td>Кронштадтский</td>\n      <td>120876.524994</td>\n      <td>153826.956774</td>\n      <td>27.259579</td>\n    </tr>\n    <tr>\n      <th>9</th>\n      <td>Курортный</td>\n      <td>243061.285793</td>\n      <td>257840.786951</td>\n      <td>6.080566</td>\n    </tr>\n    <tr>\n      <th>10</th>\n      <td>Московский</td>\n      <td>193219.571384</td>\n      <td>234820.169979</td>\n      <td>21.530220</td>\n    </tr>\n    <tr>\n      <th>11</th>\n      <td>Невский</td>\n      <td>152425.304976</td>\n      <td>216344.405053</td>\n      <td>41.934704</td>\n    </tr>\n    <tr>\n      <th>12</th>\n      <td>Петроградский</td>\n      <td>330044.730644</td>\n      <td>395162.142804</td>\n      <td>19.729875</td>\n    </tr>\n    <tr>\n      <th>13</th>\n      <td>Петродворцовый</td>\n      <td>120987.045293</td>\n      <td>183936.090676</td>\n      <td>52.029575</td>\n    </tr>\n    <tr>\n      <th>14</th>\n      <td>Приморский</td>\n      <td>174862.835172</td>\n      <td>218120.458777</td>\n      <td>24.738032</td>\n    </tr>\n    <tr>\n      <th>15</th>\n      <td>Пушкинский</td>\n      <td>117763.433724</td>\n      <td>168734.915912</td>\n      <td>43.282945</td>\n    </tr>\n    <tr>\n      <th>16</th>\n      <td>Фрунзенский</td>\n      <td>168765.701896</td>\n      <td>229648.529479</td>\n      <td>36.075356</td>\n    </tr>\n    <tr>\n      <th>17</th>\n      <td>Центральный</td>\n      <td>278125.558310</td>\n      <td>277122.084189</td>\n      <td>-0.360799</td>\n    </tr>\n  </tbody>\n</table>\n</div>"
     },
     "execution_count": 79,
     "metadata": {},
     "output_type": "execute_result"
    }
   ],
   "source": [
    "# Посмотрим по районам\n",
    "mean_area = flats_old.groupby(['area'])['metr_price'].mean().reset_index()\n",
    "mean_area['area'] = mean_area['area'].str.replace('р-н ','')\n",
    "mean_area.rename(columns = {'metr_price':'metr_price2021'}, inplace=True)\n",
    "mean_area1 = flats_new.groupby(['Район'])['Цена за метр'].mean().reset_index()\n",
    "mean_area1['Район'] = mean_area1['Район'].str.replace(' район','')\n",
    "mean_area1.rename(columns = {'Район':'area', 'Цена за метр':'metr_price2023'}, inplace=True)\n",
    "mean_area = mean_area.merge(mean_area1, on=['area'], how='left')\n",
    "mean_area['diff, %'] = (mean_area['metr_price2023'] - mean_area['metr_price2021'])/ mean_area['metr_price2021']*100\n",
    "mean_area"
   ],
   "metadata": {
    "collapsed": false,
    "ExecuteTime": {
     "end_time": "2023-07-06T15:57:01.505109Z",
     "start_time": "2023-07-06T15:57:01.474576Z"
    }
   }
  },
  {
   "cell_type": "code",
   "execution_count": 80,
   "outputs": [
    {
     "data": {
      "text/plain": "                                          link       price  total_area  \\\n0     https://spb.cian.ru/sale/flat/234775065/  13143249.0       74.13   \n1     https://spb.cian.ru/sale/flat/239273301/  12430600.0       47.81   \n2     https://spb.cian.ru/sale/flat/250966190/  13800000.0       44.10   \n3     https://spb.cian.ru/sale/flat/249950664/   8730851.0       56.29   \n4     https://spb.cian.ru/sale/flat/250766812/  13650000.0       70.80   \n...                                        ...         ...         ...   \n1409  https://spb.cian.ru/sale/flat/250580748/   6766360.0       55.02   \n1410  https://spb.cian.ru/sale/flat/250580813/   6790163.0       54.87   \n1411  https://spb.cian.ru/sale/flat/250213237/   7500000.0       31.60   \n1412  https://spb.cian.ru/sale/flat/249798150/   7756000.0       55.40   \n1413  https://spb.cian.ru/sale/flat/244365478/   3754569.0       24.27   \n\n      living_area  kitchen_area  floor         type  height  bathrooms  \\\n0            26.3          22.0      3  Новостройка     3.3        2.0   \n1             NaN           NaN      2  Новостройка     NaN        0.0   \n2            14.1          19.4      2  Новостройка     NaN        0.0   \n3            29.3          10.9      5  Новостройка     NaN        2.0   \n4             NaN          10.0     13     Вторичка     2.8        1.0   \n...           ...           ...    ...          ...     ...        ...   \n1409         26.1          17.9      1  Новостройка     2.6        0.0   \n1410         21.2          23.3      5  Новостройка     2.6        0.0   \n1411         14.3           8.1     12     Вторичка     NaN        1.0   \n1412         27.5          13.7      1  Новостройка     2.6        1.0   \n1413         17.8           NaN      4  Новостройка     NaN        1.0   \n\n      balconies  ...             view  rooms             city  \\\n0           1.0  ...              NaN      2  Санкт-Петербург   \n1           0.0  ...              NaN      1  Санкт-Петербург   \n2           0.0  ...              NaN      1  Санкт-Петербург   \n3           2.0  ...              NaN      2  Санкт-Петербург   \n4           1.0  ...  На улицу и двор      2  Санкт-Петербург   \n...         ...  ...              ...    ...              ...   \n1409        0.0  ...              NaN      2  Санкт-Петербург   \n1410        0.0  ...              NaN      2  Санкт-Петербург   \n1411        0.0  ...              NaN      1  Санкт-Петербург   \n1412        0.0  ...         На улицу      2  Санкт-Петербург   \n1413        1.0  ...              NaN      1  Санкт-Петербург   \n\n                    area             neighborhood  \\\n0         р-н Приморский                 Юнтолово   \n1      р-н Петроградский                Посадский   \n2          р-н Курортный          мкр. Сестрорецк   \n3         р-н Приморский                 Юнтолово   \n4         р-н Приморский   Комендантский аэродром   \n...                  ...                      ...   \n1409      р-н Приморский            Лахта-Ольгино   \n1410      р-н Приморский            Лахта-Ольгино   \n1411      р-н Приморский                     № 65   \n1412      р-н Приморский                 Коломяги   \n1413      р-н Приморский                 Юнтолово   \n\n                                  street               metro_name metro_km  \\\n0                      Планерная ул., 94  Комендантский проспект      1.98   \n1                       ул. Рентгена, 25           Петроградская      1.04   \n2             ул. Максима Горького, 2Ас2                 Беговая      9.57   \n3                Нью Тайм жилой комплекс  Комендантский проспект      1.98   \n4                 аллея Поликарпова, 6к1              Пионерская      1.04   \n...                                  ...                      ...      ...   \n1409                     ул. Ивинская, 9                 Беговая      2.97   \n1410                     ул. Ивинская, 9                 Беговая      2.97   \n1411                     ул. Оптиков, 37                  Беговая     0.00   \n1412   Орловский Парк жилой комплекс, 2Б    Проспект Просвещения      1.65   \n1413                 Планерная ул., 87к1  Комендантский проспект      1.98   \n\n     number_of_floors     metr_price  \n0                  12  177300.000000  \n1                   8  260000.000000  \n2                   5  312925.170068  \n3                  13  155104.832119  \n4                  19  192796.610169  \n...               ...            ...  \n1409               17  122980.007270  \n1410               17  123750.009112  \n1411               25  237341.772152  \n1412               25  140000.000000  \n1413               13  154700.000000  \n\n[1414 rows x 24 columns]",
      "text/html": "<div>\n<style scoped>\n    .dataframe tbody tr th:only-of-type {\n        vertical-align: middle;\n    }\n\n    .dataframe tbody tr th {\n        vertical-align: top;\n    }\n\n    .dataframe thead th {\n        text-align: right;\n    }\n</style>\n<table border=\"1\" class=\"dataframe\">\n  <thead>\n    <tr style=\"text-align: right;\">\n      <th></th>\n      <th>link</th>\n      <th>price</th>\n      <th>total_area</th>\n      <th>living_area</th>\n      <th>kitchen_area</th>\n      <th>floor</th>\n      <th>type</th>\n      <th>height</th>\n      <th>bathrooms</th>\n      <th>balconies</th>\n      <th>...</th>\n      <th>view</th>\n      <th>rooms</th>\n      <th>city</th>\n      <th>area</th>\n      <th>neighborhood</th>\n      <th>street</th>\n      <th>metro_name</th>\n      <th>metro_km</th>\n      <th>number_of_floors</th>\n      <th>metr_price</th>\n    </tr>\n  </thead>\n  <tbody>\n    <tr>\n      <th>0</th>\n      <td>https://spb.cian.ru/sale/flat/234775065/</td>\n      <td>13143249.0</td>\n      <td>74.13</td>\n      <td>26.3</td>\n      <td>22.0</td>\n      <td>3</td>\n      <td>Новостройка</td>\n      <td>3.3</td>\n      <td>2.0</td>\n      <td>1.0</td>\n      <td>...</td>\n      <td>NaN</td>\n      <td>2</td>\n      <td>Санкт-Петербург</td>\n      <td>р-н Приморский</td>\n      <td>Юнтолово</td>\n      <td>Планерная ул., 94</td>\n      <td>Комендантский проспект</td>\n      <td>1.98</td>\n      <td>12</td>\n      <td>177300.000000</td>\n    </tr>\n    <tr>\n      <th>1</th>\n      <td>https://spb.cian.ru/sale/flat/239273301/</td>\n      <td>12430600.0</td>\n      <td>47.81</td>\n      <td>NaN</td>\n      <td>NaN</td>\n      <td>2</td>\n      <td>Новостройка</td>\n      <td>NaN</td>\n      <td>0.0</td>\n      <td>0.0</td>\n      <td>...</td>\n      <td>NaN</td>\n      <td>1</td>\n      <td>Санкт-Петербург</td>\n      <td>р-н Петроградский</td>\n      <td>Посадский</td>\n      <td>ул. Рентгена, 25</td>\n      <td>Петроградская</td>\n      <td>1.04</td>\n      <td>8</td>\n      <td>260000.000000</td>\n    </tr>\n    <tr>\n      <th>2</th>\n      <td>https://spb.cian.ru/sale/flat/250966190/</td>\n      <td>13800000.0</td>\n      <td>44.10</td>\n      <td>14.1</td>\n      <td>19.4</td>\n      <td>2</td>\n      <td>Новостройка</td>\n      <td>NaN</td>\n      <td>0.0</td>\n      <td>0.0</td>\n      <td>...</td>\n      <td>NaN</td>\n      <td>1</td>\n      <td>Санкт-Петербург</td>\n      <td>р-н Курортный</td>\n      <td>мкр. Сестрорецк</td>\n      <td>ул. Максима Горького, 2Ас2</td>\n      <td>Беговая</td>\n      <td>9.57</td>\n      <td>5</td>\n      <td>312925.170068</td>\n    </tr>\n    <tr>\n      <th>3</th>\n      <td>https://spb.cian.ru/sale/flat/249950664/</td>\n      <td>8730851.0</td>\n      <td>56.29</td>\n      <td>29.3</td>\n      <td>10.9</td>\n      <td>5</td>\n      <td>Новостройка</td>\n      <td>NaN</td>\n      <td>2.0</td>\n      <td>2.0</td>\n      <td>...</td>\n      <td>NaN</td>\n      <td>2</td>\n      <td>Санкт-Петербург</td>\n      <td>р-н Приморский</td>\n      <td>Юнтолово</td>\n      <td>Нью Тайм жилой комплекс</td>\n      <td>Комендантский проспект</td>\n      <td>1.98</td>\n      <td>13</td>\n      <td>155104.832119</td>\n    </tr>\n    <tr>\n      <th>4</th>\n      <td>https://spb.cian.ru/sale/flat/250766812/</td>\n      <td>13650000.0</td>\n      <td>70.80</td>\n      <td>NaN</td>\n      <td>10.0</td>\n      <td>13</td>\n      <td>Вторичка</td>\n      <td>2.8</td>\n      <td>1.0</td>\n      <td>1.0</td>\n      <td>...</td>\n      <td>На улицу и двор</td>\n      <td>2</td>\n      <td>Санкт-Петербург</td>\n      <td>р-н Приморский</td>\n      <td>Комендантский аэродром</td>\n      <td>аллея Поликарпова, 6к1</td>\n      <td>Пионерская</td>\n      <td>1.04</td>\n      <td>19</td>\n      <td>192796.610169</td>\n    </tr>\n    <tr>\n      <th>...</th>\n      <td>...</td>\n      <td>...</td>\n      <td>...</td>\n      <td>...</td>\n      <td>...</td>\n      <td>...</td>\n      <td>...</td>\n      <td>...</td>\n      <td>...</td>\n      <td>...</td>\n      <td>...</td>\n      <td>...</td>\n      <td>...</td>\n      <td>...</td>\n      <td>...</td>\n      <td>...</td>\n      <td>...</td>\n      <td>...</td>\n      <td>...</td>\n      <td>...</td>\n      <td>...</td>\n    </tr>\n    <tr>\n      <th>1409</th>\n      <td>https://spb.cian.ru/sale/flat/250580748/</td>\n      <td>6766360.0</td>\n      <td>55.02</td>\n      <td>26.1</td>\n      <td>17.9</td>\n      <td>1</td>\n      <td>Новостройка</td>\n      <td>2.6</td>\n      <td>0.0</td>\n      <td>0.0</td>\n      <td>...</td>\n      <td>NaN</td>\n      <td>2</td>\n      <td>Санкт-Петербург</td>\n      <td>р-н Приморский</td>\n      <td>Лахта-Ольгино</td>\n      <td>ул. Ивинская, 9</td>\n      <td>Беговая</td>\n      <td>2.97</td>\n      <td>17</td>\n      <td>122980.007270</td>\n    </tr>\n    <tr>\n      <th>1410</th>\n      <td>https://spb.cian.ru/sale/flat/250580813/</td>\n      <td>6790163.0</td>\n      <td>54.87</td>\n      <td>21.2</td>\n      <td>23.3</td>\n      <td>5</td>\n      <td>Новостройка</td>\n      <td>2.6</td>\n      <td>0.0</td>\n      <td>0.0</td>\n      <td>...</td>\n      <td>NaN</td>\n      <td>2</td>\n      <td>Санкт-Петербург</td>\n      <td>р-н Приморский</td>\n      <td>Лахта-Ольгино</td>\n      <td>ул. Ивинская, 9</td>\n      <td>Беговая</td>\n      <td>2.97</td>\n      <td>17</td>\n      <td>123750.009112</td>\n    </tr>\n    <tr>\n      <th>1411</th>\n      <td>https://spb.cian.ru/sale/flat/250213237/</td>\n      <td>7500000.0</td>\n      <td>31.60</td>\n      <td>14.3</td>\n      <td>8.1</td>\n      <td>12</td>\n      <td>Вторичка</td>\n      <td>NaN</td>\n      <td>1.0</td>\n      <td>0.0</td>\n      <td>...</td>\n      <td>NaN</td>\n      <td>1</td>\n      <td>Санкт-Петербург</td>\n      <td>р-н Приморский</td>\n      <td>№ 65</td>\n      <td>ул. Оптиков, 37</td>\n      <td>Беговая</td>\n      <td>0.00</td>\n      <td>25</td>\n      <td>237341.772152</td>\n    </tr>\n    <tr>\n      <th>1412</th>\n      <td>https://spb.cian.ru/sale/flat/249798150/</td>\n      <td>7756000.0</td>\n      <td>55.40</td>\n      <td>27.5</td>\n      <td>13.7</td>\n      <td>1</td>\n      <td>Новостройка</td>\n      <td>2.6</td>\n      <td>1.0</td>\n      <td>0.0</td>\n      <td>...</td>\n      <td>На улицу</td>\n      <td>2</td>\n      <td>Санкт-Петербург</td>\n      <td>р-н Приморский</td>\n      <td>Коломяги</td>\n      <td>Орловский Парк жилой комплекс, 2Б</td>\n      <td>Проспект Просвещения</td>\n      <td>1.65</td>\n      <td>25</td>\n      <td>140000.000000</td>\n    </tr>\n    <tr>\n      <th>1413</th>\n      <td>https://spb.cian.ru/sale/flat/244365478/</td>\n      <td>3754569.0</td>\n      <td>24.27</td>\n      <td>17.8</td>\n      <td>NaN</td>\n      <td>4</td>\n      <td>Новостройка</td>\n      <td>NaN</td>\n      <td>1.0</td>\n      <td>1.0</td>\n      <td>...</td>\n      <td>NaN</td>\n      <td>1</td>\n      <td>Санкт-Петербург</td>\n      <td>р-н Приморский</td>\n      <td>Юнтолово</td>\n      <td>Планерная ул., 87к1</td>\n      <td>Комендантский проспект</td>\n      <td>1.98</td>\n      <td>13</td>\n      <td>154700.000000</td>\n    </tr>\n  </tbody>\n</table>\n<p>1414 rows × 24 columns</p>\n</div>"
     },
     "execution_count": 80,
     "metadata": {},
     "output_type": "execute_result"
    }
   ],
   "source": [
    "flats_old"
   ],
   "metadata": {
    "collapsed": false,
    "ExecuteTime": {
     "end_time": "2023-07-06T15:57:02.295923Z",
     "start_time": "2023-07-06T15:57:02.255298Z"
    }
   }
  },
  {
   "cell_type": "code",
   "execution_count": null,
   "outputs": [],
   "source": [
    "def addr_old(row):\n",
    "    d ={'ул.':'улица',\n",
    "        'аллея':'аллея',\n",
    "        'просп.':'проспект',\n",
    "        'наб.':'набережная',\n",
    "        'линия':'линия',\n",
    "        'пер.':'переулок',\n",
    "        'дор.':'дорога',\n",
    "        'ш.':'шоссе',\n",
    "        'бул.':'бульвар'}"
   ],
   "metadata": {
    "collapsed": false
   }
  },
  {
   "cell_type": "code",
   "execution_count": 87,
   "outputs": [
    {
     "ename": "KeyError",
     "evalue": "False",
     "output_type": "error",
     "traceback": [
      "\u001B[0;31m---------------------------------------------------------------------------\u001B[0m",
      "\u001B[0;31mKeyError\u001B[0m                                  Traceback (most recent call last)",
      "File \u001B[0;32m~/.conda/envs/RealEstateSpb/lib/python3.10/site-packages/pandas/core/indexes/base.py:3653\u001B[0m, in \u001B[0;36mIndex.get_loc\u001B[0;34m(self, key)\u001B[0m\n\u001B[1;32m   3652\u001B[0m \u001B[38;5;28;01mtry\u001B[39;00m:\n\u001B[0;32m-> 3653\u001B[0m     \u001B[38;5;28;01mreturn\u001B[39;00m \u001B[38;5;28;43mself\u001B[39;49m\u001B[38;5;241;43m.\u001B[39;49m\u001B[43m_engine\u001B[49m\u001B[38;5;241;43m.\u001B[39;49m\u001B[43mget_loc\u001B[49m\u001B[43m(\u001B[49m\u001B[43mcasted_key\u001B[49m\u001B[43m)\u001B[49m\n\u001B[1;32m   3654\u001B[0m \u001B[38;5;28;01mexcept\u001B[39;00m \u001B[38;5;167;01mKeyError\u001B[39;00m \u001B[38;5;28;01mas\u001B[39;00m err:\n",
      "File \u001B[0;32m~/.conda/envs/RealEstateSpb/lib/python3.10/site-packages/pandas/_libs/index.pyx:147\u001B[0m, in \u001B[0;36mpandas._libs.index.IndexEngine.get_loc\u001B[0;34m()\u001B[0m\n",
      "File \u001B[0;32m~/.conda/envs/RealEstateSpb/lib/python3.10/site-packages/pandas/_libs/index.pyx:176\u001B[0m, in \u001B[0;36mpandas._libs.index.IndexEngine.get_loc\u001B[0;34m()\u001B[0m\n",
      "File \u001B[0;32mpandas/_libs/hashtable_class_helper.pxi:7080\u001B[0m, in \u001B[0;36mpandas._libs.hashtable.PyObjectHashTable.get_item\u001B[0;34m()\u001B[0m\n",
      "File \u001B[0;32mpandas/_libs/hashtable_class_helper.pxi:7088\u001B[0m, in \u001B[0;36mpandas._libs.hashtable.PyObjectHashTable.get_item\u001B[0;34m()\u001B[0m\n",
      "\u001B[0;31mKeyError\u001B[0m: False",
      "\nThe above exception was the direct cause of the following exception:\n",
      "\u001B[0;31mKeyError\u001B[0m                                  Traceback (most recent call last)",
      "Cell \u001B[0;32mIn[87], line 1\u001B[0m\n\u001B[0;32m----> 1\u001B[0m \u001B[43mflats_new\u001B[49m\u001B[43m[\u001B[49m\u001B[38;5;124;43m'\u001B[39;49m\u001B[38;5;124;43mНовая\u001B[39;49m\u001B[38;5;124;43m'\u001B[39;49m\u001B[43m \u001B[49m\u001B[38;5;129;43;01min\u001B[39;49;00m\u001B[43m \u001B[49m\u001B[43mflats_new\u001B[49m\u001B[43m[\u001B[49m\u001B[38;5;124;43m'\u001B[39;49m\u001B[38;5;124;43mУлица\u001B[39;49m\u001B[38;5;124;43m'\u001B[39;49m\u001B[43m]\u001B[49m\u001B[43m]\u001B[49m\n",
      "File \u001B[0;32m~/.conda/envs/RealEstateSpb/lib/python3.10/site-packages/pandas/core/frame.py:3761\u001B[0m, in \u001B[0;36mDataFrame.__getitem__\u001B[0;34m(self, key)\u001B[0m\n\u001B[1;32m   3759\u001B[0m \u001B[38;5;28;01mif\u001B[39;00m \u001B[38;5;28mself\u001B[39m\u001B[38;5;241m.\u001B[39mcolumns\u001B[38;5;241m.\u001B[39mnlevels \u001B[38;5;241m>\u001B[39m \u001B[38;5;241m1\u001B[39m:\n\u001B[1;32m   3760\u001B[0m     \u001B[38;5;28;01mreturn\u001B[39;00m \u001B[38;5;28mself\u001B[39m\u001B[38;5;241m.\u001B[39m_getitem_multilevel(key)\n\u001B[0;32m-> 3761\u001B[0m indexer \u001B[38;5;241m=\u001B[39m \u001B[38;5;28;43mself\u001B[39;49m\u001B[38;5;241;43m.\u001B[39;49m\u001B[43mcolumns\u001B[49m\u001B[38;5;241;43m.\u001B[39;49m\u001B[43mget_loc\u001B[49m\u001B[43m(\u001B[49m\u001B[43mkey\u001B[49m\u001B[43m)\u001B[49m\n\u001B[1;32m   3762\u001B[0m \u001B[38;5;28;01mif\u001B[39;00m is_integer(indexer):\n\u001B[1;32m   3763\u001B[0m     indexer \u001B[38;5;241m=\u001B[39m [indexer]\n",
      "File \u001B[0;32m~/.conda/envs/RealEstateSpb/lib/python3.10/site-packages/pandas/core/indexes/base.py:3655\u001B[0m, in \u001B[0;36mIndex.get_loc\u001B[0;34m(self, key)\u001B[0m\n\u001B[1;32m   3653\u001B[0m     \u001B[38;5;28;01mreturn\u001B[39;00m \u001B[38;5;28mself\u001B[39m\u001B[38;5;241m.\u001B[39m_engine\u001B[38;5;241m.\u001B[39mget_loc(casted_key)\n\u001B[1;32m   3654\u001B[0m \u001B[38;5;28;01mexcept\u001B[39;00m \u001B[38;5;167;01mKeyError\u001B[39;00m \u001B[38;5;28;01mas\u001B[39;00m err:\n\u001B[0;32m-> 3655\u001B[0m     \u001B[38;5;28;01mraise\u001B[39;00m \u001B[38;5;167;01mKeyError\u001B[39;00m(key) \u001B[38;5;28;01mfrom\u001B[39;00m \u001B[38;5;21;01merr\u001B[39;00m\n\u001B[1;32m   3656\u001B[0m \u001B[38;5;28;01mexcept\u001B[39;00m \u001B[38;5;167;01mTypeError\u001B[39;00m:\n\u001B[1;32m   3657\u001B[0m     \u001B[38;5;66;03m# If we have a listlike key, _check_indexing_error will raise\u001B[39;00m\n\u001B[1;32m   3658\u001B[0m     \u001B[38;5;66;03m#  InvalidIndexError. Otherwise we fall through and re-raise\u001B[39;00m\n\u001B[1;32m   3659\u001B[0m     \u001B[38;5;66;03m#  the TypeError.\u001B[39;00m\n\u001B[1;32m   3660\u001B[0m     \u001B[38;5;28mself\u001B[39m\u001B[38;5;241m.\u001B[39m_check_indexing_error(key)\n",
      "\u001B[0;31mKeyError\u001B[0m: False"
     ]
    }
   ],
   "source": [
    "flats_new[flats_new['Улица']=='Новая']"
   ],
   "metadata": {
    "collapsed": false,
    "ExecuteTime": {
     "end_time": "2023-07-06T16:10:44.599445Z",
     "start_time": "2023-07-06T16:10:44.553422Z"
    }
   }
  },
  {
   "cell_type": "code",
   "execution_count": null,
   "outputs": [],
   "source": [],
   "metadata": {
    "collapsed": false
   }
  }
 ],
 "metadata": {
  "kernelspec": {
   "display_name": "Python 3",
   "language": "python",
   "name": "python3"
  },
  "language_info": {
   "codemirror_mode": {
    "name": "ipython",
    "version": 2
   },
   "file_extension": ".py",
   "mimetype": "text/x-python",
   "name": "python",
   "nbconvert_exporter": "python",
   "pygments_lexer": "ipython2",
   "version": "2.7.6"
  }
 },
 "nbformat": 4,
 "nbformat_minor": 0
}
