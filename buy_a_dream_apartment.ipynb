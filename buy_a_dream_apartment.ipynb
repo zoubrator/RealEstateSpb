{
 "cells": [
  {
   "cell_type": "markdown",
   "source": [
    "<h1>Покупка квартиры мечты</h1>\n",
    "<img src=\"media/dream_apartment.jpg/\">\n",
    "\n",
    "Вводные:\n",
    "1. Нужно купить квартирку, в которой мы будем жить и которая выгодна с точки зрения инвестиций.\n",
    "2. Будет ипотека. Ограничения: первоначальный взнос 1.8 млн рублей, 5 лет, платеж до 200 тыр.\n",
    "\n",
    "\n",
    "<span style=\"color:#ffffff; background: #0703fc\">Цель исследования: сравнить рост цены недвижки и переплату по ипотеке</span>"
   ],
   "metadata": {
    "collapsed": false
   }
  },
  {
   "cell_type": "markdown",
   "source": [
    "План анализа:\n",
    "1. Изучить расчет платежей по ипотеке. Аннуитетные платежи. Досрочные платежи.\n",
    "2. Выбрать и распарсить данные по недвиге - собрать датасет.\n",
    "4. Найти старый парсинг циана, посмотреть, как растут в цене новостройки по районам и застройщикам.\n",
    "5. Посчитать что выгоднее."
   ],
   "metadata": {
    "collapsed": false
   }
  },
  {
   "cell_type": "markdown",
   "source": [
    "<h2>Функции для расчета ипотеки</h2>"
   ],
   "metadata": {
    "collapsed": false
   }
  },
  {
   "cell_type": "code",
   "execution_count": 53,
   "outputs": [],
   "source": [
    "import pandas as pd\n",
    "\n",
    "# считаем платеж и переплату при аннуитетном платеже\n",
    "# нужно передать датафрейм с полями\n",
    "# стоимость хаты (s), первоначальный взнос (fst), срок ипотеки в месяцах (n), годовая ставка (p)\n",
    "def annuit(str):\n",
    "    p = str.p / 12\n",
    "    debt = str.s - str.fst\n",
    "    payment = debt * (p + p / (pow((1 + p), str.n) - 1))\n",
    "    overpay = payment * str.n - debt\n",
    "    return payment, overpay\n",
    "\n",
    "# возвращает график платежей\n",
    "# нужно передать датафрейм с полями\n",
    "# стоимость хаты (s), первоначальный взнос (fst), срок ипотеки в месяцах (n), годовая ставка (p)\n",
    "def payment_schedule(str):\n",
    "    payments_list = []\n",
    "    rest = str.s - str.fst\n",
    "    n = int(str.n)\n",
    "    i = 1\n",
    "    while (i <= n) & (rest > 0) :\n",
    "        perc_mon = rest * str.p/12\n",
    "        real_payment = str.payment\n",
    "        if real_payment > rest:\n",
    "            real_payment = rest + perc_mon\n",
    "        debt_mon = real_payment - perc_mon\n",
    "        rest = rest - debt_mon\n",
    "        payments_list.append([i, real_payment, rest, perc_mon, debt_mon])\n",
    "        # print(i, real_payment, rest, perc_mon, debt_mon)\n",
    "        i+=1\n",
    "    df = pd.DataFrame(payments_list)\n",
    "    df = df.rename(columns={0:'i', 1:'payment', 2:'rest', 3:'perc_mon', 4:'debt_mon'})\n",
    "    return df\n",
    "\n",
    "# возвращает график платежей с досрочным погашением\n",
    "# нужно передать датафрейм с полями\n",
    "# стоимость хаты (s), первоначальный взнос (fst), срок ипотеки в месяцах (n), годовая ставка (p)\n",
    "# и список досрочных погашений с полями [[0, 1, 2, 3]]\n",
    "# сколько платить (0), периодичность (1) 0 - разово, 1 - раз в месяц, 2 - раз в 2 месяца и тд, начало (2), конец (3)\n",
    "# можно несколько досрочных погашений\n",
    "def payment_schedule_early(str, eps):\n",
    "    payments_list = []\n",
    "    rest = str.s - str.fst\n",
    "    n = int(str.n)\n",
    "    i = 1\n",
    "    while (i <= n) & (rest > 0) :\n",
    "        perc_mon = rest * str.p/12\n",
    "        real_payment = str.payment\n",
    "        for ep in eps:\n",
    "            if i in range(ep[2], ep[3]):\n",
    "                if (ep[1] == 0)|((i - ep[2]) % ep[1] == 0):\n",
    "                    real_payment = ep[0]\n",
    "        if real_payment > rest:\n",
    "            real_payment = rest + perc_mon\n",
    "        debt_mon = real_payment - perc_mon\n",
    "        rest = rest - debt_mon\n",
    "        payments_list.append([i, real_payment, rest, perc_mon, debt_mon])\n",
    "        i+=1\n",
    "    df = pd.DataFrame(payments_list)\n",
    "    df = df.rename(columns={0:'i', 1:'payment', 2:'rest', 3:'perc_mon', 4:'debt_mon'})\n",
    "    return df"
   ],
   "metadata": {
    "collapsed": false,
    "ExecuteTime": {
     "end_time": "2023-06-28T17:09:23.498419Z",
     "start_time": "2023-06-28T17:09:23.494817Z"
    }
   }
  },
  {
   "cell_type": "markdown",
   "source": [
    "Посчитаем переплату по желаемой хате с разными параметрами"
   ],
   "metadata": {
    "collapsed": false
   }
  },
  {
   "cell_type": "code",
   "execution_count": 43,
   "outputs": [],
   "source": [
    "# стоимость хаты, первоначальный взнос, срок ипотеки в месяцах, годовая ставка\n",
    "params = [(12189868, 12189868*0.15, 60, 0.045),\n",
    "          (12189868, 12189868*0.15, 36, 0.045),\n",
    "          (12189868, 12189868*0.15, 240, 0.045),\n",
    "          (12189868, 12189868*0.15, 360, 0.045)]"
   ],
   "metadata": {
    "collapsed": false,
    "ExecuteTime": {
     "end_time": "2023-06-28T17:01:01.914777Z",
     "start_time": "2023-06-28T17:01:01.904037Z"
    }
   }
  },
  {
   "cell_type": "code",
   "execution_count": 45,
   "outputs": [
    {
     "data": {
      "text/plain": "<pandas.io.formats.style.Styler at 0x7fafbab25250>",
      "text/html": "<style  type=\"text/css\" >\n</style><table id=\"T_5f17dd6c_15d5_11ee_9372_acde48001122\" ><thead>    <tr>        <th class=\"blank level0\" ></th>        <th class=\"col_heading level0 col0\" >s</th>        <th class=\"col_heading level0 col1\" >fst</th>        <th class=\"col_heading level0 col2\" >n</th>        <th class=\"col_heading level0 col3\" >p</th>        <th class=\"col_heading level0 col4\" >debt</th>        <th class=\"col_heading level0 col5\" >payment</th>        <th class=\"col_heading level0 col6\" >overpay</th>    </tr></thead><tbody>\n                <tr>\n                        <th id=\"T_5f17dd6c_15d5_11ee_9372_acde48001122level0_row0\" class=\"row_heading level0 row0\" >0</th>\n                        <td id=\"T_5f17dd6c_15d5_11ee_9372_acde48001122row0_col0\" class=\"data row0 col0\" >12189868</td>\n                        <td id=\"T_5f17dd6c_15d5_11ee_9372_acde48001122row0_col1\" class=\"data row0 col1\" >1828480.20</td>\n                        <td id=\"T_5f17dd6c_15d5_11ee_9372_acde48001122row0_col2\" class=\"data row0 col2\" >60</td>\n                        <td id=\"T_5f17dd6c_15d5_11ee_9372_acde48001122row0_col3\" class=\"data row0 col3\" >0.045</td>\n                        <td id=\"T_5f17dd6c_15d5_11ee_9372_acde48001122row0_col4\" class=\"data row0 col4\" >10_361_387.8</td>\n                        <td id=\"T_5f17dd6c_15d5_11ee_9372_acde48001122row0_col5\" class=\"data row0 col5\" >193_167.55</td>\n                        <td id=\"T_5f17dd6c_15d5_11ee_9372_acde48001122row0_col6\" class=\"data row0 col6\" >1_228_665.33</td>\n            </tr>\n            <tr>\n                        <th id=\"T_5f17dd6c_15d5_11ee_9372_acde48001122level0_row1\" class=\"row_heading level0 row1\" >1</th>\n                        <td id=\"T_5f17dd6c_15d5_11ee_9372_acde48001122row1_col0\" class=\"data row1 col0\" >12189868</td>\n                        <td id=\"T_5f17dd6c_15d5_11ee_9372_acde48001122row1_col1\" class=\"data row1 col1\" >1828480.20</td>\n                        <td id=\"T_5f17dd6c_15d5_11ee_9372_acde48001122row1_col2\" class=\"data row1 col2\" >36</td>\n                        <td id=\"T_5f17dd6c_15d5_11ee_9372_acde48001122row1_col3\" class=\"data row1 col3\" >0.045</td>\n                        <td id=\"T_5f17dd6c_15d5_11ee_9372_acde48001122row1_col4\" class=\"data row1 col4\" >10_361_387.8</td>\n                        <td id=\"T_5f17dd6c_15d5_11ee_9372_acde48001122row1_col5\" class=\"data row1 col5\" >308_219.42</td>\n                        <td id=\"T_5f17dd6c_15d5_11ee_9372_acde48001122row1_col6\" class=\"data row1 col6\" >734_511.33</td>\n            </tr>\n            <tr>\n                        <th id=\"T_5f17dd6c_15d5_11ee_9372_acde48001122level0_row2\" class=\"row_heading level0 row2\" >2</th>\n                        <td id=\"T_5f17dd6c_15d5_11ee_9372_acde48001122row2_col0\" class=\"data row2 col0\" >12189868</td>\n                        <td id=\"T_5f17dd6c_15d5_11ee_9372_acde48001122row2_col1\" class=\"data row2 col1\" >1828480.20</td>\n                        <td id=\"T_5f17dd6c_15d5_11ee_9372_acde48001122row2_col2\" class=\"data row2 col2\" >240</td>\n                        <td id=\"T_5f17dd6c_15d5_11ee_9372_acde48001122row2_col3\" class=\"data row2 col3\" >0.045</td>\n                        <td id=\"T_5f17dd6c_15d5_11ee_9372_acde48001122row2_col4\" class=\"data row2 col4\" >10_361_387.8</td>\n                        <td id=\"T_5f17dd6c_15d5_11ee_9372_acde48001122row2_col5\" class=\"data row2 col5\" >65_551.26</td>\n                        <td id=\"T_5f17dd6c_15d5_11ee_9372_acde48001122row2_col6\" class=\"data row2 col6\" >5_370_913.47</td>\n            </tr>\n            <tr>\n                        <th id=\"T_5f17dd6c_15d5_11ee_9372_acde48001122level0_row3\" class=\"row_heading level0 row3\" >3</th>\n                        <td id=\"T_5f17dd6c_15d5_11ee_9372_acde48001122row3_col0\" class=\"data row3 col0\" >12189868</td>\n                        <td id=\"T_5f17dd6c_15d5_11ee_9372_acde48001122row3_col1\" class=\"data row3 col1\" >1828480.20</td>\n                        <td id=\"T_5f17dd6c_15d5_11ee_9372_acde48001122row3_col2\" class=\"data row3 col2\" >360</td>\n                        <td id=\"T_5f17dd6c_15d5_11ee_9372_acde48001122row3_col3\" class=\"data row3 col3\" >0.045</td>\n                        <td id=\"T_5f17dd6c_15d5_11ee_9372_acde48001122row3_col4\" class=\"data row3 col4\" >10_361_387.8</td>\n                        <td id=\"T_5f17dd6c_15d5_11ee_9372_acde48001122row3_col5\" class=\"data row3 col5\" >52_499.63</td>\n                        <td id=\"T_5f17dd6c_15d5_11ee_9372_acde48001122row3_col6\" class=\"data row3 col6\" >8_538_478.96</td>\n            </tr>\n    </tbody></table>"
     },
     "execution_count": 45,
     "metadata": {},
     "output_type": "execute_result"
    }
   ],
   "source": [
    "import pandas as pd\n",
    "\n",
    "diff = pd.DataFrame(params)\n",
    "diff = diff.rename(columns={0:'s', 1:'fst', 2:'n', 3:'p'})\n",
    "diff['debt'] = diff['s'] - diff['fst']\n",
    "diff[['payment', 'overpay']] =  diff.apply(lambda row: annuit(row), axis='columns', result_type='expand')\n",
    "diff.style.format({'fst':'{:.2f}','p': '{:.3f}', 'debt':'{0:_}', 'payment':'{0:_.2f}', 'overpay':'{0:_.2f}'})"
   ],
   "metadata": {
    "collapsed": false,
    "ExecuteTime": {
     "end_time": "2023-06-28T17:01:06.283447Z",
     "start_time": "2023-06-28T17:01:06.273879Z"
    }
   }
  },
  {
   "cell_type": "markdown",
   "source": [
    "Кредит дадут на миллиард лет, но гасить лучше досрочно. Посчитаем, лучше сразу ебашить по 200 тыр или можно начать через 3 месяца."
   ],
   "metadata": {
    "collapsed": false
   }
  },
  {
   "cell_type": "code",
   "execution_count": 85,
   "outputs": [
    {
     "name": "stdout",
     "output_type": "stream",
     "text": [
      "Overpay =  1277800.250170369\n",
      "n =  61\n",
      "Overpay =  1181026.4180786763\n",
      "n =  58\n",
      "96773.8320916926\n"
     ]
    }
   ],
   "source": [
    "# сколько платить, периодичность (0 - разово, 1 - раз в месяц, 2 - раз в 2 месяца и тд), начало, конец\n",
    "early_payments =[[200000, 1, 4, 10000]]\n",
    "payments = payment_schedule_early(diff.loc[2],early_payments)\n",
    "overpay1 = payments.perc_mon.sum()\n",
    "print('Overpay = ', overpay1)\n",
    "print('n = ',payments.shape[0])\n",
    "\n",
    "# сколько платить, периодичность (0 - разово, 1 - раз в месяц, 2 - раз в 2 месяца и тд), начало, конец\n",
    "early_payments =[[200000, 1, 1, 10000]]\n",
    "payments = payment_schedule_early(diff.loc[2],early_payments)\n",
    "overpay2 = payments.perc_mon.sum()\n",
    "print('Overpay = ', overpay2)\n",
    "print('n = ',payments.shape[0])\n",
    "print(overpay1-overpay2)"
   ],
   "metadata": {
    "collapsed": false,
    "ExecuteTime": {
     "end_time": "2023-06-28T17:30:48.647074Z",
     "start_time": "2023-06-28T17:30:48.642038Z"
    }
   }
  },
  {
   "cell_type": "markdown",
   "source": [
    "ПЕРЕПЛАТА БУДЕТ СТОИТЬ 100 ТЫЩ, ГАСИМ СРАЗУ"
   ],
   "metadata": {
    "collapsed": false
   }
  },
  {
   "cell_type": "markdown",
   "source": [
    "График платежей тогда такой"
   ],
   "metadata": {
    "collapsed": false
   }
  },
  {
   "cell_type": "code",
   "execution_count": 87,
   "outputs": [
    {
     "data": {
      "text/plain": "<pandas.io.formats.style.Styler at 0x7fafbaade100>",
      "text/html": "<style  type=\"text/css\" >\n</style><table id=\"T_d1e05622_15d9_11ee_9372_acde48001122\" ><thead>    <tr>        <th class=\"blank level0\" ></th>        <th class=\"col_heading level0 col0\" >i</th>        <th class=\"col_heading level0 col1\" >payment</th>        <th class=\"col_heading level0 col2\" >rest</th>        <th class=\"col_heading level0 col3\" >perc_mon</th>        <th class=\"col_heading level0 col4\" >debt_mon</th>    </tr></thead><tbody>\n                <tr>\n                        <th id=\"T_d1e05622_15d9_11ee_9372_acde48001122level0_row0\" class=\"row_heading level0 row0\" >0</th>\n                        <td id=\"T_d1e05622_15d9_11ee_9372_acde48001122row0_col0\" class=\"data row0 col0\" >1</td>\n                        <td id=\"T_d1e05622_15d9_11ee_9372_acde48001122row0_col1\" class=\"data row0 col1\" >200000.000000</td>\n                        <td id=\"T_d1e05622_15d9_11ee_9372_acde48001122row0_col2\" class=\"data row0 col2\" >10_200_243.00</td>\n                        <td id=\"T_d1e05622_15d9_11ee_9372_acde48001122row0_col3\" class=\"data row0 col3\" >38855.20</td>\n                        <td id=\"T_d1e05622_15d9_11ee_9372_acde48001122row0_col4\" class=\"data row0 col4\" >161144.80</td>\n            </tr>\n            <tr>\n                        <th id=\"T_d1e05622_15d9_11ee_9372_acde48001122level0_row1\" class=\"row_heading level0 row1\" >1</th>\n                        <td id=\"T_d1e05622_15d9_11ee_9372_acde48001122row1_col0\" class=\"data row1 col0\" >2</td>\n                        <td id=\"T_d1e05622_15d9_11ee_9372_acde48001122row1_col1\" class=\"data row1 col1\" >200000.000000</td>\n                        <td id=\"T_d1e05622_15d9_11ee_9372_acde48001122row1_col2\" class=\"data row1 col2\" >10_038_493.92</td>\n                        <td id=\"T_d1e05622_15d9_11ee_9372_acde48001122row1_col3\" class=\"data row1 col3\" >38250.91</td>\n                        <td id=\"T_d1e05622_15d9_11ee_9372_acde48001122row1_col4\" class=\"data row1 col4\" >161749.09</td>\n            </tr>\n            <tr>\n                        <th id=\"T_d1e05622_15d9_11ee_9372_acde48001122level0_row2\" class=\"row_heading level0 row2\" >2</th>\n                        <td id=\"T_d1e05622_15d9_11ee_9372_acde48001122row2_col0\" class=\"data row2 col0\" >3</td>\n                        <td id=\"T_d1e05622_15d9_11ee_9372_acde48001122row2_col1\" class=\"data row2 col1\" >200000.000000</td>\n                        <td id=\"T_d1e05622_15d9_11ee_9372_acde48001122row2_col2\" class=\"data row2 col2\" >9_876_138.27</td>\n                        <td id=\"T_d1e05622_15d9_11ee_9372_acde48001122row2_col3\" class=\"data row2 col3\" >37644.35</td>\n                        <td id=\"T_d1e05622_15d9_11ee_9372_acde48001122row2_col4\" class=\"data row2 col4\" >162355.65</td>\n            </tr>\n            <tr>\n                        <th id=\"T_d1e05622_15d9_11ee_9372_acde48001122level0_row3\" class=\"row_heading level0 row3\" >3</th>\n                        <td id=\"T_d1e05622_15d9_11ee_9372_acde48001122row3_col0\" class=\"data row3 col0\" >4</td>\n                        <td id=\"T_d1e05622_15d9_11ee_9372_acde48001122row3_col1\" class=\"data row3 col1\" >200000.000000</td>\n                        <td id=\"T_d1e05622_15d9_11ee_9372_acde48001122row3_col2\" class=\"data row3 col2\" >9_713_173.79</td>\n                        <td id=\"T_d1e05622_15d9_11ee_9372_acde48001122row3_col3\" class=\"data row3 col3\" >37035.52</td>\n                        <td id=\"T_d1e05622_15d9_11ee_9372_acde48001122row3_col4\" class=\"data row3 col4\" >162964.48</td>\n            </tr>\n            <tr>\n                        <th id=\"T_d1e05622_15d9_11ee_9372_acde48001122level0_row4\" class=\"row_heading level0 row4\" >4</th>\n                        <td id=\"T_d1e05622_15d9_11ee_9372_acde48001122row4_col0\" class=\"data row4 col0\" >5</td>\n                        <td id=\"T_d1e05622_15d9_11ee_9372_acde48001122row4_col1\" class=\"data row4 col1\" >200000.000000</td>\n                        <td id=\"T_d1e05622_15d9_11ee_9372_acde48001122row4_col2\" class=\"data row4 col2\" >9_549_598.19</td>\n                        <td id=\"T_d1e05622_15d9_11ee_9372_acde48001122row4_col3\" class=\"data row4 col3\" >36424.40</td>\n                        <td id=\"T_d1e05622_15d9_11ee_9372_acde48001122row4_col4\" class=\"data row4 col4\" >163575.60</td>\n            </tr>\n            <tr>\n                        <th id=\"T_d1e05622_15d9_11ee_9372_acde48001122level0_row5\" class=\"row_heading level0 row5\" >5</th>\n                        <td id=\"T_d1e05622_15d9_11ee_9372_acde48001122row5_col0\" class=\"data row5 col0\" >6</td>\n                        <td id=\"T_d1e05622_15d9_11ee_9372_acde48001122row5_col1\" class=\"data row5 col1\" >200000.000000</td>\n                        <td id=\"T_d1e05622_15d9_11ee_9372_acde48001122row5_col2\" class=\"data row5 col2\" >9_385_409.18</td>\n                        <td id=\"T_d1e05622_15d9_11ee_9372_acde48001122row5_col3\" class=\"data row5 col3\" >35810.99</td>\n                        <td id=\"T_d1e05622_15d9_11ee_9372_acde48001122row5_col4\" class=\"data row5 col4\" >164189.01</td>\n            </tr>\n            <tr>\n                        <th id=\"T_d1e05622_15d9_11ee_9372_acde48001122level0_row6\" class=\"row_heading level0 row6\" >6</th>\n                        <td id=\"T_d1e05622_15d9_11ee_9372_acde48001122row6_col0\" class=\"data row6 col0\" >7</td>\n                        <td id=\"T_d1e05622_15d9_11ee_9372_acde48001122row6_col1\" class=\"data row6 col1\" >200000.000000</td>\n                        <td id=\"T_d1e05622_15d9_11ee_9372_acde48001122row6_col2\" class=\"data row6 col2\" >9_220_604.47</td>\n                        <td id=\"T_d1e05622_15d9_11ee_9372_acde48001122row6_col3\" class=\"data row6 col3\" >35195.28</td>\n                        <td id=\"T_d1e05622_15d9_11ee_9372_acde48001122row6_col4\" class=\"data row6 col4\" >164804.72</td>\n            </tr>\n            <tr>\n                        <th id=\"T_d1e05622_15d9_11ee_9372_acde48001122level0_row7\" class=\"row_heading level0 row7\" >7</th>\n                        <td id=\"T_d1e05622_15d9_11ee_9372_acde48001122row7_col0\" class=\"data row7 col0\" >8</td>\n                        <td id=\"T_d1e05622_15d9_11ee_9372_acde48001122row7_col1\" class=\"data row7 col1\" >200000.000000</td>\n                        <td id=\"T_d1e05622_15d9_11ee_9372_acde48001122row7_col2\" class=\"data row7 col2\" >9_055_181.73</td>\n                        <td id=\"T_d1e05622_15d9_11ee_9372_acde48001122row7_col3\" class=\"data row7 col3\" >34577.27</td>\n                        <td id=\"T_d1e05622_15d9_11ee_9372_acde48001122row7_col4\" class=\"data row7 col4\" >165422.73</td>\n            </tr>\n            <tr>\n                        <th id=\"T_d1e05622_15d9_11ee_9372_acde48001122level0_row8\" class=\"row_heading level0 row8\" >8</th>\n                        <td id=\"T_d1e05622_15d9_11ee_9372_acde48001122row8_col0\" class=\"data row8 col0\" >9</td>\n                        <td id=\"T_d1e05622_15d9_11ee_9372_acde48001122row8_col1\" class=\"data row8 col1\" >200000.000000</td>\n                        <td id=\"T_d1e05622_15d9_11ee_9372_acde48001122row8_col2\" class=\"data row8 col2\" >8_889_138.66</td>\n                        <td id=\"T_d1e05622_15d9_11ee_9372_acde48001122row8_col3\" class=\"data row8 col3\" >33956.93</td>\n                        <td id=\"T_d1e05622_15d9_11ee_9372_acde48001122row8_col4\" class=\"data row8 col4\" >166043.07</td>\n            </tr>\n            <tr>\n                        <th id=\"T_d1e05622_15d9_11ee_9372_acde48001122level0_row9\" class=\"row_heading level0 row9\" >9</th>\n                        <td id=\"T_d1e05622_15d9_11ee_9372_acde48001122row9_col0\" class=\"data row9 col0\" >10</td>\n                        <td id=\"T_d1e05622_15d9_11ee_9372_acde48001122row9_col1\" class=\"data row9 col1\" >200000.000000</td>\n                        <td id=\"T_d1e05622_15d9_11ee_9372_acde48001122row9_col2\" class=\"data row9 col2\" >8_722_472.93</td>\n                        <td id=\"T_d1e05622_15d9_11ee_9372_acde48001122row9_col3\" class=\"data row9 col3\" >33334.27</td>\n                        <td id=\"T_d1e05622_15d9_11ee_9372_acde48001122row9_col4\" class=\"data row9 col4\" >166665.73</td>\n            </tr>\n            <tr>\n                        <th id=\"T_d1e05622_15d9_11ee_9372_acde48001122level0_row10\" class=\"row_heading level0 row10\" >10</th>\n                        <td id=\"T_d1e05622_15d9_11ee_9372_acde48001122row10_col0\" class=\"data row10 col0\" >11</td>\n                        <td id=\"T_d1e05622_15d9_11ee_9372_acde48001122row10_col1\" class=\"data row10 col1\" >200000.000000</td>\n                        <td id=\"T_d1e05622_15d9_11ee_9372_acde48001122row10_col2\" class=\"data row10 col2\" >8_555_182.21</td>\n                        <td id=\"T_d1e05622_15d9_11ee_9372_acde48001122row10_col3\" class=\"data row10 col3\" >32709.27</td>\n                        <td id=\"T_d1e05622_15d9_11ee_9372_acde48001122row10_col4\" class=\"data row10 col4\" >167290.73</td>\n            </tr>\n            <tr>\n                        <th id=\"T_d1e05622_15d9_11ee_9372_acde48001122level0_row11\" class=\"row_heading level0 row11\" >11</th>\n                        <td id=\"T_d1e05622_15d9_11ee_9372_acde48001122row11_col0\" class=\"data row11 col0\" >12</td>\n                        <td id=\"T_d1e05622_15d9_11ee_9372_acde48001122row11_col1\" class=\"data row11 col1\" >200000.000000</td>\n                        <td id=\"T_d1e05622_15d9_11ee_9372_acde48001122row11_col2\" class=\"data row11 col2\" >8_387_264.14</td>\n                        <td id=\"T_d1e05622_15d9_11ee_9372_acde48001122row11_col3\" class=\"data row11 col3\" >32081.93</td>\n                        <td id=\"T_d1e05622_15d9_11ee_9372_acde48001122row11_col4\" class=\"data row11 col4\" >167918.07</td>\n            </tr>\n            <tr>\n                        <th id=\"T_d1e05622_15d9_11ee_9372_acde48001122level0_row12\" class=\"row_heading level0 row12\" >12</th>\n                        <td id=\"T_d1e05622_15d9_11ee_9372_acde48001122row12_col0\" class=\"data row12 col0\" >13</td>\n                        <td id=\"T_d1e05622_15d9_11ee_9372_acde48001122row12_col1\" class=\"data row12 col1\" >200000.000000</td>\n                        <td id=\"T_d1e05622_15d9_11ee_9372_acde48001122row12_col2\" class=\"data row12 col2\" >8_218_716.38</td>\n                        <td id=\"T_d1e05622_15d9_11ee_9372_acde48001122row12_col3\" class=\"data row12 col3\" >31452.24</td>\n                        <td id=\"T_d1e05622_15d9_11ee_9372_acde48001122row12_col4\" class=\"data row12 col4\" >168547.76</td>\n            </tr>\n            <tr>\n                        <th id=\"T_d1e05622_15d9_11ee_9372_acde48001122level0_row13\" class=\"row_heading level0 row13\" >13</th>\n                        <td id=\"T_d1e05622_15d9_11ee_9372_acde48001122row13_col0\" class=\"data row13 col0\" >14</td>\n                        <td id=\"T_d1e05622_15d9_11ee_9372_acde48001122row13_col1\" class=\"data row13 col1\" >200000.000000</td>\n                        <td id=\"T_d1e05622_15d9_11ee_9372_acde48001122row13_col2\" class=\"data row13 col2\" >8_049_536.57</td>\n                        <td id=\"T_d1e05622_15d9_11ee_9372_acde48001122row13_col3\" class=\"data row13 col3\" >30820.19</td>\n                        <td id=\"T_d1e05622_15d9_11ee_9372_acde48001122row13_col4\" class=\"data row13 col4\" >169179.81</td>\n            </tr>\n            <tr>\n                        <th id=\"T_d1e05622_15d9_11ee_9372_acde48001122level0_row14\" class=\"row_heading level0 row14\" >14</th>\n                        <td id=\"T_d1e05622_15d9_11ee_9372_acde48001122row14_col0\" class=\"data row14 col0\" >15</td>\n                        <td id=\"T_d1e05622_15d9_11ee_9372_acde48001122row14_col1\" class=\"data row14 col1\" >200000.000000</td>\n                        <td id=\"T_d1e05622_15d9_11ee_9372_acde48001122row14_col2\" class=\"data row14 col2\" >7_879_722.33</td>\n                        <td id=\"T_d1e05622_15d9_11ee_9372_acde48001122row14_col3\" class=\"data row14 col3\" >30185.76</td>\n                        <td id=\"T_d1e05622_15d9_11ee_9372_acde48001122row14_col4\" class=\"data row14 col4\" >169814.24</td>\n            </tr>\n            <tr>\n                        <th id=\"T_d1e05622_15d9_11ee_9372_acde48001122level0_row15\" class=\"row_heading level0 row15\" >15</th>\n                        <td id=\"T_d1e05622_15d9_11ee_9372_acde48001122row15_col0\" class=\"data row15 col0\" >16</td>\n                        <td id=\"T_d1e05622_15d9_11ee_9372_acde48001122row15_col1\" class=\"data row15 col1\" >200000.000000</td>\n                        <td id=\"T_d1e05622_15d9_11ee_9372_acde48001122row15_col2\" class=\"data row15 col2\" >7_709_271.29</td>\n                        <td id=\"T_d1e05622_15d9_11ee_9372_acde48001122row15_col3\" class=\"data row15 col3\" >29548.96</td>\n                        <td id=\"T_d1e05622_15d9_11ee_9372_acde48001122row15_col4\" class=\"data row15 col4\" >170451.04</td>\n            </tr>\n            <tr>\n                        <th id=\"T_d1e05622_15d9_11ee_9372_acde48001122level0_row16\" class=\"row_heading level0 row16\" >16</th>\n                        <td id=\"T_d1e05622_15d9_11ee_9372_acde48001122row16_col0\" class=\"data row16 col0\" >17</td>\n                        <td id=\"T_d1e05622_15d9_11ee_9372_acde48001122row16_col1\" class=\"data row16 col1\" >200000.000000</td>\n                        <td id=\"T_d1e05622_15d9_11ee_9372_acde48001122row16_col2\" class=\"data row16 col2\" >7_538_181.06</td>\n                        <td id=\"T_d1e05622_15d9_11ee_9372_acde48001122row16_col3\" class=\"data row16 col3\" >28909.77</td>\n                        <td id=\"T_d1e05622_15d9_11ee_9372_acde48001122row16_col4\" class=\"data row16 col4\" >171090.23</td>\n            </tr>\n            <tr>\n                        <th id=\"T_d1e05622_15d9_11ee_9372_acde48001122level0_row17\" class=\"row_heading level0 row17\" >17</th>\n                        <td id=\"T_d1e05622_15d9_11ee_9372_acde48001122row17_col0\" class=\"data row17 col0\" >18</td>\n                        <td id=\"T_d1e05622_15d9_11ee_9372_acde48001122row17_col1\" class=\"data row17 col1\" >200000.000000</td>\n                        <td id=\"T_d1e05622_15d9_11ee_9372_acde48001122row17_col2\" class=\"data row17 col2\" >7_366_449.23</td>\n                        <td id=\"T_d1e05622_15d9_11ee_9372_acde48001122row17_col3\" class=\"data row17 col3\" >28268.18</td>\n                        <td id=\"T_d1e05622_15d9_11ee_9372_acde48001122row17_col4\" class=\"data row17 col4\" >171731.82</td>\n            </tr>\n            <tr>\n                        <th id=\"T_d1e05622_15d9_11ee_9372_acde48001122level0_row18\" class=\"row_heading level0 row18\" >18</th>\n                        <td id=\"T_d1e05622_15d9_11ee_9372_acde48001122row18_col0\" class=\"data row18 col0\" >19</td>\n                        <td id=\"T_d1e05622_15d9_11ee_9372_acde48001122row18_col1\" class=\"data row18 col1\" >200000.000000</td>\n                        <td id=\"T_d1e05622_15d9_11ee_9372_acde48001122row18_col2\" class=\"data row18 col2\" >7_194_073.42</td>\n                        <td id=\"T_d1e05622_15d9_11ee_9372_acde48001122row18_col3\" class=\"data row18 col3\" >27624.18</td>\n                        <td id=\"T_d1e05622_15d9_11ee_9372_acde48001122row18_col4\" class=\"data row18 col4\" >172375.82</td>\n            </tr>\n            <tr>\n                        <th id=\"T_d1e05622_15d9_11ee_9372_acde48001122level0_row19\" class=\"row_heading level0 row19\" >19</th>\n                        <td id=\"T_d1e05622_15d9_11ee_9372_acde48001122row19_col0\" class=\"data row19 col0\" >20</td>\n                        <td id=\"T_d1e05622_15d9_11ee_9372_acde48001122row19_col1\" class=\"data row19 col1\" >200000.000000</td>\n                        <td id=\"T_d1e05622_15d9_11ee_9372_acde48001122row19_col2\" class=\"data row19 col2\" >7_021_051.19</td>\n                        <td id=\"T_d1e05622_15d9_11ee_9372_acde48001122row19_col3\" class=\"data row19 col3\" >26977.78</td>\n                        <td id=\"T_d1e05622_15d9_11ee_9372_acde48001122row19_col4\" class=\"data row19 col4\" >173022.22</td>\n            </tr>\n            <tr>\n                        <th id=\"T_d1e05622_15d9_11ee_9372_acde48001122level0_row20\" class=\"row_heading level0 row20\" >20</th>\n                        <td id=\"T_d1e05622_15d9_11ee_9372_acde48001122row20_col0\" class=\"data row20 col0\" >21</td>\n                        <td id=\"T_d1e05622_15d9_11ee_9372_acde48001122row20_col1\" class=\"data row20 col1\" >200000.000000</td>\n                        <td id=\"T_d1e05622_15d9_11ee_9372_acde48001122row20_col2\" class=\"data row20 col2\" >6_847_380.14</td>\n                        <td id=\"T_d1e05622_15d9_11ee_9372_acde48001122row20_col3\" class=\"data row20 col3\" >26328.94</td>\n                        <td id=\"T_d1e05622_15d9_11ee_9372_acde48001122row20_col4\" class=\"data row20 col4\" >173671.06</td>\n            </tr>\n            <tr>\n                        <th id=\"T_d1e05622_15d9_11ee_9372_acde48001122level0_row21\" class=\"row_heading level0 row21\" >21</th>\n                        <td id=\"T_d1e05622_15d9_11ee_9372_acde48001122row21_col0\" class=\"data row21 col0\" >22</td>\n                        <td id=\"T_d1e05622_15d9_11ee_9372_acde48001122row21_col1\" class=\"data row21 col1\" >200000.000000</td>\n                        <td id=\"T_d1e05622_15d9_11ee_9372_acde48001122row21_col2\" class=\"data row21 col2\" >6_673_057.81</td>\n                        <td id=\"T_d1e05622_15d9_11ee_9372_acde48001122row21_col3\" class=\"data row21 col3\" >25677.68</td>\n                        <td id=\"T_d1e05622_15d9_11ee_9372_acde48001122row21_col4\" class=\"data row21 col4\" >174322.32</td>\n            </tr>\n            <tr>\n                        <th id=\"T_d1e05622_15d9_11ee_9372_acde48001122level0_row22\" class=\"row_heading level0 row22\" >22</th>\n                        <td id=\"T_d1e05622_15d9_11ee_9372_acde48001122row22_col0\" class=\"data row22 col0\" >23</td>\n                        <td id=\"T_d1e05622_15d9_11ee_9372_acde48001122row22_col1\" class=\"data row22 col1\" >200000.000000</td>\n                        <td id=\"T_d1e05622_15d9_11ee_9372_acde48001122row22_col2\" class=\"data row22 col2\" >6_498_081.78</td>\n                        <td id=\"T_d1e05622_15d9_11ee_9372_acde48001122row22_col3\" class=\"data row22 col3\" >25023.97</td>\n                        <td id=\"T_d1e05622_15d9_11ee_9372_acde48001122row22_col4\" class=\"data row22 col4\" >174976.03</td>\n            </tr>\n            <tr>\n                        <th id=\"T_d1e05622_15d9_11ee_9372_acde48001122level0_row23\" class=\"row_heading level0 row23\" >23</th>\n                        <td id=\"T_d1e05622_15d9_11ee_9372_acde48001122row23_col0\" class=\"data row23 col0\" >24</td>\n                        <td id=\"T_d1e05622_15d9_11ee_9372_acde48001122row23_col1\" class=\"data row23 col1\" >200000.000000</td>\n                        <td id=\"T_d1e05622_15d9_11ee_9372_acde48001122row23_col2\" class=\"data row23 col2\" >6_322_449.59</td>\n                        <td id=\"T_d1e05622_15d9_11ee_9372_acde48001122row23_col3\" class=\"data row23 col3\" >24367.81</td>\n                        <td id=\"T_d1e05622_15d9_11ee_9372_acde48001122row23_col4\" class=\"data row23 col4\" >175632.19</td>\n            </tr>\n            <tr>\n                        <th id=\"T_d1e05622_15d9_11ee_9372_acde48001122level0_row24\" class=\"row_heading level0 row24\" >24</th>\n                        <td id=\"T_d1e05622_15d9_11ee_9372_acde48001122row24_col0\" class=\"data row24 col0\" >25</td>\n                        <td id=\"T_d1e05622_15d9_11ee_9372_acde48001122row24_col1\" class=\"data row24 col1\" >200000.000000</td>\n                        <td id=\"T_d1e05622_15d9_11ee_9372_acde48001122row24_col2\" class=\"data row24 col2\" >6_146_158.77</td>\n                        <td id=\"T_d1e05622_15d9_11ee_9372_acde48001122row24_col3\" class=\"data row24 col3\" >23709.19</td>\n                        <td id=\"T_d1e05622_15d9_11ee_9372_acde48001122row24_col4\" class=\"data row24 col4\" >176290.81</td>\n            </tr>\n            <tr>\n                        <th id=\"T_d1e05622_15d9_11ee_9372_acde48001122level0_row25\" class=\"row_heading level0 row25\" >25</th>\n                        <td id=\"T_d1e05622_15d9_11ee_9372_acde48001122row25_col0\" class=\"data row25 col0\" >26</td>\n                        <td id=\"T_d1e05622_15d9_11ee_9372_acde48001122row25_col1\" class=\"data row25 col1\" >200000.000000</td>\n                        <td id=\"T_d1e05622_15d9_11ee_9372_acde48001122row25_col2\" class=\"data row25 col2\" >5_969_206.87</td>\n                        <td id=\"T_d1e05622_15d9_11ee_9372_acde48001122row25_col3\" class=\"data row25 col3\" >23048.10</td>\n                        <td id=\"T_d1e05622_15d9_11ee_9372_acde48001122row25_col4\" class=\"data row25 col4\" >176951.90</td>\n            </tr>\n            <tr>\n                        <th id=\"T_d1e05622_15d9_11ee_9372_acde48001122level0_row26\" class=\"row_heading level0 row26\" >26</th>\n                        <td id=\"T_d1e05622_15d9_11ee_9372_acde48001122row26_col0\" class=\"data row26 col0\" >27</td>\n                        <td id=\"T_d1e05622_15d9_11ee_9372_acde48001122row26_col1\" class=\"data row26 col1\" >200000.000000</td>\n                        <td id=\"T_d1e05622_15d9_11ee_9372_acde48001122row26_col2\" class=\"data row26 col2\" >5_791_591.39</td>\n                        <td id=\"T_d1e05622_15d9_11ee_9372_acde48001122row26_col3\" class=\"data row26 col3\" >22384.53</td>\n                        <td id=\"T_d1e05622_15d9_11ee_9372_acde48001122row26_col4\" class=\"data row26 col4\" >177615.47</td>\n            </tr>\n            <tr>\n                        <th id=\"T_d1e05622_15d9_11ee_9372_acde48001122level0_row27\" class=\"row_heading level0 row27\" >27</th>\n                        <td id=\"T_d1e05622_15d9_11ee_9372_acde48001122row27_col0\" class=\"data row27 col0\" >28</td>\n                        <td id=\"T_d1e05622_15d9_11ee_9372_acde48001122row27_col1\" class=\"data row27 col1\" >200000.000000</td>\n                        <td id=\"T_d1e05622_15d9_11ee_9372_acde48001122row27_col2\" class=\"data row27 col2\" >5_613_309.86</td>\n                        <td id=\"T_d1e05622_15d9_11ee_9372_acde48001122row27_col3\" class=\"data row27 col3\" >21718.47</td>\n                        <td id=\"T_d1e05622_15d9_11ee_9372_acde48001122row27_col4\" class=\"data row27 col4\" >178281.53</td>\n            </tr>\n            <tr>\n                        <th id=\"T_d1e05622_15d9_11ee_9372_acde48001122level0_row28\" class=\"row_heading level0 row28\" >28</th>\n                        <td id=\"T_d1e05622_15d9_11ee_9372_acde48001122row28_col0\" class=\"data row28 col0\" >29</td>\n                        <td id=\"T_d1e05622_15d9_11ee_9372_acde48001122row28_col1\" class=\"data row28 col1\" >200000.000000</td>\n                        <td id=\"T_d1e05622_15d9_11ee_9372_acde48001122row28_col2\" class=\"data row28 col2\" >5_434_359.77</td>\n                        <td id=\"T_d1e05622_15d9_11ee_9372_acde48001122row28_col3\" class=\"data row28 col3\" >21049.91</td>\n                        <td id=\"T_d1e05622_15d9_11ee_9372_acde48001122row28_col4\" class=\"data row28 col4\" >178950.09</td>\n            </tr>\n            <tr>\n                        <th id=\"T_d1e05622_15d9_11ee_9372_acde48001122level0_row29\" class=\"row_heading level0 row29\" >29</th>\n                        <td id=\"T_d1e05622_15d9_11ee_9372_acde48001122row29_col0\" class=\"data row29 col0\" >30</td>\n                        <td id=\"T_d1e05622_15d9_11ee_9372_acde48001122row29_col1\" class=\"data row29 col1\" >200000.000000</td>\n                        <td id=\"T_d1e05622_15d9_11ee_9372_acde48001122row29_col2\" class=\"data row29 col2\" >5_254_738.62</td>\n                        <td id=\"T_d1e05622_15d9_11ee_9372_acde48001122row29_col3\" class=\"data row29 col3\" >20378.85</td>\n                        <td id=\"T_d1e05622_15d9_11ee_9372_acde48001122row29_col4\" class=\"data row29 col4\" >179621.15</td>\n            </tr>\n            <tr>\n                        <th id=\"T_d1e05622_15d9_11ee_9372_acde48001122level0_row30\" class=\"row_heading level0 row30\" >30</th>\n                        <td id=\"T_d1e05622_15d9_11ee_9372_acde48001122row30_col0\" class=\"data row30 col0\" >31</td>\n                        <td id=\"T_d1e05622_15d9_11ee_9372_acde48001122row30_col1\" class=\"data row30 col1\" >200000.000000</td>\n                        <td id=\"T_d1e05622_15d9_11ee_9372_acde48001122row30_col2\" class=\"data row30 col2\" >5_074_443.89</td>\n                        <td id=\"T_d1e05622_15d9_11ee_9372_acde48001122row30_col3\" class=\"data row30 col3\" >19705.27</td>\n                        <td id=\"T_d1e05622_15d9_11ee_9372_acde48001122row30_col4\" class=\"data row30 col4\" >180294.73</td>\n            </tr>\n            <tr>\n                        <th id=\"T_d1e05622_15d9_11ee_9372_acde48001122level0_row31\" class=\"row_heading level0 row31\" >31</th>\n                        <td id=\"T_d1e05622_15d9_11ee_9372_acde48001122row31_col0\" class=\"data row31 col0\" >32</td>\n                        <td id=\"T_d1e05622_15d9_11ee_9372_acde48001122row31_col1\" class=\"data row31 col1\" >200000.000000</td>\n                        <td id=\"T_d1e05622_15d9_11ee_9372_acde48001122row31_col2\" class=\"data row31 col2\" >4_893_473.06</td>\n                        <td id=\"T_d1e05622_15d9_11ee_9372_acde48001122row31_col3\" class=\"data row31 col3\" >19029.16</td>\n                        <td id=\"T_d1e05622_15d9_11ee_9372_acde48001122row31_col4\" class=\"data row31 col4\" >180970.84</td>\n            </tr>\n            <tr>\n                        <th id=\"T_d1e05622_15d9_11ee_9372_acde48001122level0_row32\" class=\"row_heading level0 row32\" >32</th>\n                        <td id=\"T_d1e05622_15d9_11ee_9372_acde48001122row32_col0\" class=\"data row32 col0\" >33</td>\n                        <td id=\"T_d1e05622_15d9_11ee_9372_acde48001122row32_col1\" class=\"data row32 col1\" >200000.000000</td>\n                        <td id=\"T_d1e05622_15d9_11ee_9372_acde48001122row32_col2\" class=\"data row32 col2\" >4_711_823.58</td>\n                        <td id=\"T_d1e05622_15d9_11ee_9372_acde48001122row32_col3\" class=\"data row32 col3\" >18350.52</td>\n                        <td id=\"T_d1e05622_15d9_11ee_9372_acde48001122row32_col4\" class=\"data row32 col4\" >181649.48</td>\n            </tr>\n            <tr>\n                        <th id=\"T_d1e05622_15d9_11ee_9372_acde48001122level0_row33\" class=\"row_heading level0 row33\" >33</th>\n                        <td id=\"T_d1e05622_15d9_11ee_9372_acde48001122row33_col0\" class=\"data row33 col0\" >34</td>\n                        <td id=\"T_d1e05622_15d9_11ee_9372_acde48001122row33_col1\" class=\"data row33 col1\" >200000.000000</td>\n                        <td id=\"T_d1e05622_15d9_11ee_9372_acde48001122row33_col2\" class=\"data row33 col2\" >4_529_492.92</td>\n                        <td id=\"T_d1e05622_15d9_11ee_9372_acde48001122row33_col3\" class=\"data row33 col3\" >17669.34</td>\n                        <td id=\"T_d1e05622_15d9_11ee_9372_acde48001122row33_col4\" class=\"data row33 col4\" >182330.66</td>\n            </tr>\n            <tr>\n                        <th id=\"T_d1e05622_15d9_11ee_9372_acde48001122level0_row34\" class=\"row_heading level0 row34\" >34</th>\n                        <td id=\"T_d1e05622_15d9_11ee_9372_acde48001122row34_col0\" class=\"data row34 col0\" >35</td>\n                        <td id=\"T_d1e05622_15d9_11ee_9372_acde48001122row34_col1\" class=\"data row34 col1\" >200000.000000</td>\n                        <td id=\"T_d1e05622_15d9_11ee_9372_acde48001122row34_col2\" class=\"data row34 col2\" >4_346_478.52</td>\n                        <td id=\"T_d1e05622_15d9_11ee_9372_acde48001122row34_col3\" class=\"data row34 col3\" >16985.60</td>\n                        <td id=\"T_d1e05622_15d9_11ee_9372_acde48001122row34_col4\" class=\"data row34 col4\" >183014.40</td>\n            </tr>\n            <tr>\n                        <th id=\"T_d1e05622_15d9_11ee_9372_acde48001122level0_row35\" class=\"row_heading level0 row35\" >35</th>\n                        <td id=\"T_d1e05622_15d9_11ee_9372_acde48001122row35_col0\" class=\"data row35 col0\" >36</td>\n                        <td id=\"T_d1e05622_15d9_11ee_9372_acde48001122row35_col1\" class=\"data row35 col1\" >200000.000000</td>\n                        <td id=\"T_d1e05622_15d9_11ee_9372_acde48001122row35_col2\" class=\"data row35 col2\" >4_162_777.81</td>\n                        <td id=\"T_d1e05622_15d9_11ee_9372_acde48001122row35_col3\" class=\"data row35 col3\" >16299.29</td>\n                        <td id=\"T_d1e05622_15d9_11ee_9372_acde48001122row35_col4\" class=\"data row35 col4\" >183700.71</td>\n            </tr>\n            <tr>\n                        <th id=\"T_d1e05622_15d9_11ee_9372_acde48001122level0_row36\" class=\"row_heading level0 row36\" >36</th>\n                        <td id=\"T_d1e05622_15d9_11ee_9372_acde48001122row36_col0\" class=\"data row36 col0\" >37</td>\n                        <td id=\"T_d1e05622_15d9_11ee_9372_acde48001122row36_col1\" class=\"data row36 col1\" >200000.000000</td>\n                        <td id=\"T_d1e05622_15d9_11ee_9372_acde48001122row36_col2\" class=\"data row36 col2\" >3_978_388.23</td>\n                        <td id=\"T_d1e05622_15d9_11ee_9372_acde48001122row36_col3\" class=\"data row36 col3\" >15610.42</td>\n                        <td id=\"T_d1e05622_15d9_11ee_9372_acde48001122row36_col4\" class=\"data row36 col4\" >184389.58</td>\n            </tr>\n            <tr>\n                        <th id=\"T_d1e05622_15d9_11ee_9372_acde48001122level0_row37\" class=\"row_heading level0 row37\" >37</th>\n                        <td id=\"T_d1e05622_15d9_11ee_9372_acde48001122row37_col0\" class=\"data row37 col0\" >38</td>\n                        <td id=\"T_d1e05622_15d9_11ee_9372_acde48001122row37_col1\" class=\"data row37 col1\" >200000.000000</td>\n                        <td id=\"T_d1e05622_15d9_11ee_9372_acde48001122row37_col2\" class=\"data row37 col2\" >3_793_307.18</td>\n                        <td id=\"T_d1e05622_15d9_11ee_9372_acde48001122row37_col3\" class=\"data row37 col3\" >14918.96</td>\n                        <td id=\"T_d1e05622_15d9_11ee_9372_acde48001122row37_col4\" class=\"data row37 col4\" >185081.04</td>\n            </tr>\n            <tr>\n                        <th id=\"T_d1e05622_15d9_11ee_9372_acde48001122level0_row38\" class=\"row_heading level0 row38\" >38</th>\n                        <td id=\"T_d1e05622_15d9_11ee_9372_acde48001122row38_col0\" class=\"data row38 col0\" >39</td>\n                        <td id=\"T_d1e05622_15d9_11ee_9372_acde48001122row38_col1\" class=\"data row38 col1\" >200000.000000</td>\n                        <td id=\"T_d1e05622_15d9_11ee_9372_acde48001122row38_col2\" class=\"data row38 col2\" >3_607_532.09</td>\n                        <td id=\"T_d1e05622_15d9_11ee_9372_acde48001122row38_col3\" class=\"data row38 col3\" >14224.90</td>\n                        <td id=\"T_d1e05622_15d9_11ee_9372_acde48001122row38_col4\" class=\"data row38 col4\" >185775.10</td>\n            </tr>\n            <tr>\n                        <th id=\"T_d1e05622_15d9_11ee_9372_acde48001122level0_row39\" class=\"row_heading level0 row39\" >39</th>\n                        <td id=\"T_d1e05622_15d9_11ee_9372_acde48001122row39_col0\" class=\"data row39 col0\" >40</td>\n                        <td id=\"T_d1e05622_15d9_11ee_9372_acde48001122row39_col1\" class=\"data row39 col1\" >200000.000000</td>\n                        <td id=\"T_d1e05622_15d9_11ee_9372_acde48001122row39_col2\" class=\"data row39 col2\" >3_421_060.33</td>\n                        <td id=\"T_d1e05622_15d9_11ee_9372_acde48001122row39_col3\" class=\"data row39 col3\" >13528.25</td>\n                        <td id=\"T_d1e05622_15d9_11ee_9372_acde48001122row39_col4\" class=\"data row39 col4\" >186471.75</td>\n            </tr>\n            <tr>\n                        <th id=\"T_d1e05622_15d9_11ee_9372_acde48001122level0_row40\" class=\"row_heading level0 row40\" >40</th>\n                        <td id=\"T_d1e05622_15d9_11ee_9372_acde48001122row40_col0\" class=\"data row40 col0\" >41</td>\n                        <td id=\"T_d1e05622_15d9_11ee_9372_acde48001122row40_col1\" class=\"data row40 col1\" >200000.000000</td>\n                        <td id=\"T_d1e05622_15d9_11ee_9372_acde48001122row40_col2\" class=\"data row40 col2\" >3_233_889.31</td>\n                        <td id=\"T_d1e05622_15d9_11ee_9372_acde48001122row40_col3\" class=\"data row40 col3\" >12828.98</td>\n                        <td id=\"T_d1e05622_15d9_11ee_9372_acde48001122row40_col4\" class=\"data row40 col4\" >187171.02</td>\n            </tr>\n            <tr>\n                        <th id=\"T_d1e05622_15d9_11ee_9372_acde48001122level0_row41\" class=\"row_heading level0 row41\" >41</th>\n                        <td id=\"T_d1e05622_15d9_11ee_9372_acde48001122row41_col0\" class=\"data row41 col0\" >42</td>\n                        <td id=\"T_d1e05622_15d9_11ee_9372_acde48001122row41_col1\" class=\"data row41 col1\" >200000.000000</td>\n                        <td id=\"T_d1e05622_15d9_11ee_9372_acde48001122row41_col2\" class=\"data row41 col2\" >3_046_016.39</td>\n                        <td id=\"T_d1e05622_15d9_11ee_9372_acde48001122row41_col3\" class=\"data row41 col3\" >12127.08</td>\n                        <td id=\"T_d1e05622_15d9_11ee_9372_acde48001122row41_col4\" class=\"data row41 col4\" >187872.92</td>\n            </tr>\n            <tr>\n                        <th id=\"T_d1e05622_15d9_11ee_9372_acde48001122level0_row42\" class=\"row_heading level0 row42\" >42</th>\n                        <td id=\"T_d1e05622_15d9_11ee_9372_acde48001122row42_col0\" class=\"data row42 col0\" >43</td>\n                        <td id=\"T_d1e05622_15d9_11ee_9372_acde48001122row42_col1\" class=\"data row42 col1\" >200000.000000</td>\n                        <td id=\"T_d1e05622_15d9_11ee_9372_acde48001122row42_col2\" class=\"data row42 col2\" >2_857_438.95</td>\n                        <td id=\"T_d1e05622_15d9_11ee_9372_acde48001122row42_col3\" class=\"data row42 col3\" >11422.56</td>\n                        <td id=\"T_d1e05622_15d9_11ee_9372_acde48001122row42_col4\" class=\"data row42 col4\" >188577.44</td>\n            </tr>\n            <tr>\n                        <th id=\"T_d1e05622_15d9_11ee_9372_acde48001122level0_row43\" class=\"row_heading level0 row43\" >43</th>\n                        <td id=\"T_d1e05622_15d9_11ee_9372_acde48001122row43_col0\" class=\"data row43 col0\" >44</td>\n                        <td id=\"T_d1e05622_15d9_11ee_9372_acde48001122row43_col1\" class=\"data row43 col1\" >200000.000000</td>\n                        <td id=\"T_d1e05622_15d9_11ee_9372_acde48001122row43_col2\" class=\"data row43 col2\" >2_668_154.35</td>\n                        <td id=\"T_d1e05622_15d9_11ee_9372_acde48001122row43_col3\" class=\"data row43 col3\" >10715.40</td>\n                        <td id=\"T_d1e05622_15d9_11ee_9372_acde48001122row43_col4\" class=\"data row43 col4\" >189284.60</td>\n            </tr>\n            <tr>\n                        <th id=\"T_d1e05622_15d9_11ee_9372_acde48001122level0_row44\" class=\"row_heading level0 row44\" >44</th>\n                        <td id=\"T_d1e05622_15d9_11ee_9372_acde48001122row44_col0\" class=\"data row44 col0\" >45</td>\n                        <td id=\"T_d1e05622_15d9_11ee_9372_acde48001122row44_col1\" class=\"data row44 col1\" >200000.000000</td>\n                        <td id=\"T_d1e05622_15d9_11ee_9372_acde48001122row44_col2\" class=\"data row44 col2\" >2_478_159.93</td>\n                        <td id=\"T_d1e05622_15d9_11ee_9372_acde48001122row44_col3\" class=\"data row44 col3\" >10005.58</td>\n                        <td id=\"T_d1e05622_15d9_11ee_9372_acde48001122row44_col4\" class=\"data row44 col4\" >189994.42</td>\n            </tr>\n            <tr>\n                        <th id=\"T_d1e05622_15d9_11ee_9372_acde48001122level0_row45\" class=\"row_heading level0 row45\" >45</th>\n                        <td id=\"T_d1e05622_15d9_11ee_9372_acde48001122row45_col0\" class=\"data row45 col0\" >46</td>\n                        <td id=\"T_d1e05622_15d9_11ee_9372_acde48001122row45_col1\" class=\"data row45 col1\" >200000.000000</td>\n                        <td id=\"T_d1e05622_15d9_11ee_9372_acde48001122row45_col2\" class=\"data row45 col2\" >2_287_453.03</td>\n                        <td id=\"T_d1e05622_15d9_11ee_9372_acde48001122row45_col3\" class=\"data row45 col3\" >9293.10</td>\n                        <td id=\"T_d1e05622_15d9_11ee_9372_acde48001122row45_col4\" class=\"data row45 col4\" >190706.90</td>\n            </tr>\n            <tr>\n                        <th id=\"T_d1e05622_15d9_11ee_9372_acde48001122level0_row46\" class=\"row_heading level0 row46\" >46</th>\n                        <td id=\"T_d1e05622_15d9_11ee_9372_acde48001122row46_col0\" class=\"data row46 col0\" >47</td>\n                        <td id=\"T_d1e05622_15d9_11ee_9372_acde48001122row46_col1\" class=\"data row46 col1\" >200000.000000</td>\n                        <td id=\"T_d1e05622_15d9_11ee_9372_acde48001122row46_col2\" class=\"data row46 col2\" >2_096_030.98</td>\n                        <td id=\"T_d1e05622_15d9_11ee_9372_acde48001122row46_col3\" class=\"data row46 col3\" >8577.95</td>\n                        <td id=\"T_d1e05622_15d9_11ee_9372_acde48001122row46_col4\" class=\"data row46 col4\" >191422.05</td>\n            </tr>\n            <tr>\n                        <th id=\"T_d1e05622_15d9_11ee_9372_acde48001122level0_row47\" class=\"row_heading level0 row47\" >47</th>\n                        <td id=\"T_d1e05622_15d9_11ee_9372_acde48001122row47_col0\" class=\"data row47 col0\" >48</td>\n                        <td id=\"T_d1e05622_15d9_11ee_9372_acde48001122row47_col1\" class=\"data row47 col1\" >200000.000000</td>\n                        <td id=\"T_d1e05622_15d9_11ee_9372_acde48001122row47_col2\" class=\"data row47 col2\" >1_903_891.09</td>\n                        <td id=\"T_d1e05622_15d9_11ee_9372_acde48001122row47_col3\" class=\"data row47 col3\" >7860.12</td>\n                        <td id=\"T_d1e05622_15d9_11ee_9372_acde48001122row47_col4\" class=\"data row47 col4\" >192139.88</td>\n            </tr>\n            <tr>\n                        <th id=\"T_d1e05622_15d9_11ee_9372_acde48001122level0_row48\" class=\"row_heading level0 row48\" >48</th>\n                        <td id=\"T_d1e05622_15d9_11ee_9372_acde48001122row48_col0\" class=\"data row48 col0\" >49</td>\n                        <td id=\"T_d1e05622_15d9_11ee_9372_acde48001122row48_col1\" class=\"data row48 col1\" >200000.000000</td>\n                        <td id=\"T_d1e05622_15d9_11ee_9372_acde48001122row48_col2\" class=\"data row48 col2\" >1_711_030.68</td>\n                        <td id=\"T_d1e05622_15d9_11ee_9372_acde48001122row48_col3\" class=\"data row48 col3\" >7139.59</td>\n                        <td id=\"T_d1e05622_15d9_11ee_9372_acde48001122row48_col4\" class=\"data row48 col4\" >192860.41</td>\n            </tr>\n            <tr>\n                        <th id=\"T_d1e05622_15d9_11ee_9372_acde48001122level0_row49\" class=\"row_heading level0 row49\" >49</th>\n                        <td id=\"T_d1e05622_15d9_11ee_9372_acde48001122row49_col0\" class=\"data row49 col0\" >50</td>\n                        <td id=\"T_d1e05622_15d9_11ee_9372_acde48001122row49_col1\" class=\"data row49 col1\" >200000.000000</td>\n                        <td id=\"T_d1e05622_15d9_11ee_9372_acde48001122row49_col2\" class=\"data row49 col2\" >1_517_447.05</td>\n                        <td id=\"T_d1e05622_15d9_11ee_9372_acde48001122row49_col3\" class=\"data row49 col3\" >6416.37</td>\n                        <td id=\"T_d1e05622_15d9_11ee_9372_acde48001122row49_col4\" class=\"data row49 col4\" >193583.63</td>\n            </tr>\n            <tr>\n                        <th id=\"T_d1e05622_15d9_11ee_9372_acde48001122level0_row50\" class=\"row_heading level0 row50\" >50</th>\n                        <td id=\"T_d1e05622_15d9_11ee_9372_acde48001122row50_col0\" class=\"data row50 col0\" >51</td>\n                        <td id=\"T_d1e05622_15d9_11ee_9372_acde48001122row50_col1\" class=\"data row50 col1\" >200000.000000</td>\n                        <td id=\"T_d1e05622_15d9_11ee_9372_acde48001122row50_col2\" class=\"data row50 col2\" >1_323_137.48</td>\n                        <td id=\"T_d1e05622_15d9_11ee_9372_acde48001122row50_col3\" class=\"data row50 col3\" >5690.43</td>\n                        <td id=\"T_d1e05622_15d9_11ee_9372_acde48001122row50_col4\" class=\"data row50 col4\" >194309.57</td>\n            </tr>\n            <tr>\n                        <th id=\"T_d1e05622_15d9_11ee_9372_acde48001122level0_row51\" class=\"row_heading level0 row51\" >51</th>\n                        <td id=\"T_d1e05622_15d9_11ee_9372_acde48001122row51_col0\" class=\"data row51 col0\" >52</td>\n                        <td id=\"T_d1e05622_15d9_11ee_9372_acde48001122row51_col1\" class=\"data row51 col1\" >200000.000000</td>\n                        <td id=\"T_d1e05622_15d9_11ee_9372_acde48001122row51_col2\" class=\"data row51 col2\" >1_128_099.24</td>\n                        <td id=\"T_d1e05622_15d9_11ee_9372_acde48001122row51_col3\" class=\"data row51 col3\" >4961.77</td>\n                        <td id=\"T_d1e05622_15d9_11ee_9372_acde48001122row51_col4\" class=\"data row51 col4\" >195038.23</td>\n            </tr>\n            <tr>\n                        <th id=\"T_d1e05622_15d9_11ee_9372_acde48001122level0_row52\" class=\"row_heading level0 row52\" >52</th>\n                        <td id=\"T_d1e05622_15d9_11ee_9372_acde48001122row52_col0\" class=\"data row52 col0\" >53</td>\n                        <td id=\"T_d1e05622_15d9_11ee_9372_acde48001122row52_col1\" class=\"data row52 col1\" >200000.000000</td>\n                        <td id=\"T_d1e05622_15d9_11ee_9372_acde48001122row52_col2\" class=\"data row52 col2\" >932_329.61</td>\n                        <td id=\"T_d1e05622_15d9_11ee_9372_acde48001122row52_col3\" class=\"data row52 col3\" >4230.37</td>\n                        <td id=\"T_d1e05622_15d9_11ee_9372_acde48001122row52_col4\" class=\"data row52 col4\" >195769.63</td>\n            </tr>\n            <tr>\n                        <th id=\"T_d1e05622_15d9_11ee_9372_acde48001122level0_row53\" class=\"row_heading level0 row53\" >53</th>\n                        <td id=\"T_d1e05622_15d9_11ee_9372_acde48001122row53_col0\" class=\"data row53 col0\" >54</td>\n                        <td id=\"T_d1e05622_15d9_11ee_9372_acde48001122row53_col1\" class=\"data row53 col1\" >200000.000000</td>\n                        <td id=\"T_d1e05622_15d9_11ee_9372_acde48001122row53_col2\" class=\"data row53 col2\" >735_825.85</td>\n                        <td id=\"T_d1e05622_15d9_11ee_9372_acde48001122row53_col3\" class=\"data row53 col3\" >3496.24</td>\n                        <td id=\"T_d1e05622_15d9_11ee_9372_acde48001122row53_col4\" class=\"data row53 col4\" >196503.76</td>\n            </tr>\n            <tr>\n                        <th id=\"T_d1e05622_15d9_11ee_9372_acde48001122level0_row54\" class=\"row_heading level0 row54\" >54</th>\n                        <td id=\"T_d1e05622_15d9_11ee_9372_acde48001122row54_col0\" class=\"data row54 col0\" >55</td>\n                        <td id=\"T_d1e05622_15d9_11ee_9372_acde48001122row54_col1\" class=\"data row54 col1\" >200000.000000</td>\n                        <td id=\"T_d1e05622_15d9_11ee_9372_acde48001122row54_col2\" class=\"data row54 col2\" >538_585.20</td>\n                        <td id=\"T_d1e05622_15d9_11ee_9372_acde48001122row54_col3\" class=\"data row54 col3\" >2759.35</td>\n                        <td id=\"T_d1e05622_15d9_11ee_9372_acde48001122row54_col4\" class=\"data row54 col4\" >197240.65</td>\n            </tr>\n            <tr>\n                        <th id=\"T_d1e05622_15d9_11ee_9372_acde48001122level0_row55\" class=\"row_heading level0 row55\" >55</th>\n                        <td id=\"T_d1e05622_15d9_11ee_9372_acde48001122row55_col0\" class=\"data row55 col0\" >56</td>\n                        <td id=\"T_d1e05622_15d9_11ee_9372_acde48001122row55_col1\" class=\"data row55 col1\" >200000.000000</td>\n                        <td id=\"T_d1e05622_15d9_11ee_9372_acde48001122row55_col2\" class=\"data row55 col2\" >340_604.89</td>\n                        <td id=\"T_d1e05622_15d9_11ee_9372_acde48001122row55_col3\" class=\"data row55 col3\" >2019.69</td>\n                        <td id=\"T_d1e05622_15d9_11ee_9372_acde48001122row55_col4\" class=\"data row55 col4\" >197980.31</td>\n            </tr>\n            <tr>\n                        <th id=\"T_d1e05622_15d9_11ee_9372_acde48001122level0_row56\" class=\"row_heading level0 row56\" >56</th>\n                        <td id=\"T_d1e05622_15d9_11ee_9372_acde48001122row56_col0\" class=\"data row56 col0\" >57</td>\n                        <td id=\"T_d1e05622_15d9_11ee_9372_acde48001122row56_col1\" class=\"data row56 col1\" >200000.000000</td>\n                        <td id=\"T_d1e05622_15d9_11ee_9372_acde48001122row56_col2\" class=\"data row56 col2\" >141_882.16</td>\n                        <td id=\"T_d1e05622_15d9_11ee_9372_acde48001122row56_col3\" class=\"data row56 col3\" >1277.27</td>\n                        <td id=\"T_d1e05622_15d9_11ee_9372_acde48001122row56_col4\" class=\"data row56 col4\" >198722.73</td>\n            </tr>\n            <tr>\n                        <th id=\"T_d1e05622_15d9_11ee_9372_acde48001122level0_row57\" class=\"row_heading level0 row57\" >57</th>\n                        <td id=\"T_d1e05622_15d9_11ee_9372_acde48001122row57_col0\" class=\"data row57 col0\" >58</td>\n                        <td id=\"T_d1e05622_15d9_11ee_9372_acde48001122row57_col1\" class=\"data row57 col1\" >142414.218079</td>\n                        <td id=\"T_d1e05622_15d9_11ee_9372_acde48001122row57_col2\" class=\"data row57 col2\" >0.00</td>\n                        <td id=\"T_d1e05622_15d9_11ee_9372_acde48001122row57_col3\" class=\"data row57 col3\" >532.06</td>\n                        <td id=\"T_d1e05622_15d9_11ee_9372_acde48001122row57_col4\" class=\"data row57 col4\" >141882.16</td>\n            </tr>\n    </tbody></table>"
     },
     "execution_count": 87,
     "metadata": {},
     "output_type": "execute_result"
    }
   ],
   "source": [
    "payments.style.format({'rest':'{0:_.2f}', 'perc_mon':'{:.2f}', 'debt_mon':'{:.2f}'})"
   ],
   "metadata": {
    "collapsed": false,
    "ExecuteTime": {
     "end_time": "2023-06-28T17:32:56.857629Z",
     "start_time": "2023-06-28T17:32:56.848957Z"
    }
   }
  },
  {
   "cell_type": "markdown",
   "source": [
    "<h2>Парсим сайты с недвигой</h2>"
   ],
   "metadata": {
    "collapsed": false
   }
  },
  {
   "cell_type": "code",
   "execution_count": 1,
   "outputs": [],
   "source": [
    "import requests\n",
    "from bs4 import BeautifulSoup # for web scraping\n",
    "import pandas as pd\n",
    "import numpy as np\n",
    "import re\n",
    "from ipywidgets import IntProgress #for progress bar\n",
    "from IPython.display import display"
   ],
   "metadata": {
    "collapsed": false,
    "ExecuteTime": {
     "end_time": "2023-06-30T12:27:55.407723Z",
     "start_time": "2023-06-30T12:27:51.470290Z"
    }
   }
  },
  {
   "cell_type": "code",
   "execution_count": 70,
   "outputs": [],
   "source": [
    "req = requests.get('https://m2.ru/sankt-peterburg/nedvizhimost/kupit-kvartiru/')\n",
    "soup = BeautifulSoup(req.text, \"lxml\")"
   ],
   "metadata": {
    "collapsed": false,
    "ExecuteTime": {
     "end_time": "2023-06-30T13:57:46.951107Z",
     "start_time": "2023-06-30T13:57:29.965755Z"
    }
   }
  },
  {
   "cell_type": "code",
   "execution_count": 71,
   "outputs": [
    {
     "data": {
      "text/plain": "['https://m2.ru/sankt-peterburg/nedvizhimost/prodazha-1-komnatnoi-kvartiri-53-3-m-1-6-etazh-672d9b9c-8827-42ca-b7be-736115ce772e/',\n 'https://m2.ru/sankt-peterburg/nedvizhimost/prodazha-1-komnatnoi-kvartiri-37-1-m-3-9-etazh-c886fe91-b6cb-4533-b7ba-688773fd11fc/',\n 'https://m2.ru/sankt-peterburg/nedvizhimost/prodazha-2-komnatnoi-kvartiri-67-4-m-6-12-etazh-6ac17150-d91b-4273-af15-f659059d7901/',\n 'https://m2.ru/sankt-peterburg/nedvizhimost/prodazha-2-komnatnoi-kvartiri-63-1-m-8-8-etazh-d9d2f232-05ad-48d2-819e-1bfdd7e4e12a/',\n 'https://m2.ru/sankt-peterburg/nedvizhimost/prodazha-1-komnatnoi-kvartiri-33-9-m-8-14-etazh-bf400424-6e48-43de-be62-ea1e6ba5b4e7/']"
     },
     "execution_count": 71,
     "metadata": {},
     "output_type": "execute_result"
    }
   ],
   "source": [
    "all_hrefs = [a.get('href') for a in soup.find_all('a')] #list of all links\n",
    "flat_hrefs=[a for a in all_hrefs if 'https://m2.ru/sankt-peterburg/nedvizhimost/prodazha' in str(a)] #filtering the list\n",
    "flat_hrefs=list(set(flat_hrefs)) #removing duplicates in the list\n",
    "flat_hrefs[0:5]"
   ],
   "metadata": {
    "collapsed": false,
    "ExecuteTime": {
     "end_time": "2023-06-30T13:57:50.075065Z",
     "start_time": "2023-06-30T13:57:50.064283Z"
    }
   }
  },
  {
   "cell_type": "code",
   "execution_count": 72,
   "outputs": [],
   "source": [
    "def add_flats(hrefs):\n",
    "    flats = pd.DataFrame()\n",
    "    progressbar=IntProgress(min=0, max=len(hrefs), value=0) #progress bar\n",
    "    display(progressbar)\n",
    "    for i,href in enumerate(hrefs):\n",
    "        # getting html code of the flat page\n",
    "        try:\n",
    "            req1 = requests.get(href)\n",
    "        except requests.exceptions.RequestException as e:\n",
    "            raise SystemExit(e)\n",
    "        soup = BeautifulSoup(req1.text, \"lxml\")\n",
    "        flat = {'Ссылка': href,\n",
    "               'Название': soup.h1.text.replace('\\xa0',' '),\n",
    "               'Адрес': ', '.join(a.string for a in soup.find_all(attrs={\"class\": \"ClClickableAddress__link\"})),\n",
    "               'Цена': soup.find(attrs={\"itemprop\": \"price\"}).text.replace('\\xa0',' ')}\n",
    "        attr = soup.find_all(attrs={\"class\":\"colors-named-module__secondary___2WPH_ fonts-module__secondary-alone___3wVR-\"})\n",
    "        vals = soup.find_all(attrs={\"class\":\"fonts-module__primary___2PNSt DescriptionCell__value\"})\n",
    "        for a,v in zip(attr,vals):\n",
    "            flat[a.text] = v.text.replace('\\xa0',' ')\n",
    "            progressbar.value = i+1\n",
    "        flats = pd.concat([flats, pd.DataFrame([flat])], ignore_index=True)\n",
    "    return flats"
   ],
   "metadata": {
    "collapsed": false,
    "ExecuteTime": {
     "end_time": "2023-06-30T13:58:02.658624Z",
     "start_time": "2023-06-30T13:58:02.638493Z"
    }
   }
  },
  {
   "cell_type": "code",
   "execution_count": 77,
   "outputs": [],
   "source": [
    "flats_all = pd.DataFrame()"
   ],
   "metadata": {
    "collapsed": false,
    "ExecuteTime": {
     "end_time": "2023-06-30T14:01:35.423416Z",
     "start_time": "2023-06-30T14:01:35.404657Z"
    }
   }
  },
  {
   "cell_type": "code",
   "execution_count": 130,
   "outputs": [
    {
     "name": "stdout",
     "output_type": "stream",
     "text": [
      "page number: 373\n"
     ]
    },
    {
     "data": {
      "text/plain": "IntProgress(value=0, max=20)",
      "application/vnd.jupyter.widget-view+json": {
       "version_major": 2,
       "version_minor": 0,
       "model_id": "9ae93c4c93854450b52141e8a36a394b"
      }
     },
     "metadata": {},
     "output_type": "display_data"
    },
    {
     "name": "stdout",
     "output_type": "stream",
     "text": [
      "number of rows 7460\n",
      "page number: 374\n"
     ]
    },
    {
     "data": {
      "text/plain": "IntProgress(value=0, max=20)",
      "application/vnd.jupyter.widget-view+json": {
       "version_major": 2,
       "version_minor": 0,
       "model_id": "201814d9da454ac19823e2a447cbda74"
      }
     },
     "metadata": {},
     "output_type": "display_data"
    },
    {
     "name": "stdout",
     "output_type": "stream",
     "text": [
      "number of rows 7480\n",
      "page number: 375\n"
     ]
    },
    {
     "data": {
      "text/plain": "IntProgress(value=0, max=20)",
      "application/vnd.jupyter.widget-view+json": {
       "version_major": 2,
       "version_minor": 0,
       "model_id": "74d06d112ee04014b5007d3e53fec5e5"
      }
     },
     "metadata": {},
     "output_type": "display_data"
    },
    {
     "name": "stdout",
     "output_type": "stream",
     "text": [
      "number of rows 7500\n",
      "page number: 376\n"
     ]
    },
    {
     "data": {
      "text/plain": "IntProgress(value=0, max=20)",
      "application/vnd.jupyter.widget-view+json": {
       "version_major": 2,
       "version_minor": 0,
       "model_id": "e8fffb8587d8403c983b59c5fd9754d1"
      }
     },
     "metadata": {},
     "output_type": "display_data"
    },
    {
     "name": "stdout",
     "output_type": "stream",
     "text": [
      "number of rows 7520\n",
      "page number: 377\n"
     ]
    },
    {
     "data": {
      "text/plain": "IntProgress(value=0, max=20)",
      "application/vnd.jupyter.widget-view+json": {
       "version_major": 2,
       "version_minor": 0,
       "model_id": "3448301c72c54712a9223ab3eca9fb76"
      }
     },
     "metadata": {},
     "output_type": "display_data"
    },
    {
     "name": "stdout",
     "output_type": "stream",
     "text": [
      "number of rows 7540\n",
      "page number: 378\n"
     ]
    },
    {
     "data": {
      "text/plain": "IntProgress(value=0, max=20)",
      "application/vnd.jupyter.widget-view+json": {
       "version_major": 2,
       "version_minor": 0,
       "model_id": "5ea9883349e8439b913e19f993ba1f3d"
      }
     },
     "metadata": {},
     "output_type": "display_data"
    },
    {
     "name": "stdout",
     "output_type": "stream",
     "text": [
      "number of rows 7560\n",
      "page number: 379\n"
     ]
    },
    {
     "data": {
      "text/plain": "IntProgress(value=0, max=20)",
      "application/vnd.jupyter.widget-view+json": {
       "version_major": 2,
       "version_minor": 0,
       "model_id": "878a755b37274956997ff2966c68976c"
      }
     },
     "metadata": {},
     "output_type": "display_data"
    },
    {
     "name": "stdout",
     "output_type": "stream",
     "text": [
      "number of rows 7580\n",
      "page number: 380\n"
     ]
    },
    {
     "data": {
      "text/plain": "IntProgress(value=0, max=20)",
      "application/vnd.jupyter.widget-view+json": {
       "version_major": 2,
       "version_minor": 0,
       "model_id": "0cef8f01fedb4a83a5fed48f6c78d069"
      }
     },
     "metadata": {},
     "output_type": "display_data"
    },
    {
     "name": "stdout",
     "output_type": "stream",
     "text": [
      "number of rows 7600\n",
      "page number: 381\n"
     ]
    },
    {
     "data": {
      "text/plain": "IntProgress(value=0, max=20)",
      "application/vnd.jupyter.widget-view+json": {
       "version_major": 2,
       "version_minor": 0,
       "model_id": "66890c2d8d0c4dd093b3a6cf99065caf"
      }
     },
     "metadata": {},
     "output_type": "display_data"
    },
    {
     "name": "stdout",
     "output_type": "stream",
     "text": [
      "number of rows 7620\n",
      "page number: 382\n"
     ]
    },
    {
     "data": {
      "text/plain": "IntProgress(value=0, max=20)",
      "application/vnd.jupyter.widget-view+json": {
       "version_major": 2,
       "version_minor": 0,
       "model_id": "2b0a015479b14517aa10eb58934cdb13"
      }
     },
     "metadata": {},
     "output_type": "display_data"
    },
    {
     "name": "stdout",
     "output_type": "stream",
     "text": [
      "number of rows 7640\n",
      "page number: 383\n"
     ]
    },
    {
     "data": {
      "text/plain": "IntProgress(value=0, max=20)",
      "application/vnd.jupyter.widget-view+json": {
       "version_major": 2,
       "version_minor": 0,
       "model_id": "806784119ffc461aaf9d552d64766016"
      }
     },
     "metadata": {},
     "output_type": "display_data"
    },
    {
     "name": "stdout",
     "output_type": "stream",
     "text": [
      "number of rows 7660\n",
      "page number: 384\n"
     ]
    },
    {
     "data": {
      "text/plain": "IntProgress(value=0, max=20)",
      "application/vnd.jupyter.widget-view+json": {
       "version_major": 2,
       "version_minor": 0,
       "model_id": "2dddf0bf684f4d108da0aa765ef31e70"
      }
     },
     "metadata": {},
     "output_type": "display_data"
    },
    {
     "name": "stdout",
     "output_type": "stream",
     "text": [
      "number of rows 7680\n",
      "page number: 385\n"
     ]
    },
    {
     "data": {
      "text/plain": "IntProgress(value=0, max=20)",
      "application/vnd.jupyter.widget-view+json": {
       "version_major": 2,
       "version_minor": 0,
       "model_id": "338dfe66388f464f8bee41f0740f0519"
      }
     },
     "metadata": {},
     "output_type": "display_data"
    },
    {
     "name": "stdout",
     "output_type": "stream",
     "text": [
      "number of rows 7700\n",
      "page number: 386\n"
     ]
    },
    {
     "data": {
      "text/plain": "IntProgress(value=0, max=20)",
      "application/vnd.jupyter.widget-view+json": {
       "version_major": 2,
       "version_minor": 0,
       "model_id": "b0936f05af9149d6a2fc15ce977877f3"
      }
     },
     "metadata": {},
     "output_type": "display_data"
    },
    {
     "name": "stdout",
     "output_type": "stream",
     "text": [
      "number of rows 7720\n",
      "page number: 387\n"
     ]
    },
    {
     "data": {
      "text/plain": "IntProgress(value=0, max=20)",
      "application/vnd.jupyter.widget-view+json": {
       "version_major": 2,
       "version_minor": 0,
       "model_id": "1c458a5f2beb453282d5fc0868060602"
      }
     },
     "metadata": {},
     "output_type": "display_data"
    },
    {
     "name": "stdout",
     "output_type": "stream",
     "text": [
      "number of rows 7740\n",
      "page number: 388\n"
     ]
    },
    {
     "data": {
      "text/plain": "IntProgress(value=0, max=20)",
      "application/vnd.jupyter.widget-view+json": {
       "version_major": 2,
       "version_minor": 0,
       "model_id": "f9ea7188b8f94accb5fa5f3d297608f6"
      }
     },
     "metadata": {},
     "output_type": "display_data"
    },
    {
     "name": "stdout",
     "output_type": "stream",
     "text": [
      "number of rows 7760\n",
      "page number: 389\n"
     ]
    },
    {
     "data": {
      "text/plain": "IntProgress(value=0, max=20)",
      "application/vnd.jupyter.widget-view+json": {
       "version_major": 2,
       "version_minor": 0,
       "model_id": "517336073e734a51a3ac151f3762fbba"
      }
     },
     "metadata": {},
     "output_type": "display_data"
    },
    {
     "name": "stdout",
     "output_type": "stream",
     "text": [
      "number of rows 7780\n",
      "page number: 390\n"
     ]
    },
    {
     "data": {
      "text/plain": "IntProgress(value=0, max=20)",
      "application/vnd.jupyter.widget-view+json": {
       "version_major": 2,
       "version_minor": 0,
       "model_id": "42dc6af1d5084e2c87c74132862bc8d4"
      }
     },
     "metadata": {},
     "output_type": "display_data"
    },
    {
     "name": "stdout",
     "output_type": "stream",
     "text": [
      "number of rows 7800\n",
      "page number: 391\n"
     ]
    },
    {
     "data": {
      "text/plain": "IntProgress(value=0, max=20)",
      "application/vnd.jupyter.widget-view+json": {
       "version_major": 2,
       "version_minor": 0,
       "model_id": "0bd970ee88ab4851993de74d00a79984"
      }
     },
     "metadata": {},
     "output_type": "display_data"
    },
    {
     "name": "stdout",
     "output_type": "stream",
     "text": [
      "number of rows 7820\n",
      "page number: 392\n"
     ]
    },
    {
     "data": {
      "text/plain": "IntProgress(value=0, max=20)",
      "application/vnd.jupyter.widget-view+json": {
       "version_major": 2,
       "version_minor": 0,
       "model_id": "a9c3e4f09249401bb9939c71f8061f73"
      }
     },
     "metadata": {},
     "output_type": "display_data"
    },
    {
     "name": "stdout",
     "output_type": "stream",
     "text": [
      "number of rows 7840\n",
      "page number: 393\n"
     ]
    },
    {
     "data": {
      "text/plain": "IntProgress(value=0, max=20)",
      "application/vnd.jupyter.widget-view+json": {
       "version_major": 2,
       "version_minor": 0,
       "model_id": "ba6dc30a555d4da58d4a7f9f9b88b7b8"
      }
     },
     "metadata": {},
     "output_type": "display_data"
    },
    {
     "name": "stdout",
     "output_type": "stream",
     "text": [
      "number of rows 7860\n",
      "page number: 394\n"
     ]
    },
    {
     "data": {
      "text/plain": "IntProgress(value=0, max=20)",
      "application/vnd.jupyter.widget-view+json": {
       "version_major": 2,
       "version_minor": 0,
       "model_id": "8dac03b916ba41c09f80bfdc373f9f58"
      }
     },
     "metadata": {},
     "output_type": "display_data"
    },
    {
     "name": "stdout",
     "output_type": "stream",
     "text": [
      "number of rows 7880\n",
      "page number: 395\n"
     ]
    },
    {
     "data": {
      "text/plain": "IntProgress(value=0, max=20)",
      "application/vnd.jupyter.widget-view+json": {
       "version_major": 2,
       "version_minor": 0,
       "model_id": "28b206ec4fc34d1ca5bb4e0edefc77ed"
      }
     },
     "metadata": {},
     "output_type": "display_data"
    },
    {
     "name": "stdout",
     "output_type": "stream",
     "text": [
      "number of rows 7900\n",
      "page number: 396\n"
     ]
    },
    {
     "data": {
      "text/plain": "IntProgress(value=0, max=20)",
      "application/vnd.jupyter.widget-view+json": {
       "version_major": 2,
       "version_minor": 0,
       "model_id": "4dab04412de9423cb068cd425dde33cc"
      }
     },
     "metadata": {},
     "output_type": "display_data"
    },
    {
     "name": "stdout",
     "output_type": "stream",
     "text": [
      "number of rows 7920\n",
      "page number: 397\n"
     ]
    },
    {
     "data": {
      "text/plain": "IntProgress(value=0, max=20)",
      "application/vnd.jupyter.widget-view+json": {
       "version_major": 2,
       "version_minor": 0,
       "model_id": "ed3c7035dda447189bb3d1ebe474c34e"
      }
     },
     "metadata": {},
     "output_type": "display_data"
    },
    {
     "name": "stdout",
     "output_type": "stream",
     "text": [
      "number of rows 7940\n",
      "page number: 398\n"
     ]
    },
    {
     "data": {
      "text/plain": "IntProgress(value=0, max=20)",
      "application/vnd.jupyter.widget-view+json": {
       "version_major": 2,
       "version_minor": 0,
       "model_id": "0383bf4f31d8425b9d625719437cc976"
      }
     },
     "metadata": {},
     "output_type": "display_data"
    },
    {
     "name": "stdout",
     "output_type": "stream",
     "text": [
      "number of rows 7960\n",
      "page number: 399\n"
     ]
    },
    {
     "data": {
      "text/plain": "IntProgress(value=0, max=20)",
      "application/vnd.jupyter.widget-view+json": {
       "version_major": 2,
       "version_minor": 0,
       "model_id": "fa5ee4879bb74e8a9da13c2269828cf2"
      }
     },
     "metadata": {},
     "output_type": "display_data"
    },
    {
     "name": "stdout",
     "output_type": "stream",
     "text": [
      "number of rows 7980\n",
      "page number: 400\n"
     ]
    },
    {
     "data": {
      "text/plain": "IntProgress(value=0, max=20)",
      "application/vnd.jupyter.widget-view+json": {
       "version_major": 2,
       "version_minor": 0,
       "model_id": "cd31fa22fd2e49ae8c9481f5445f83e1"
      }
     },
     "metadata": {},
     "output_type": "display_data"
    },
    {
     "name": "stdout",
     "output_type": "stream",
     "text": [
      "number of rows 8000\n",
      "page number: 401\n"
     ]
    },
    {
     "data": {
      "text/plain": "IntProgress(value=0, max=20)",
      "application/vnd.jupyter.widget-view+json": {
       "version_major": 2,
       "version_minor": 0,
       "model_id": "16f4fdeb395747efadf592bbd397605d"
      }
     },
     "metadata": {},
     "output_type": "display_data"
    },
    {
     "name": "stdout",
     "output_type": "stream",
     "text": [
      "number of rows 8020\n",
      "page number: 402\n"
     ]
    },
    {
     "data": {
      "text/plain": "IntProgress(value=0, max=20)",
      "application/vnd.jupyter.widget-view+json": {
       "version_major": 2,
       "version_minor": 0,
       "model_id": "1e0608351e5d422c889b63e17eb0341e"
      }
     },
     "metadata": {},
     "output_type": "display_data"
    },
    {
     "name": "stdout",
     "output_type": "stream",
     "text": [
      "number of rows 8040\n",
      "page number: 403\n"
     ]
    },
    {
     "data": {
      "text/plain": "IntProgress(value=0, max=20)",
      "application/vnd.jupyter.widget-view+json": {
       "version_major": 2,
       "version_minor": 0,
       "model_id": "356c88b24f69495f83764a71e66a3188"
      }
     },
     "metadata": {},
     "output_type": "display_data"
    },
    {
     "name": "stdout",
     "output_type": "stream",
     "text": [
      "number of rows 8060\n",
      "page number: 404\n"
     ]
    },
    {
     "data": {
      "text/plain": "IntProgress(value=0, max=20)",
      "application/vnd.jupyter.widget-view+json": {
       "version_major": 2,
       "version_minor": 0,
       "model_id": "0addba1b54c04a29a942db26b435e5ab"
      }
     },
     "metadata": {},
     "output_type": "display_data"
    },
    {
     "name": "stdout",
     "output_type": "stream",
     "text": [
      "number of rows 8080\n",
      "page number: 405\n"
     ]
    },
    {
     "data": {
      "text/plain": "IntProgress(value=0, max=20)",
      "application/vnd.jupyter.widget-view+json": {
       "version_major": 2,
       "version_minor": 0,
       "model_id": "4e6572e2c2a946e595c56cc8f4c32644"
      }
     },
     "metadata": {},
     "output_type": "display_data"
    },
    {
     "name": "stdout",
     "output_type": "stream",
     "text": [
      "number of rows 8100\n",
      "page number: 406\n"
     ]
    },
    {
     "data": {
      "text/plain": "IntProgress(value=0, max=20)",
      "application/vnd.jupyter.widget-view+json": {
       "version_major": 2,
       "version_minor": 0,
       "model_id": "12ceead5a97c4057991863644dd00f80"
      }
     },
     "metadata": {},
     "output_type": "display_data"
    },
    {
     "name": "stdout",
     "output_type": "stream",
     "text": [
      "number of rows 8120\n",
      "page number: 407\n"
     ]
    },
    {
     "data": {
      "text/plain": "IntProgress(value=0, max=20)",
      "application/vnd.jupyter.widget-view+json": {
       "version_major": 2,
       "version_minor": 0,
       "model_id": "db395a9a66284e04a6899c7400f04616"
      }
     },
     "metadata": {},
     "output_type": "display_data"
    },
    {
     "name": "stdout",
     "output_type": "stream",
     "text": [
      "number of rows 8140\n",
      "page number: 408\n"
     ]
    },
    {
     "data": {
      "text/plain": "IntProgress(value=0, max=20)",
      "application/vnd.jupyter.widget-view+json": {
       "version_major": 2,
       "version_minor": 0,
       "model_id": "86e43a13c1e1419688e5fa735b1c14a1"
      }
     },
     "metadata": {},
     "output_type": "display_data"
    },
    {
     "name": "stdout",
     "output_type": "stream",
     "text": [
      "number of rows 8160\n",
      "page number: 409\n"
     ]
    },
    {
     "data": {
      "text/plain": "IntProgress(value=0, max=20)",
      "application/vnd.jupyter.widget-view+json": {
       "version_major": 2,
       "version_minor": 0,
       "model_id": "4c2496be5402493ab763aa729ea62373"
      }
     },
     "metadata": {},
     "output_type": "display_data"
    },
    {
     "name": "stdout",
     "output_type": "stream",
     "text": [
      "number of rows 8180\n",
      "page number: 410\n"
     ]
    },
    {
     "data": {
      "text/plain": "IntProgress(value=0, max=20)",
      "application/vnd.jupyter.widget-view+json": {
       "version_major": 2,
       "version_minor": 0,
       "model_id": "751ae7dbf0994471915efe36f95682ed"
      }
     },
     "metadata": {},
     "output_type": "display_data"
    },
    {
     "name": "stdout",
     "output_type": "stream",
     "text": [
      "number of rows 8200\n",
      "page number: 411\n"
     ]
    },
    {
     "data": {
      "text/plain": "IntProgress(value=0, max=20)",
      "application/vnd.jupyter.widget-view+json": {
       "version_major": 2,
       "version_minor": 0,
       "model_id": "013645255d244af7a9846f41b9942d98"
      }
     },
     "metadata": {},
     "output_type": "display_data"
    },
    {
     "name": "stdout",
     "output_type": "stream",
     "text": [
      "number of rows 8220\n",
      "page number: 412\n"
     ]
    },
    {
     "data": {
      "text/plain": "IntProgress(value=0, max=20)",
      "application/vnd.jupyter.widget-view+json": {
       "version_major": 2,
       "version_minor": 0,
       "model_id": "a833f230078e4edca225ec0ed9e383bb"
      }
     },
     "metadata": {},
     "output_type": "display_data"
    },
    {
     "name": "stdout",
     "output_type": "stream",
     "text": [
      "number of rows 8240\n",
      "page number: 413\n"
     ]
    },
    {
     "data": {
      "text/plain": "IntProgress(value=0, max=20)",
      "application/vnd.jupyter.widget-view+json": {
       "version_major": 2,
       "version_minor": 0,
       "model_id": "a77c93ae0b7e4c7d819e02ae85fab316"
      }
     },
     "metadata": {},
     "output_type": "display_data"
    },
    {
     "name": "stdout",
     "output_type": "stream",
     "text": [
      "number of rows 8260\n",
      "page number: 414\n"
     ]
    },
    {
     "data": {
      "text/plain": "IntProgress(value=0, max=20)",
      "application/vnd.jupyter.widget-view+json": {
       "version_major": 2,
       "version_minor": 0,
       "model_id": "edc152c815ef4c78b85daf7ce9a0efac"
      }
     },
     "metadata": {},
     "output_type": "display_data"
    },
    {
     "name": "stdout",
     "output_type": "stream",
     "text": [
      "number of rows 8280\n",
      "page number: 415\n"
     ]
    },
    {
     "data": {
      "text/plain": "IntProgress(value=0, max=20)",
      "application/vnd.jupyter.widget-view+json": {
       "version_major": 2,
       "version_minor": 0,
       "model_id": "9bf72f213aae4f35b7872e10c4013873"
      }
     },
     "metadata": {},
     "output_type": "display_data"
    },
    {
     "name": "stdout",
     "output_type": "stream",
     "text": [
      "number of rows 8300\n",
      "page number: 416\n"
     ]
    },
    {
     "data": {
      "text/plain": "IntProgress(value=0, max=20)",
      "application/vnd.jupyter.widget-view+json": {
       "version_major": 2,
       "version_minor": 0,
       "model_id": "5b3605592988492abd1379f2c79a038c"
      }
     },
     "metadata": {},
     "output_type": "display_data"
    },
    {
     "name": "stdout",
     "output_type": "stream",
     "text": [
      "number of rows 8320\n",
      "page number: 417\n"
     ]
    },
    {
     "data": {
      "text/plain": "IntProgress(value=0, max=20)",
      "application/vnd.jupyter.widget-view+json": {
       "version_major": 2,
       "version_minor": 0,
       "model_id": "2780d04dacba4fc883de7d93ae5bf52c"
      }
     },
     "metadata": {},
     "output_type": "display_data"
    },
    {
     "name": "stdout",
     "output_type": "stream",
     "text": [
      "number of rows 8340\n",
      "page number: 418\n"
     ]
    },
    {
     "data": {
      "text/plain": "IntProgress(value=0, max=20)",
      "application/vnd.jupyter.widget-view+json": {
       "version_major": 2,
       "version_minor": 0,
       "model_id": "ede8c0c2fbc242b58fe32b792f430e7f"
      }
     },
     "metadata": {},
     "output_type": "display_data"
    },
    {
     "name": "stdout",
     "output_type": "stream",
     "text": [
      "number of rows 8360\n",
      "page number: 419\n"
     ]
    },
    {
     "data": {
      "text/plain": "IntProgress(value=0, max=20)",
      "application/vnd.jupyter.widget-view+json": {
       "version_major": 2,
       "version_minor": 0,
       "model_id": "9ad7ca3e81344b15ba2789049414f0ff"
      }
     },
     "metadata": {},
     "output_type": "display_data"
    },
    {
     "name": "stdout",
     "output_type": "stream",
     "text": [
      "number of rows 8380\n",
      "page number: 420\n"
     ]
    },
    {
     "data": {
      "text/plain": "IntProgress(value=0, max=20)",
      "application/vnd.jupyter.widget-view+json": {
       "version_major": 2,
       "version_minor": 0,
       "model_id": "1fb6f262c5b94a9597ab18bba6e3cb33"
      }
     },
     "metadata": {},
     "output_type": "display_data"
    },
    {
     "name": "stdout",
     "output_type": "stream",
     "text": [
      "number of rows 8400\n",
      "page number: 421\n"
     ]
    },
    {
     "data": {
      "text/plain": "IntProgress(value=0, max=20)",
      "application/vnd.jupyter.widget-view+json": {
       "version_major": 2,
       "version_minor": 0,
       "model_id": "a41e0d67af6e4d4eb146542732e68819"
      }
     },
     "metadata": {},
     "output_type": "display_data"
    },
    {
     "name": "stdout",
     "output_type": "stream",
     "text": [
      "number of rows 8420\n",
      "page number: 422\n"
     ]
    },
    {
     "data": {
      "text/plain": "IntProgress(value=0, max=20)",
      "application/vnd.jupyter.widget-view+json": {
       "version_major": 2,
       "version_minor": 0,
       "model_id": "11aa3baeeaf541d3ad3dd1655cc372ea"
      }
     },
     "metadata": {},
     "output_type": "display_data"
    },
    {
     "name": "stdout",
     "output_type": "stream",
     "text": [
      "number of rows 8440\n",
      "page number: 423\n"
     ]
    },
    {
     "data": {
      "text/plain": "IntProgress(value=0, max=20)",
      "application/vnd.jupyter.widget-view+json": {
       "version_major": 2,
       "version_minor": 0,
       "model_id": "c99b39bc4a974c6d82ecbbf67382b4cf"
      }
     },
     "metadata": {},
     "output_type": "display_data"
    },
    {
     "name": "stdout",
     "output_type": "stream",
     "text": [
      "number of rows 8460\n",
      "page number: 424\n"
     ]
    },
    {
     "data": {
      "text/plain": "IntProgress(value=0, max=20)",
      "application/vnd.jupyter.widget-view+json": {
       "version_major": 2,
       "version_minor": 0,
       "model_id": "588e3612b8be4915988048de29e1ff7c"
      }
     },
     "metadata": {},
     "output_type": "display_data"
    },
    {
     "name": "stdout",
     "output_type": "stream",
     "text": [
      "number of rows 8480\n",
      "page number: 425\n"
     ]
    },
    {
     "data": {
      "text/plain": "IntProgress(value=0, max=20)",
      "application/vnd.jupyter.widget-view+json": {
       "version_major": 2,
       "version_minor": 0,
       "model_id": "71101630e095470bb209ad01d49324bd"
      }
     },
     "metadata": {},
     "output_type": "display_data"
    },
    {
     "name": "stdout",
     "output_type": "stream",
     "text": [
      "number of rows 8500\n",
      "page number: 426\n"
     ]
    },
    {
     "data": {
      "text/plain": "IntProgress(value=0, max=20)",
      "application/vnd.jupyter.widget-view+json": {
       "version_major": 2,
       "version_minor": 0,
       "model_id": "cabf808c86b248a39cec620a6a9b2dad"
      }
     },
     "metadata": {},
     "output_type": "display_data"
    },
    {
     "name": "stdout",
     "output_type": "stream",
     "text": [
      "number of rows 8520\n",
      "page number: 427\n"
     ]
    },
    {
     "data": {
      "text/plain": "IntProgress(value=0, max=20)",
      "application/vnd.jupyter.widget-view+json": {
       "version_major": 2,
       "version_minor": 0,
       "model_id": "02742cda220044eeb3da087b3637ce0e"
      }
     },
     "metadata": {},
     "output_type": "display_data"
    },
    {
     "name": "stdout",
     "output_type": "stream",
     "text": [
      "number of rows 8540\n",
      "page number: 428\n"
     ]
    },
    {
     "data": {
      "text/plain": "IntProgress(value=0, max=20)",
      "application/vnd.jupyter.widget-view+json": {
       "version_major": 2,
       "version_minor": 0,
       "model_id": "89d563f6f4144ab3bae12f203e6498da"
      }
     },
     "metadata": {},
     "output_type": "display_data"
    },
    {
     "name": "stdout",
     "output_type": "stream",
     "text": [
      "number of rows 8560\n",
      "page number: 429\n"
     ]
    },
    {
     "data": {
      "text/plain": "IntProgress(value=0, max=20)",
      "application/vnd.jupyter.widget-view+json": {
       "version_major": 2,
       "version_minor": 0,
       "model_id": "5650d6beb96b42e5b2b76b05741dcbbf"
      }
     },
     "metadata": {},
     "output_type": "display_data"
    },
    {
     "name": "stdout",
     "output_type": "stream",
     "text": [
      "number of rows 8580\n",
      "page number: 430\n"
     ]
    },
    {
     "data": {
      "text/plain": "IntProgress(value=0, max=20)",
      "application/vnd.jupyter.widget-view+json": {
       "version_major": 2,
       "version_minor": 0,
       "model_id": "c8553513457d4fe5b41f7c7abdd0784f"
      }
     },
     "metadata": {},
     "output_type": "display_data"
    },
    {
     "name": "stdout",
     "output_type": "stream",
     "text": [
      "number of rows 8600\n",
      "page number: 431\n"
     ]
    },
    {
     "data": {
      "text/plain": "IntProgress(value=0, max=20)",
      "application/vnd.jupyter.widget-view+json": {
       "version_major": 2,
       "version_minor": 0,
       "model_id": "f2c7124af0ad4cf983293a113ec29381"
      }
     },
     "metadata": {},
     "output_type": "display_data"
    },
    {
     "name": "stdout",
     "output_type": "stream",
     "text": [
      "number of rows 8620\n",
      "page number: 432\n"
     ]
    },
    {
     "data": {
      "text/plain": "IntProgress(value=0, max=20)",
      "application/vnd.jupyter.widget-view+json": {
       "version_major": 2,
       "version_minor": 0,
       "model_id": "2c9beaf0693946a8ad00d337b4bebe17"
      }
     },
     "metadata": {},
     "output_type": "display_data"
    },
    {
     "name": "stdout",
     "output_type": "stream",
     "text": [
      "number of rows 8640\n",
      "page number: 433\n"
     ]
    },
    {
     "data": {
      "text/plain": "IntProgress(value=0, max=20)",
      "application/vnd.jupyter.widget-view+json": {
       "version_major": 2,
       "version_minor": 0,
       "model_id": "f343a66e107149b297c3ab6f67507f59"
      }
     },
     "metadata": {},
     "output_type": "display_data"
    },
    {
     "name": "stdout",
     "output_type": "stream",
     "text": [
      "number of rows 8660\n",
      "page number: 434\n"
     ]
    },
    {
     "data": {
      "text/plain": "IntProgress(value=0, max=20)",
      "application/vnd.jupyter.widget-view+json": {
       "version_major": 2,
       "version_minor": 0,
       "model_id": "b1eca8e77e784ef3aa324fc67599c2c4"
      }
     },
     "metadata": {},
     "output_type": "display_data"
    },
    {
     "name": "stdout",
     "output_type": "stream",
     "text": [
      "number of rows 8680\n",
      "page number: 435\n"
     ]
    },
    {
     "data": {
      "text/plain": "IntProgress(value=0, max=20)",
      "application/vnd.jupyter.widget-view+json": {
       "version_major": 2,
       "version_minor": 0,
       "model_id": "3ab79e3d457a4a8f83293ce44be83db7"
      }
     },
     "metadata": {},
     "output_type": "display_data"
    },
    {
     "name": "stdout",
     "output_type": "stream",
     "text": [
      "number of rows 8700\n",
      "page number: 436\n"
     ]
    },
    {
     "data": {
      "text/plain": "IntProgress(value=0, max=20)",
      "application/vnd.jupyter.widget-view+json": {
       "version_major": 2,
       "version_minor": 0,
       "model_id": "1dc50bb3fc40442bb942c5587596e276"
      }
     },
     "metadata": {},
     "output_type": "display_data"
    },
    {
     "name": "stdout",
     "output_type": "stream",
     "text": [
      "number of rows 8720\n",
      "page number: 437\n"
     ]
    },
    {
     "data": {
      "text/plain": "IntProgress(value=0, max=20)",
      "application/vnd.jupyter.widget-view+json": {
       "version_major": 2,
       "version_minor": 0,
       "model_id": "cd44d9e9a4ba43adaf126065aad328b3"
      }
     },
     "metadata": {},
     "output_type": "display_data"
    },
    {
     "name": "stdout",
     "output_type": "stream",
     "text": [
      "number of rows 8740\n",
      "page number: 438\n"
     ]
    },
    {
     "data": {
      "text/plain": "IntProgress(value=0, max=20)",
      "application/vnd.jupyter.widget-view+json": {
       "version_major": 2,
       "version_minor": 0,
       "model_id": "7e573d4a41154c038b5bcb7317d9bb56"
      }
     },
     "metadata": {},
     "output_type": "display_data"
    },
    {
     "name": "stdout",
     "output_type": "stream",
     "text": [
      "number of rows 8760\n",
      "page number: 439\n"
     ]
    },
    {
     "data": {
      "text/plain": "IntProgress(value=0, max=20)",
      "application/vnd.jupyter.widget-view+json": {
       "version_major": 2,
       "version_minor": 0,
       "model_id": "b0bc2d13f9c44cbbbddc05e754a9b8f4"
      }
     },
     "metadata": {},
     "output_type": "display_data"
    },
    {
     "name": "stdout",
     "output_type": "stream",
     "text": [
      "number of rows 8780\n",
      "page number: 440\n"
     ]
    },
    {
     "data": {
      "text/plain": "IntProgress(value=0, max=20)",
      "application/vnd.jupyter.widget-view+json": {
       "version_major": 2,
       "version_minor": 0,
       "model_id": "c7477b3480e1459192e127b4fa3dbe98"
      }
     },
     "metadata": {},
     "output_type": "display_data"
    },
    {
     "name": "stdout",
     "output_type": "stream",
     "text": [
      "number of rows 8800\n",
      "page number: 441\n"
     ]
    },
    {
     "data": {
      "text/plain": "IntProgress(value=0, max=20)",
      "application/vnd.jupyter.widget-view+json": {
       "version_major": 2,
       "version_minor": 0,
       "model_id": "644191609d074dc7be7846f18a365930"
      }
     },
     "metadata": {},
     "output_type": "display_data"
    },
    {
     "name": "stdout",
     "output_type": "stream",
     "text": [
      "number of rows 8820\n",
      "page number: 442\n"
     ]
    },
    {
     "data": {
      "text/plain": "IntProgress(value=0, max=20)",
      "application/vnd.jupyter.widget-view+json": {
       "version_major": 2,
       "version_minor": 0,
       "model_id": "cb1d65ece78c4754a8600534fbd6bea4"
      }
     },
     "metadata": {},
     "output_type": "display_data"
    },
    {
     "name": "stdout",
     "output_type": "stream",
     "text": [
      "number of rows 8840\n",
      "page number: 443\n"
     ]
    },
    {
     "data": {
      "text/plain": "IntProgress(value=0, max=20)",
      "application/vnd.jupyter.widget-view+json": {
       "version_major": 2,
       "version_minor": 0,
       "model_id": "9f34abd5a53241689e936667c8015544"
      }
     },
     "metadata": {},
     "output_type": "display_data"
    },
    {
     "name": "stdout",
     "output_type": "stream",
     "text": [
      "number of rows 8860\n",
      "page number: 444\n"
     ]
    },
    {
     "data": {
      "text/plain": "IntProgress(value=0, max=20)",
      "application/vnd.jupyter.widget-view+json": {
       "version_major": 2,
       "version_minor": 0,
       "model_id": "d9fea52d17744049b9a45673a410aec1"
      }
     },
     "metadata": {},
     "output_type": "display_data"
    },
    {
     "name": "stdout",
     "output_type": "stream",
     "text": [
      "number of rows 8880\n",
      "page number: 445\n"
     ]
    },
    {
     "data": {
      "text/plain": "IntProgress(value=0, max=20)",
      "application/vnd.jupyter.widget-view+json": {
       "version_major": 2,
       "version_minor": 0,
       "model_id": "a80d366b00204c6999115de578c42ca6"
      }
     },
     "metadata": {},
     "output_type": "display_data"
    },
    {
     "name": "stdout",
     "output_type": "stream",
     "text": [
      "number of rows 8900\n",
      "page number: 446\n"
     ]
    },
    {
     "data": {
      "text/plain": "IntProgress(value=0, max=20)",
      "application/vnd.jupyter.widget-view+json": {
       "version_major": 2,
       "version_minor": 0,
       "model_id": "0fb1cca2a9354a7c9935f6c6a30aa578"
      }
     },
     "metadata": {},
     "output_type": "display_data"
    },
    {
     "name": "stdout",
     "output_type": "stream",
     "text": [
      "number of rows 8920\n",
      "page number: 447\n"
     ]
    },
    {
     "data": {
      "text/plain": "IntProgress(value=0, max=20)",
      "application/vnd.jupyter.widget-view+json": {
       "version_major": 2,
       "version_minor": 0,
       "model_id": "1826be14552d4cff903993e591efe3e8"
      }
     },
     "metadata": {},
     "output_type": "display_data"
    },
    {
     "name": "stdout",
     "output_type": "stream",
     "text": [
      "number of rows 8940\n",
      "page number: 448\n"
     ]
    },
    {
     "data": {
      "text/plain": "IntProgress(value=0, max=20)",
      "application/vnd.jupyter.widget-view+json": {
       "version_major": 2,
       "version_minor": 0,
       "model_id": "23786632cf594708b2f3eb53c4ebd9a1"
      }
     },
     "metadata": {},
     "output_type": "display_data"
    },
    {
     "name": "stdout",
     "output_type": "stream",
     "text": [
      "number of rows 8960\n",
      "page number: 449\n"
     ]
    },
    {
     "data": {
      "text/plain": "IntProgress(value=0, max=20)",
      "application/vnd.jupyter.widget-view+json": {
       "version_major": 2,
       "version_minor": 0,
       "model_id": "86bdc8d63bd2491f9bac41cc599bf82c"
      }
     },
     "metadata": {},
     "output_type": "display_data"
    },
    {
     "name": "stdout",
     "output_type": "stream",
     "text": [
      "number of rows 8980\n",
      "page number: 450\n"
     ]
    },
    {
     "data": {
      "text/plain": "IntProgress(value=0, max=20)",
      "application/vnd.jupyter.widget-view+json": {
       "version_major": 2,
       "version_minor": 0,
       "model_id": "4e39aa3b9b334cfcb1095f8dde800939"
      }
     },
     "metadata": {},
     "output_type": "display_data"
    },
    {
     "name": "stdout",
     "output_type": "stream",
     "text": [
      "number of rows 9000\n",
      "page number: 451\n"
     ]
    },
    {
     "data": {
      "text/plain": "IntProgress(value=0, max=20)",
      "application/vnd.jupyter.widget-view+json": {
       "version_major": 2,
       "version_minor": 0,
       "model_id": "8511d4db63f04b4db8d0f2dd2b0d2bde"
      }
     },
     "metadata": {},
     "output_type": "display_data"
    },
    {
     "name": "stdout",
     "output_type": "stream",
     "text": [
      "number of rows 9020\n",
      "page number: 452\n"
     ]
    },
    {
     "data": {
      "text/plain": "IntProgress(value=0, max=20)",
      "application/vnd.jupyter.widget-view+json": {
       "version_major": 2,
       "version_minor": 0,
       "model_id": "40f1217da8b541b4adb6e49fad35181a"
      }
     },
     "metadata": {},
     "output_type": "display_data"
    },
    {
     "name": "stdout",
     "output_type": "stream",
     "text": [
      "number of rows 9040\n",
      "page number: 453\n"
     ]
    },
    {
     "data": {
      "text/plain": "IntProgress(value=0, max=20)",
      "application/vnd.jupyter.widget-view+json": {
       "version_major": 2,
       "version_minor": 0,
       "model_id": "4b9fa563b39d4a3591f8ffb3b3c6070e"
      }
     },
     "metadata": {},
     "output_type": "display_data"
    },
    {
     "name": "stdout",
     "output_type": "stream",
     "text": [
      "number of rows 9060\n",
      "page number: 454\n"
     ]
    },
    {
     "data": {
      "text/plain": "IntProgress(value=0, max=20)",
      "application/vnd.jupyter.widget-view+json": {
       "version_major": 2,
       "version_minor": 0,
       "model_id": "7d7ff2b62db940eaab2d299259819a16"
      }
     },
     "metadata": {},
     "output_type": "display_data"
    },
    {
     "name": "stdout",
     "output_type": "stream",
     "text": [
      "number of rows 9080\n",
      "page number: 455\n"
     ]
    },
    {
     "data": {
      "text/plain": "IntProgress(value=0, max=20)",
      "application/vnd.jupyter.widget-view+json": {
       "version_major": 2,
       "version_minor": 0,
       "model_id": "7d911f6804ce438fa21edb38526f2b18"
      }
     },
     "metadata": {},
     "output_type": "display_data"
    },
    {
     "name": "stdout",
     "output_type": "stream",
     "text": [
      "number of rows 9100\n",
      "page number: 456\n"
     ]
    },
    {
     "data": {
      "text/plain": "IntProgress(value=0, max=20)",
      "application/vnd.jupyter.widget-view+json": {
       "version_major": 2,
       "version_minor": 0,
       "model_id": "d14ea13ea9a0454c84831dbb2d8c04b8"
      }
     },
     "metadata": {},
     "output_type": "display_data"
    },
    {
     "name": "stdout",
     "output_type": "stream",
     "text": [
      "number of rows 9120\n",
      "page number: 457\n"
     ]
    },
    {
     "data": {
      "text/plain": "IntProgress(value=0, max=20)",
      "application/vnd.jupyter.widget-view+json": {
       "version_major": 2,
       "version_minor": 0,
       "model_id": "a9405d2b1f0a4714b77cd2fb9404e9a4"
      }
     },
     "metadata": {},
     "output_type": "display_data"
    },
    {
     "name": "stdout",
     "output_type": "stream",
     "text": [
      "number of rows 9140\n",
      "page number: 458\n"
     ]
    },
    {
     "data": {
      "text/plain": "IntProgress(value=0, max=20)",
      "application/vnd.jupyter.widget-view+json": {
       "version_major": 2,
       "version_minor": 0,
       "model_id": "e4c8995a833940ecaa499c36cda16cac"
      }
     },
     "metadata": {},
     "output_type": "display_data"
    },
    {
     "name": "stdout",
     "output_type": "stream",
     "text": [
      "number of rows 9160\n",
      "page number: 459\n"
     ]
    },
    {
     "data": {
      "text/plain": "IntProgress(value=0, max=20)",
      "application/vnd.jupyter.widget-view+json": {
       "version_major": 2,
       "version_minor": 0,
       "model_id": "a7148682ec38457880ab946cdb1af56d"
      }
     },
     "metadata": {},
     "output_type": "display_data"
    },
    {
     "name": "stdout",
     "output_type": "stream",
     "text": [
      "number of rows 9180\n",
      "page number: 460\n"
     ]
    },
    {
     "data": {
      "text/plain": "IntProgress(value=0, max=20)",
      "application/vnd.jupyter.widget-view+json": {
       "version_major": 2,
       "version_minor": 0,
       "model_id": "349b7afc2d7d4aec8ca03cf47b7b1273"
      }
     },
     "metadata": {},
     "output_type": "display_data"
    },
    {
     "name": "stdout",
     "output_type": "stream",
     "text": [
      "number of rows 9200\n",
      "page number: 461\n"
     ]
    },
    {
     "data": {
      "text/plain": "IntProgress(value=0, max=20)",
      "application/vnd.jupyter.widget-view+json": {
       "version_major": 2,
       "version_minor": 0,
       "model_id": "6df3bf06814e432f8ea03490e1d7d051"
      }
     },
     "metadata": {},
     "output_type": "display_data"
    },
    {
     "name": "stdout",
     "output_type": "stream",
     "text": [
      "number of rows 9220\n",
      "page number: 462\n"
     ]
    },
    {
     "data": {
      "text/plain": "IntProgress(value=0, max=20)",
      "application/vnd.jupyter.widget-view+json": {
       "version_major": 2,
       "version_minor": 0,
       "model_id": "10f35fc37c914aeebe3811e8d4d88f59"
      }
     },
     "metadata": {},
     "output_type": "display_data"
    },
    {
     "name": "stdout",
     "output_type": "stream",
     "text": [
      "number of rows 9240\n",
      "page number: 463\n"
     ]
    },
    {
     "data": {
      "text/plain": "IntProgress(value=0, max=20)",
      "application/vnd.jupyter.widget-view+json": {
       "version_major": 2,
       "version_minor": 0,
       "model_id": "065a80fc63904c73919a2f515061137e"
      }
     },
     "metadata": {},
     "output_type": "display_data"
    },
    {
     "name": "stdout",
     "output_type": "stream",
     "text": [
      "number of rows 9260\n",
      "page number: 464\n"
     ]
    },
    {
     "data": {
      "text/plain": "IntProgress(value=0, max=20)",
      "application/vnd.jupyter.widget-view+json": {
       "version_major": 2,
       "version_minor": 0,
       "model_id": "13267d31615f4322a7f2050aa4be957f"
      }
     },
     "metadata": {},
     "output_type": "display_data"
    },
    {
     "name": "stdout",
     "output_type": "stream",
     "text": [
      "number of rows 9280\n",
      "page number: 465\n"
     ]
    },
    {
     "data": {
      "text/plain": "IntProgress(value=0, max=20)",
      "application/vnd.jupyter.widget-view+json": {
       "version_major": 2,
       "version_minor": 0,
       "model_id": "1e1558c99ea24425b51a79fa023e8d2b"
      }
     },
     "metadata": {},
     "output_type": "display_data"
    },
    {
     "name": "stdout",
     "output_type": "stream",
     "text": [
      "number of rows 9300\n",
      "page number: 466\n"
     ]
    },
    {
     "data": {
      "text/plain": "IntProgress(value=0, max=20)",
      "application/vnd.jupyter.widget-view+json": {
       "version_major": 2,
       "version_minor": 0,
       "model_id": "a792145129ef48859ee34c76f5f3e800"
      }
     },
     "metadata": {},
     "output_type": "display_data"
    },
    {
     "name": "stdout",
     "output_type": "stream",
     "text": [
      "number of rows 9320\n",
      "page number: 467\n"
     ]
    },
    {
     "data": {
      "text/plain": "IntProgress(value=0, max=20)",
      "application/vnd.jupyter.widget-view+json": {
       "version_major": 2,
       "version_minor": 0,
       "model_id": "3bc15ce874a942628549be3a9079c42d"
      }
     },
     "metadata": {},
     "output_type": "display_data"
    },
    {
     "name": "stdout",
     "output_type": "stream",
     "text": [
      "number of rows 9340\n",
      "page number: 468\n"
     ]
    },
    {
     "data": {
      "text/plain": "IntProgress(value=0, max=20)",
      "application/vnd.jupyter.widget-view+json": {
       "version_major": 2,
       "version_minor": 0,
       "model_id": "10d83539f4c146e8bceac6231c973c6d"
      }
     },
     "metadata": {},
     "output_type": "display_data"
    },
    {
     "name": "stdout",
     "output_type": "stream",
     "text": [
      "number of rows 9360\n",
      "page number: 469\n"
     ]
    },
    {
     "data": {
      "text/plain": "IntProgress(value=0, max=20)",
      "application/vnd.jupyter.widget-view+json": {
       "version_major": 2,
       "version_minor": 0,
       "model_id": "92fcf863d274447197603cb7b5316b8f"
      }
     },
     "metadata": {},
     "output_type": "display_data"
    },
    {
     "name": "stdout",
     "output_type": "stream",
     "text": [
      "number of rows 9380\n",
      "page number: 470\n"
     ]
    },
    {
     "data": {
      "text/plain": "IntProgress(value=0, max=20)",
      "application/vnd.jupyter.widget-view+json": {
       "version_major": 2,
       "version_minor": 0,
       "model_id": "b2347c7bb719488bb0b71dbe701eee3a"
      }
     },
     "metadata": {},
     "output_type": "display_data"
    },
    {
     "name": "stdout",
     "output_type": "stream",
     "text": [
      "number of rows 9400\n",
      "page number: 471\n"
     ]
    },
    {
     "data": {
      "text/plain": "IntProgress(value=0, max=20)",
      "application/vnd.jupyter.widget-view+json": {
       "version_major": 2,
       "version_minor": 0,
       "model_id": "a88d4cf30b9244678a7ddfe34ea621f7"
      }
     },
     "metadata": {},
     "output_type": "display_data"
    },
    {
     "name": "stdout",
     "output_type": "stream",
     "text": [
      "number of rows 9420\n",
      "page number: 472\n"
     ]
    },
    {
     "data": {
      "text/plain": "IntProgress(value=0, max=20)",
      "application/vnd.jupyter.widget-view+json": {
       "version_major": 2,
       "version_minor": 0,
       "model_id": "9fa29dd2600d473b873172161d1683d6"
      }
     },
     "metadata": {},
     "output_type": "display_data"
    },
    {
     "name": "stdout",
     "output_type": "stream",
     "text": [
      "number of rows 9440\n",
      "page number: 473\n"
     ]
    },
    {
     "data": {
      "text/plain": "IntProgress(value=0, max=20)",
      "application/vnd.jupyter.widget-view+json": {
       "version_major": 2,
       "version_minor": 0,
       "model_id": "cfd51cac02954cd896668f1d44d27926"
      }
     },
     "metadata": {},
     "output_type": "display_data"
    },
    {
     "name": "stdout",
     "output_type": "stream",
     "text": [
      "number of rows 9460\n",
      "page number: 474\n"
     ]
    },
    {
     "data": {
      "text/plain": "IntProgress(value=0, max=20)",
      "application/vnd.jupyter.widget-view+json": {
       "version_major": 2,
       "version_minor": 0,
       "model_id": "bf1bb5e8430e4233b68e7845890de2c7"
      }
     },
     "metadata": {},
     "output_type": "display_data"
    },
    {
     "name": "stdout",
     "output_type": "stream",
     "text": [
      "number of rows 9480\n",
      "page number: 475\n"
     ]
    },
    {
     "data": {
      "text/plain": "IntProgress(value=0, max=20)",
      "application/vnd.jupyter.widget-view+json": {
       "version_major": 2,
       "version_minor": 0,
       "model_id": "cf11fcda18d04b6fb03b6629f2bc1e9a"
      }
     },
     "metadata": {},
     "output_type": "display_data"
    },
    {
     "name": "stdout",
     "output_type": "stream",
     "text": [
      "number of rows 9500\n",
      "page number: 476\n"
     ]
    },
    {
     "data": {
      "text/plain": "IntProgress(value=0, max=20)",
      "application/vnd.jupyter.widget-view+json": {
       "version_major": 2,
       "version_minor": 0,
       "model_id": "3c527bd6fe054a7a9042a76fec971f02"
      }
     },
     "metadata": {},
     "output_type": "display_data"
    },
    {
     "name": "stdout",
     "output_type": "stream",
     "text": [
      "number of rows 9520\n",
      "page number: 477\n"
     ]
    },
    {
     "data": {
      "text/plain": "IntProgress(value=0, max=20)",
      "application/vnd.jupyter.widget-view+json": {
       "version_major": 2,
       "version_minor": 0,
       "model_id": "995335d508024bd0948991f03b949652"
      }
     },
     "metadata": {},
     "output_type": "display_data"
    },
    {
     "name": "stdout",
     "output_type": "stream",
     "text": [
      "number of rows 9540\n",
      "page number: 478\n"
     ]
    },
    {
     "data": {
      "text/plain": "IntProgress(value=0, max=20)",
      "application/vnd.jupyter.widget-view+json": {
       "version_major": 2,
       "version_minor": 0,
       "model_id": "9c9c78c8015f410ba420fb67e30d1461"
      }
     },
     "metadata": {},
     "output_type": "display_data"
    },
    {
     "name": "stdout",
     "output_type": "stream",
     "text": [
      "number of rows 9560\n",
      "page number: 479\n"
     ]
    },
    {
     "data": {
      "text/plain": "IntProgress(value=0, max=20)",
      "application/vnd.jupyter.widget-view+json": {
       "version_major": 2,
       "version_minor": 0,
       "model_id": "4fdc145b20cc4e21937ee96e76cd5411"
      }
     },
     "metadata": {},
     "output_type": "display_data"
    },
    {
     "name": "stdout",
     "output_type": "stream",
     "text": [
      "number of rows 9580\n",
      "page number: 480\n"
     ]
    },
    {
     "data": {
      "text/plain": "IntProgress(value=0, max=20)",
      "application/vnd.jupyter.widget-view+json": {
       "version_major": 2,
       "version_minor": 0,
       "model_id": "5c27628877af4f1ebaed9471e880e16a"
      }
     },
     "metadata": {},
     "output_type": "display_data"
    },
    {
     "name": "stdout",
     "output_type": "stream",
     "text": [
      "number of rows 9600\n",
      "page number: 481\n"
     ]
    },
    {
     "data": {
      "text/plain": "IntProgress(value=0, max=20)",
      "application/vnd.jupyter.widget-view+json": {
       "version_major": 2,
       "version_minor": 0,
       "model_id": "e71459567dec4e2b8e4b778ba9ac225b"
      }
     },
     "metadata": {},
     "output_type": "display_data"
    },
    {
     "name": "stdout",
     "output_type": "stream",
     "text": [
      "number of rows 9620\n",
      "page number: 482\n"
     ]
    },
    {
     "data": {
      "text/plain": "IntProgress(value=0, max=20)",
      "application/vnd.jupyter.widget-view+json": {
       "version_major": 2,
       "version_minor": 0,
       "model_id": "d35c85d6398c494dbfa78d9bb5c8fa3b"
      }
     },
     "metadata": {},
     "output_type": "display_data"
    },
    {
     "name": "stdout",
     "output_type": "stream",
     "text": [
      "number of rows 9640\n",
      "page number: 483\n"
     ]
    },
    {
     "data": {
      "text/plain": "IntProgress(value=0, max=20)",
      "application/vnd.jupyter.widget-view+json": {
       "version_major": 2,
       "version_minor": 0,
       "model_id": "45cf9556b0874f6ea1e0c80e7435e201"
      }
     },
     "metadata": {},
     "output_type": "display_data"
    },
    {
     "name": "stdout",
     "output_type": "stream",
     "text": [
      "number of rows 9660\n",
      "page number: 484\n"
     ]
    },
    {
     "data": {
      "text/plain": "IntProgress(value=0, max=20)",
      "application/vnd.jupyter.widget-view+json": {
       "version_major": 2,
       "version_minor": 0,
       "model_id": "eb1796ad81bd4f68b6a8e3212ecbee82"
      }
     },
     "metadata": {},
     "output_type": "display_data"
    },
    {
     "name": "stdout",
     "output_type": "stream",
     "text": [
      "number of rows 9680\n",
      "page number: 485\n"
     ]
    },
    {
     "data": {
      "text/plain": "IntProgress(value=0, max=20)",
      "application/vnd.jupyter.widget-view+json": {
       "version_major": 2,
       "version_minor": 0,
       "model_id": "e8616362a7db4cf88e42dda77790f19e"
      }
     },
     "metadata": {},
     "output_type": "display_data"
    },
    {
     "name": "stdout",
     "output_type": "stream",
     "text": [
      "number of rows 9700\n",
      "page number: 486\n"
     ]
    },
    {
     "data": {
      "text/plain": "IntProgress(value=0, max=20)",
      "application/vnd.jupyter.widget-view+json": {
       "version_major": 2,
       "version_minor": 0,
       "model_id": "6f391566617146859531a73f75d132d5"
      }
     },
     "metadata": {},
     "output_type": "display_data"
    },
    {
     "name": "stdout",
     "output_type": "stream",
     "text": [
      "number of rows 9720\n",
      "page number: 487\n"
     ]
    },
    {
     "data": {
      "text/plain": "IntProgress(value=0, max=20)",
      "application/vnd.jupyter.widget-view+json": {
       "version_major": 2,
       "version_minor": 0,
       "model_id": "8f7af267be3540f58fce1ea2ce367be1"
      }
     },
     "metadata": {},
     "output_type": "display_data"
    },
    {
     "name": "stdout",
     "output_type": "stream",
     "text": [
      "number of rows 9740\n",
      "page number: 488\n"
     ]
    },
    {
     "data": {
      "text/plain": "IntProgress(value=0, max=20)",
      "application/vnd.jupyter.widget-view+json": {
       "version_major": 2,
       "version_minor": 0,
       "model_id": "5c689ec4f7984db590297c1b4fd3e720"
      }
     },
     "metadata": {},
     "output_type": "display_data"
    },
    {
     "name": "stdout",
     "output_type": "stream",
     "text": [
      "number of rows 9760\n",
      "page number: 489\n"
     ]
    },
    {
     "data": {
      "text/plain": "IntProgress(value=0, max=20)",
      "application/vnd.jupyter.widget-view+json": {
       "version_major": 2,
       "version_minor": 0,
       "model_id": "48c59ed10b6142f9a43975d341c3eddd"
      }
     },
     "metadata": {},
     "output_type": "display_data"
    },
    {
     "name": "stdout",
     "output_type": "stream",
     "text": [
      "number of rows 9780\n",
      "page number: 490\n"
     ]
    },
    {
     "data": {
      "text/plain": "IntProgress(value=0, max=20)",
      "application/vnd.jupyter.widget-view+json": {
       "version_major": 2,
       "version_minor": 0,
       "model_id": "20f4a166a4c44bdc99619b0ed5e13a3d"
      }
     },
     "metadata": {},
     "output_type": "display_data"
    },
    {
     "name": "stdout",
     "output_type": "stream",
     "text": [
      "number of rows 9800\n",
      "page number: 491\n"
     ]
    },
    {
     "data": {
      "text/plain": "IntProgress(value=0, max=20)",
      "application/vnd.jupyter.widget-view+json": {
       "version_major": 2,
       "version_minor": 0,
       "model_id": "357d50d84d7f4603874f9f31472548e0"
      }
     },
     "metadata": {},
     "output_type": "display_data"
    },
    {
     "name": "stdout",
     "output_type": "stream",
     "text": [
      "number of rows 9820\n",
      "page number: 492\n"
     ]
    },
    {
     "data": {
      "text/plain": "IntProgress(value=0, max=20)",
      "application/vnd.jupyter.widget-view+json": {
       "version_major": 2,
       "version_minor": 0,
       "model_id": "46efd7453df940049eb8c811e13aae58"
      }
     },
     "metadata": {},
     "output_type": "display_data"
    },
    {
     "name": "stdout",
     "output_type": "stream",
     "text": [
      "number of rows 9840\n",
      "page number: 493\n"
     ]
    },
    {
     "data": {
      "text/plain": "IntProgress(value=0, max=20)",
      "application/vnd.jupyter.widget-view+json": {
       "version_major": 2,
       "version_minor": 0,
       "model_id": "a75d096b9f69417d8eeddf0de169a123"
      }
     },
     "metadata": {},
     "output_type": "display_data"
    },
    {
     "name": "stdout",
     "output_type": "stream",
     "text": [
      "number of rows 9860\n",
      "page number: 494\n"
     ]
    },
    {
     "data": {
      "text/plain": "IntProgress(value=0, max=20)",
      "application/vnd.jupyter.widget-view+json": {
       "version_major": 2,
       "version_minor": 0,
       "model_id": "3f2e0d40ac094e0ba586a013cce02fbb"
      }
     },
     "metadata": {},
     "output_type": "display_data"
    },
    {
     "name": "stdout",
     "output_type": "stream",
     "text": [
      "number of rows 9880\n",
      "page number: 495\n"
     ]
    },
    {
     "data": {
      "text/plain": "IntProgress(value=0, max=20)",
      "application/vnd.jupyter.widget-view+json": {
       "version_major": 2,
       "version_minor": 0,
       "model_id": "5a0ff4c3276b47efa51be8b96948aba6"
      }
     },
     "metadata": {},
     "output_type": "display_data"
    },
    {
     "name": "stdout",
     "output_type": "stream",
     "text": [
      "number of rows 9900\n",
      "page number: 496\n"
     ]
    },
    {
     "data": {
      "text/plain": "IntProgress(value=0, max=20)",
      "application/vnd.jupyter.widget-view+json": {
       "version_major": 2,
       "version_minor": 0,
       "model_id": "4d46da67df7c4ef8b5cdd58102bdcc63"
      }
     },
     "metadata": {},
     "output_type": "display_data"
    },
    {
     "name": "stdout",
     "output_type": "stream",
     "text": [
      "number of rows 9920\n",
      "page number: 497\n"
     ]
    },
    {
     "data": {
      "text/plain": "IntProgress(value=0, max=20)",
      "application/vnd.jupyter.widget-view+json": {
       "version_major": 2,
       "version_minor": 0,
       "model_id": "b73a7d6869b146d4919ef28438959092"
      }
     },
     "metadata": {},
     "output_type": "display_data"
    },
    {
     "name": "stdout",
     "output_type": "stream",
     "text": [
      "number of rows 9940\n",
      "page number: 498\n"
     ]
    },
    {
     "data": {
      "text/plain": "IntProgress(value=0, max=20)",
      "application/vnd.jupyter.widget-view+json": {
       "version_major": 2,
       "version_minor": 0,
       "model_id": "c02da115932343929e964c8a45ba1b12"
      }
     },
     "metadata": {},
     "output_type": "display_data"
    },
    {
     "name": "stdout",
     "output_type": "stream",
     "text": [
      "number of rows 9960\n",
      "page number: 499\n"
     ]
    },
    {
     "data": {
      "text/plain": "IntProgress(value=0, max=20)",
      "application/vnd.jupyter.widget-view+json": {
       "version_major": 2,
       "version_minor": 0,
       "model_id": "e864a4acc16f470db6dcd6405b146b2b"
      }
     },
     "metadata": {},
     "output_type": "display_data"
    },
    {
     "name": "stdout",
     "output_type": "stream",
     "text": [
      "number of rows 9980\n",
      "page number: 500\n"
     ]
    },
    {
     "data": {
      "text/plain": "IntProgress(value=0, max=20)",
      "application/vnd.jupyter.widget-view+json": {
       "version_major": 2,
       "version_minor": 0,
       "model_id": "d5c6f5a5df65469e8d538aaac7562698"
      }
     },
     "metadata": {},
     "output_type": "display_data"
    },
    {
     "name": "stdout",
     "output_type": "stream",
     "text": [
      "number of rows 10000\n"
     ]
    }
   ],
   "source": [
    "n_page=373\n",
    "while n_page<=500:\n",
    "    print('page number:',str(n_page))\n",
    "    try:\n",
    "        req = requests.get('https://m2.ru/sankt-peterburg/nedvizhimost/kupit-kvartiru/?pageNumber='+str(n_page))\n",
    "    except requests.exceptions.RequestException as e:\n",
    "        raise SystemExit(e)\n",
    "\n",
    "    soup = BeautifulSoup(req.text, \"lxml\")\n",
    "    # if we don't have header we stop parsing\n",
    "    if soup.h1 is None:\n",
    "        print('Parsing is stopped')\n",
    "        break\n",
    "    #getting all links from the page\n",
    "    all_hrefs = [a.get('href') for a in soup.find_all('a')]\n",
    "    flat_hrefs = [a for a in all_hrefs if 'https://m2.ru/sankt-peterburg/nedvizhimost/prodazha' in str(a)]\n",
    "    #getting all parameters from an apartment page.\n",
    "    flat_hrefs = list(set(flat_hrefs))\n",
    "    flats = add_flats(flat_hrefs)\n",
    "    flats_all = pd.concat([flats_all, flats], ignore_index=True)\n",
    "    print('number of rows',flats_all.shape[0])\n",
    "    n_page+=1"
   ],
   "metadata": {
    "collapsed": false,
    "ExecuteTime": {
     "end_time": "2023-06-30T20:02:59.743670Z",
     "start_time": "2023-06-30T18:47:36.595149Z"
    }
   }
  },
  {
   "cell_type": "code",
   "execution_count": 131,
   "outputs": [
    {
     "data": {
      "text/plain": "                                                 Ссылка  \\\n0     https://m2.ru/sankt-peterburg/nedvizhimost/pro...   \n1     https://m2.ru/sankt-peterburg/nedvizhimost/pro...   \n2     https://m2.ru/sankt-peterburg/nedvizhimost/pro...   \n3     https://m2.ru/sankt-peterburg/nedvizhimost/pro...   \n4     https://m2.ru/sankt-peterburg/nedvizhimost/pro...   \n...                                                 ...   \n9995  https://m2.ru/sankt-peterburg/nedvizhimost/pro...   \n9996  https://m2.ru/sankt-peterburg/nedvizhimost/pro...   \n9997  https://m2.ru/sankt-peterburg/nedvizhimost/pro...   \n9998  https://m2.ru/sankt-peterburg/nedvizhimost/pro...   \n9999  https://m2.ru/sankt-peterburg/nedvizhimost/pro...   \n\n                                             Название  \\\n0       Продажа 1-комнатной квартиры 34 м², 9/12 этаж   \n1      Продажа 1-комнатной квартиры 53,3 м², 1/6 этаж   \n2      Продажа 1-комнатной квартиры 37,1 м², 3/9 этаж   \n3     Продажа 2-комнатной квартиры 67,4 м², 6/12 этаж   \n4      Продажа 2-комнатной квартиры 63,1 м², 8/8 этаж   \n...                                               ...   \n9995       Продажа квартиры-студии 30,2 м², 5/23 этаж   \n9996      Продажа квартиры-студии 33,1 м², 15/25 этаж   \n9997        Продажа квартиры-студии 30,4 м², 4/6 этаж   \n9998     Продажа 2-комнатной квартиры 45 м², 6/9 этаж   \n9999       Продажа квартиры-студии 23,3 м², 3/13 этаж   \n\n                                                  Адрес        Цена Комнат  \\\n0     Санкт-Петербург, Выборгский район, Большой Сам...  10 500 000      1   \n1     Санкт-Петербург, Петроградский район, Петровск...  32 700 000      1   \n2     Санкт-Петербург, Невский район, проспект Обухо...  11 750 289      1   \n3     Санкт-Петербург, Красносельский район, Ленинск...  12 500 000      2   \n4     Санкт-Петербург, Московский район, Черниговска...  17 490 000      2   \n...                                                 ...         ...    ...   \n9995  Санкт-Петербург, Выборгский район, Парголово, ...   6 447 519    NaN   \n9996  Санкт-Петербург, Приморский район, Богатырский...   8 400 000    NaN   \n9997  Санкт-Петербург, Московский район, улица Коли ...   7 476 000    NaN   \n9998  Санкт-Петербург, Выборгский район, Выборгское ...   6 600 000      2   \n9999  Санкт-Петербург, Приморский район, Глухарская ...   5 062 938    NaN   \n\n           Отделка Площадь квартиры Жилая площадь Площадь кухни      Этаж  \\\n0         чистовая            34 м²       16,2 м²       10,1 м²   9 из 12   \n1              NaN          53,3 м²           NaN           NaN    1 из 6   \n2         чистовая          37,1 м²       17,3 м²       10,1 м²    3 из 9   \n3              NaN          67,4 м²       34,4 м²       15,4 м²   6 из 12   \n4              NaN          63,1 м²       33,2 м²       10,2 м²    8 из 8   \n...            ...              ...           ...           ...       ...   \n9995  предчистовая          30,2 м²       19,1 м²           NaN   5 из 23   \n9996           NaN          33,1 м²       21,4 м²           NaN  15 из 25   \n9997           NaN          30,4 м²       17,9 м²           NaN    4 из 6   \n9998           NaN            45 м²       27,5 м²        6,4 м²    6 из 9   \n9999           NaN          23,3 м²       14,1 м²           NaN   3 из 13   \n\n      ... Кухонная мебель Телевизор Стиральная машина Год постройки Консьерж  \\\n0     ...             NaN       NaN               NaN           NaN      NaN   \n1     ...            есть      есть              есть          2018     есть   \n2     ...             NaN       NaN               NaN           NaN      NaN   \n3     ...            есть       NaN              есть           NaN     есть   \n4     ...             NaN       NaN               NaN          2023      NaN   \n...   ...             ...       ...               ...           ...      ...   \n9995  ...             NaN       NaN               NaN          2022      NaN   \n9996  ...             NaN       NaN               NaN          2022      NaN   \n9997  ...             NaN       NaN               NaN           NaN      NaN   \n9998  ...             NaN       NaN               NaN           NaN      NaN   \n9999  ...             NaN       NaN               NaN           NaN      NaN   \n\n       Материал стен    Отопление Вид из окон Серия дома Временная эпоха  \n0                NaN          NaN         NaN        NaN             NaN  \n1                NaN          NaN         NaN        NaN             NaN  \n2     кирпич-монолит          NaN         NaN        NaN             NaN  \n3            монолит  центральное         NaN        NaN             NaN  \n4     кирпич-монолит          NaN         NaN        NaN             NaN  \n...              ...          ...         ...        ...             ...  \n9995             NaN          NaN         NaN        NaN             NaN  \n9996  кирпич-монолит          NaN         NaN        NaN             NaN  \n9997          кирпич          NaN         NaN        NaN             NaN  \n9998             NaN          NaN         NaN        NaN             NaN  \n9999  кирпич-монолит          NaN         NaN        NaN             NaN  \n\n[10000 rows x 36 columns]",
      "text/html": "<div>\n<style scoped>\n    .dataframe tbody tr th:only-of-type {\n        vertical-align: middle;\n    }\n\n    .dataframe tbody tr th {\n        vertical-align: top;\n    }\n\n    .dataframe thead th {\n        text-align: right;\n    }\n</style>\n<table border=\"1\" class=\"dataframe\">\n  <thead>\n    <tr style=\"text-align: right;\">\n      <th></th>\n      <th>Ссылка</th>\n      <th>Название</th>\n      <th>Адрес</th>\n      <th>Цена</th>\n      <th>Комнат</th>\n      <th>Отделка</th>\n      <th>Площадь квартиры</th>\n      <th>Жилая площадь</th>\n      <th>Площадь кухни</th>\n      <th>Этаж</th>\n      <th>...</th>\n      <th>Кухонная мебель</th>\n      <th>Телевизор</th>\n      <th>Стиральная машина</th>\n      <th>Год постройки</th>\n      <th>Консьерж</th>\n      <th>Материал стен</th>\n      <th>Отопление</th>\n      <th>Вид из окон</th>\n      <th>Серия дома</th>\n      <th>Временная эпоха</th>\n    </tr>\n  </thead>\n  <tbody>\n    <tr>\n      <th>0</th>\n      <td>https://m2.ru/sankt-peterburg/nedvizhimost/pro...</td>\n      <td>Продажа 1-комнатной квартиры 34 м², 9/12 этаж</td>\n      <td>Санкт-Петербург, Выборгский район, Большой Сам...</td>\n      <td>10 500 000</td>\n      <td>1</td>\n      <td>чистовая</td>\n      <td>34 м²</td>\n      <td>16,2 м²</td>\n      <td>10,1 м²</td>\n      <td>9 из 12</td>\n      <td>...</td>\n      <td>NaN</td>\n      <td>NaN</td>\n      <td>NaN</td>\n      <td>NaN</td>\n      <td>NaN</td>\n      <td>NaN</td>\n      <td>NaN</td>\n      <td>NaN</td>\n      <td>NaN</td>\n      <td>NaN</td>\n    </tr>\n    <tr>\n      <th>1</th>\n      <td>https://m2.ru/sankt-peterburg/nedvizhimost/pro...</td>\n      <td>Продажа 1-комнатной квартиры 53,3 м², 1/6 этаж</td>\n      <td>Санкт-Петербург, Петроградский район, Петровск...</td>\n      <td>32 700 000</td>\n      <td>1</td>\n      <td>NaN</td>\n      <td>53,3 м²</td>\n      <td>NaN</td>\n      <td>NaN</td>\n      <td>1 из 6</td>\n      <td>...</td>\n      <td>есть</td>\n      <td>есть</td>\n      <td>есть</td>\n      <td>2018</td>\n      <td>есть</td>\n      <td>NaN</td>\n      <td>NaN</td>\n      <td>NaN</td>\n      <td>NaN</td>\n      <td>NaN</td>\n    </tr>\n    <tr>\n      <th>2</th>\n      <td>https://m2.ru/sankt-peterburg/nedvizhimost/pro...</td>\n      <td>Продажа 1-комнатной квартиры 37,1 м², 3/9 этаж</td>\n      <td>Санкт-Петербург, Невский район, проспект Обухо...</td>\n      <td>11 750 289</td>\n      <td>1</td>\n      <td>чистовая</td>\n      <td>37,1 м²</td>\n      <td>17,3 м²</td>\n      <td>10,1 м²</td>\n      <td>3 из 9</td>\n      <td>...</td>\n      <td>NaN</td>\n      <td>NaN</td>\n      <td>NaN</td>\n      <td>NaN</td>\n      <td>NaN</td>\n      <td>кирпич-монолит</td>\n      <td>NaN</td>\n      <td>NaN</td>\n      <td>NaN</td>\n      <td>NaN</td>\n    </tr>\n    <tr>\n      <th>3</th>\n      <td>https://m2.ru/sankt-peterburg/nedvizhimost/pro...</td>\n      <td>Продажа 2-комнатной квартиры 67,4 м², 6/12 этаж</td>\n      <td>Санкт-Петербург, Красносельский район, Ленинск...</td>\n      <td>12 500 000</td>\n      <td>2</td>\n      <td>NaN</td>\n      <td>67,4 м²</td>\n      <td>34,4 м²</td>\n      <td>15,4 м²</td>\n      <td>6 из 12</td>\n      <td>...</td>\n      <td>есть</td>\n      <td>NaN</td>\n      <td>есть</td>\n      <td>NaN</td>\n      <td>есть</td>\n      <td>монолит</td>\n      <td>центральное</td>\n      <td>NaN</td>\n      <td>NaN</td>\n      <td>NaN</td>\n    </tr>\n    <tr>\n      <th>4</th>\n      <td>https://m2.ru/sankt-peterburg/nedvizhimost/pro...</td>\n      <td>Продажа 2-комнатной квартиры 63,1 м², 8/8 этаж</td>\n      <td>Санкт-Петербург, Московский район, Черниговска...</td>\n      <td>17 490 000</td>\n      <td>2</td>\n      <td>NaN</td>\n      <td>63,1 м²</td>\n      <td>33,2 м²</td>\n      <td>10,2 м²</td>\n      <td>8 из 8</td>\n      <td>...</td>\n      <td>NaN</td>\n      <td>NaN</td>\n      <td>NaN</td>\n      <td>2023</td>\n      <td>NaN</td>\n      <td>кирпич-монолит</td>\n      <td>NaN</td>\n      <td>NaN</td>\n      <td>NaN</td>\n      <td>NaN</td>\n    </tr>\n    <tr>\n      <th>...</th>\n      <td>...</td>\n      <td>...</td>\n      <td>...</td>\n      <td>...</td>\n      <td>...</td>\n      <td>...</td>\n      <td>...</td>\n      <td>...</td>\n      <td>...</td>\n      <td>...</td>\n      <td>...</td>\n      <td>...</td>\n      <td>...</td>\n      <td>...</td>\n      <td>...</td>\n      <td>...</td>\n      <td>...</td>\n      <td>...</td>\n      <td>...</td>\n      <td>...</td>\n      <td>...</td>\n    </tr>\n    <tr>\n      <th>9995</th>\n      <td>https://m2.ru/sankt-peterburg/nedvizhimost/pro...</td>\n      <td>Продажа квартиры-студии 30,2 м², 5/23 этаж</td>\n      <td>Санкт-Петербург, Выборгский район, Парголово, ...</td>\n      <td>6 447 519</td>\n      <td>NaN</td>\n      <td>предчистовая</td>\n      <td>30,2 м²</td>\n      <td>19,1 м²</td>\n      <td>NaN</td>\n      <td>5 из 23</td>\n      <td>...</td>\n      <td>NaN</td>\n      <td>NaN</td>\n      <td>NaN</td>\n      <td>2022</td>\n      <td>NaN</td>\n      <td>NaN</td>\n      <td>NaN</td>\n      <td>NaN</td>\n      <td>NaN</td>\n      <td>NaN</td>\n    </tr>\n    <tr>\n      <th>9996</th>\n      <td>https://m2.ru/sankt-peterburg/nedvizhimost/pro...</td>\n      <td>Продажа квартиры-студии 33,1 м², 15/25 этаж</td>\n      <td>Санкт-Петербург, Приморский район, Богатырский...</td>\n      <td>8 400 000</td>\n      <td>NaN</td>\n      <td>NaN</td>\n      <td>33,1 м²</td>\n      <td>21,4 м²</td>\n      <td>NaN</td>\n      <td>15 из 25</td>\n      <td>...</td>\n      <td>NaN</td>\n      <td>NaN</td>\n      <td>NaN</td>\n      <td>2022</td>\n      <td>NaN</td>\n      <td>кирпич-монолит</td>\n      <td>NaN</td>\n      <td>NaN</td>\n      <td>NaN</td>\n      <td>NaN</td>\n    </tr>\n    <tr>\n      <th>9997</th>\n      <td>https://m2.ru/sankt-peterburg/nedvizhimost/pro...</td>\n      <td>Продажа квартиры-студии 30,4 м², 4/6 этаж</td>\n      <td>Санкт-Петербург, Московский район, улица Коли ...</td>\n      <td>7 476 000</td>\n      <td>NaN</td>\n      <td>NaN</td>\n      <td>30,4 м²</td>\n      <td>17,9 м²</td>\n      <td>NaN</td>\n      <td>4 из 6</td>\n      <td>...</td>\n      <td>NaN</td>\n      <td>NaN</td>\n      <td>NaN</td>\n      <td>NaN</td>\n      <td>NaN</td>\n      <td>кирпич</td>\n      <td>NaN</td>\n      <td>NaN</td>\n      <td>NaN</td>\n      <td>NaN</td>\n    </tr>\n    <tr>\n      <th>9998</th>\n      <td>https://m2.ru/sankt-peterburg/nedvizhimost/pro...</td>\n      <td>Продажа 2-комнатной квартиры 45 м², 6/9 этаж</td>\n      <td>Санкт-Петербург, Выборгский район, Выборгское ...</td>\n      <td>6 600 000</td>\n      <td>2</td>\n      <td>NaN</td>\n      <td>45 м²</td>\n      <td>27,5 м²</td>\n      <td>6,4 м²</td>\n      <td>6 из 9</td>\n      <td>...</td>\n      <td>NaN</td>\n      <td>NaN</td>\n      <td>NaN</td>\n      <td>NaN</td>\n      <td>NaN</td>\n      <td>NaN</td>\n      <td>NaN</td>\n      <td>NaN</td>\n      <td>NaN</td>\n      <td>NaN</td>\n    </tr>\n    <tr>\n      <th>9999</th>\n      <td>https://m2.ru/sankt-peterburg/nedvizhimost/pro...</td>\n      <td>Продажа квартиры-студии 23,3 м², 3/13 этаж</td>\n      <td>Санкт-Петербург, Приморский район, Глухарская ...</td>\n      <td>5 062 938</td>\n      <td>NaN</td>\n      <td>NaN</td>\n      <td>23,3 м²</td>\n      <td>14,1 м²</td>\n      <td>NaN</td>\n      <td>3 из 13</td>\n      <td>...</td>\n      <td>NaN</td>\n      <td>NaN</td>\n      <td>NaN</td>\n      <td>NaN</td>\n      <td>NaN</td>\n      <td>кирпич-монолит</td>\n      <td>NaN</td>\n      <td>NaN</td>\n      <td>NaN</td>\n      <td>NaN</td>\n    </tr>\n  </tbody>\n</table>\n<p>10000 rows × 36 columns</p>\n</div>"
     },
     "execution_count": 131,
     "metadata": {},
     "output_type": "execute_result"
    }
   ],
   "source": [
    "flats_all"
   ],
   "metadata": {
    "collapsed": false,
    "ExecuteTime": {
     "end_time": "2023-06-30T20:05:56.455755Z",
     "start_time": "2023-06-30T20:05:56.411824Z"
    }
   }
  },
  {
   "cell_type": "markdown",
   "source": [],
   "metadata": {
    "collapsed": false
   }
  },
  {
   "cell_type": "code",
   "execution_count": 132,
   "outputs": [],
   "source": [
    "flats_all.to_csv('data/raw_data_from_metr2_2023.csv',sep=';',index=False)"
   ],
   "metadata": {
    "collapsed": false,
    "ExecuteTime": {
     "end_time": "2023-06-30T20:06:08.161054Z",
     "start_time": "2023-06-30T20:06:07.981456Z"
    }
   }
  },
  {
   "cell_type": "markdown",
   "source": [
    "<h2>Почистим данные</h2>"
   ],
   "metadata": {
    "collapsed": false
   }
  },
  {
   "cell_type": "code",
   "execution_count": 1,
   "outputs": [],
   "source": [
    "import pandas as pd\n",
    "flats = pd.read_csv('data/raw_data_from_metr2_2023.csv',sep=';')"
   ],
   "metadata": {
    "collapsed": false,
    "ExecuteTime": {
     "end_time": "2023-07-04T18:55:33.838690Z",
     "start_time": "2023-07-04T18:55:32.122509Z"
    }
   }
  },
  {
   "cell_type": "code",
   "execution_count": 2,
   "outputs": [
    {
     "name": "stdout",
     "output_type": "stream",
     "text": [
      "<class 'pandas.core.frame.DataFrame'>\n",
      "RangeIndex: 10000 entries, 0 to 9999\n",
      "Data columns (total 36 columns):\n",
      " #   Column             Non-Null Count  Dtype  \n",
      "---  ------             --------------  -----  \n",
      " 0   Ссылка             10000 non-null  object \n",
      " 1   Название           10000 non-null  object \n",
      " 2   Адрес              10000 non-null  object \n",
      " 3   Цена               10000 non-null  object \n",
      " 4   Комнат             8187 non-null   float64\n",
      " 5   Отделка            4002 non-null   object \n",
      " 6   Площадь квартиры   10000 non-null  object \n",
      " 7   Жилая площадь      9571 non-null   object \n",
      " 8   Площадь кухни      7588 non-null   object \n",
      " 9   Этаж               9999 non-null   object \n",
      " 10  Санузел            7270 non-null   object \n",
      " 11  Кол-во санузлов    7599 non-null   float64\n",
      " 12  Балкон/лоджия      6892 non-null   object \n",
      " 13  Вид из окна        4234 non-null   object \n",
      " 14  Срок сдачи         4175 non-null   object \n",
      " 15  Высота потолков    7228 non-null   object \n",
      " 16  Лифт               6180 non-null   object \n",
      " 17  Парковка           4869 non-null   object \n",
      " 18  Территория         2104 non-null   object \n",
      " 19  Тип жилья          190 non-null    object \n",
      " 20  Ремонт             1646 non-null   object \n",
      " 21  Кондиционер        63 non-null     object \n",
      " 22  Посудомойка        147 non-null    object \n",
      " 23  Холодильник        324 non-null    object \n",
      " 24  Мебель             1070 non-null   object \n",
      " 25  Интернет           2697 non-null   object \n",
      " 26  Кухонная мебель    835 non-null    object \n",
      " 27  Телевизор          162 non-null    object \n",
      " 28  Стиральная машина  309 non-null    object \n",
      " 29  Год постройки      2691 non-null   float64\n",
      " 30  Консьерж           249 non-null    object \n",
      " 31  Материал стен      8870 non-null   object \n",
      " 32  Отопление          2844 non-null   object \n",
      " 33  Вид из окон        343 non-null    object \n",
      " 34  Серия дома         1529 non-null   object \n",
      " 35  Временная эпоха    1499 non-null   object \n",
      "dtypes: float64(3), object(33)\n",
      "memory usage: 2.7+ MB\n"
     ]
    }
   ],
   "source": [
    "flats.info()"
   ],
   "metadata": {
    "collapsed": false,
    "ExecuteTime": {
     "end_time": "2023-07-04T18:56:12.752606Z",
     "start_time": "2023-07-04T18:56:12.629955Z"
    }
   }
  },
  {
   "cell_type": "code",
   "execution_count": 3,
   "outputs": [
    {
     "data": {
      "text/plain": "0    Санкт-Петербург, Выборгский район, Большой Сам...\n1    Санкт-Петербург, Петроградский район, Петровск...\n2    Санкт-Петербург, Невский район, проспект Обухо...\n3    Санкт-Петербург, Красносельский район, Ленинск...\n4    Санкт-Петербург, Московский район, Черниговска...\nName: Адрес, dtype: object"
     },
     "execution_count": 3,
     "metadata": {},
     "output_type": "execute_result"
    }
   ],
   "source": [
    "flats['Адрес'].head()"
   ],
   "metadata": {
    "collapsed": false,
    "ExecuteTime": {
     "end_time": "2023-07-04T18:58:02.704176Z",
     "start_time": "2023-07-04T18:58:02.664318Z"
    }
   }
  },
  {
   "cell_type": "code",
   "execution_count": 99,
   "outputs": [
    {
     "data": {
      "text/plain": "                    0                      1  \\\n0     Санкт-Петербург       Выборгский район   \n1     Санкт-Петербург    Петроградский район   \n2     Санкт-Петербург          Невский район   \n3     Санкт-Петербург   Красносельский район   \n4     Санкт-Петербург       Московский район   \n...               ...                    ...   \n9995  Санкт-Петербург       Выборгский район   \n9996  Санкт-Петербург       Приморский район   \n9997  Санкт-Петербург       Московский район   \n9998  Санкт-Петербург       Выборгский район   \n9999  Санкт-Петербург       Приморский район   \n\n                                     2                   3      4     5  \n0      Большой Сампсониевский проспект                   7   None  None  \n1                  Петровский проспект                 2с2   None  None  \n2          проспект Обуховской Обороны                None   None  None  \n3                   Ленинский проспект                72к1   None  None  \n4                   Черниговская улица                11к1   None  None  \n...                                ...                 ...    ...   ...  \n9995                         Парголово   Ольгинская дорога   3/20  None  \n9996              Богатырский проспект                  2А   None  None  \n9997                улица Коли Томчака                  10   None  None  \n9998                  Выборгское шоссе                   2   None  None  \n9999                  Глухарская улица                  30   None  None  \n\n[10000 rows x 6 columns]",
      "text/html": "<div>\n<style scoped>\n    .dataframe tbody tr th:only-of-type {\n        vertical-align: middle;\n    }\n\n    .dataframe tbody tr th {\n        vertical-align: top;\n    }\n\n    .dataframe thead th {\n        text-align: right;\n    }\n</style>\n<table border=\"1\" class=\"dataframe\">\n  <thead>\n    <tr style=\"text-align: right;\">\n      <th></th>\n      <th>0</th>\n      <th>1</th>\n      <th>2</th>\n      <th>3</th>\n      <th>4</th>\n      <th>5</th>\n    </tr>\n  </thead>\n  <tbody>\n    <tr>\n      <th>0</th>\n      <td>Санкт-Петербург</td>\n      <td>Выборгский район</td>\n      <td>Большой Сампсониевский проспект</td>\n      <td>7</td>\n      <td>None</td>\n      <td>None</td>\n    </tr>\n    <tr>\n      <th>1</th>\n      <td>Санкт-Петербург</td>\n      <td>Петроградский район</td>\n      <td>Петровский проспект</td>\n      <td>2с2</td>\n      <td>None</td>\n      <td>None</td>\n    </tr>\n    <tr>\n      <th>2</th>\n      <td>Санкт-Петербург</td>\n      <td>Невский район</td>\n      <td>проспект Обуховской Обороны</td>\n      <td>None</td>\n      <td>None</td>\n      <td>None</td>\n    </tr>\n    <tr>\n      <th>3</th>\n      <td>Санкт-Петербург</td>\n      <td>Красносельский район</td>\n      <td>Ленинский проспект</td>\n      <td>72к1</td>\n      <td>None</td>\n      <td>None</td>\n    </tr>\n    <tr>\n      <th>4</th>\n      <td>Санкт-Петербург</td>\n      <td>Московский район</td>\n      <td>Черниговская улица</td>\n      <td>11к1</td>\n      <td>None</td>\n      <td>None</td>\n    </tr>\n    <tr>\n      <th>...</th>\n      <td>...</td>\n      <td>...</td>\n      <td>...</td>\n      <td>...</td>\n      <td>...</td>\n      <td>...</td>\n    </tr>\n    <tr>\n      <th>9995</th>\n      <td>Санкт-Петербург</td>\n      <td>Выборгский район</td>\n      <td>Парголово</td>\n      <td>Ольгинская дорога</td>\n      <td>3/20</td>\n      <td>None</td>\n    </tr>\n    <tr>\n      <th>9996</th>\n      <td>Санкт-Петербург</td>\n      <td>Приморский район</td>\n      <td>Богатырский проспект</td>\n      <td>2А</td>\n      <td>None</td>\n      <td>None</td>\n    </tr>\n    <tr>\n      <th>9997</th>\n      <td>Санкт-Петербург</td>\n      <td>Московский район</td>\n      <td>улица Коли Томчака</td>\n      <td>10</td>\n      <td>None</td>\n      <td>None</td>\n    </tr>\n    <tr>\n      <th>9998</th>\n      <td>Санкт-Петербург</td>\n      <td>Выборгский район</td>\n      <td>Выборгское шоссе</td>\n      <td>2</td>\n      <td>None</td>\n      <td>None</td>\n    </tr>\n    <tr>\n      <th>9999</th>\n      <td>Санкт-Петербург</td>\n      <td>Приморский район</td>\n      <td>Глухарская улица</td>\n      <td>30</td>\n      <td>None</td>\n      <td>None</td>\n    </tr>\n  </tbody>\n</table>\n<p>10000 rows × 6 columns</p>\n</div>"
     },
     "execution_count": 99,
     "metadata": {},
     "output_type": "execute_result"
    }
   ],
   "source": [
    "# попробуем split\n",
    "flats['Адрес'].str.split(',', expand=True)"
   ],
   "metadata": {
    "collapsed": false,
    "ExecuteTime": {
     "end_time": "2023-07-04T20:34:21.497976Z",
     "start_time": "2023-07-04T20:34:21.487495Z"
    }
   }
  },
  {
   "cell_type": "markdown",
   "source": [
    "Как раскидать адрес:\n",
    "- первая колонка - всегда город\n",
    "- вторая колонка - всегда район\n",
    "- улицы и номера дома может не быть\n",
    "- улица может быть в последней заполненной колонке или в колонке до номера дома\n",
    "- номер дома всегда последний и содержит цифры\n",
    "- все остальное не нужно"
   ],
   "metadata": {
    "collapsed": false
   }
  },
  {
   "cell_type": "code",
   "execution_count": 138,
   "outputs": [],
   "source": [
    "import re\n",
    "temp_addr = flats['Адрес'].str.split(',')\n",
    "flats['Город'] = [a[0] for a in temp_addr]\n",
    "flats['Район'] = [a[1] for a in temp_addr]\n",
    "temp_addr = [a[2:] for a in temp_addr]\n",
    "flats['Улица'] = ['' if len(a)==0 else a[0] if len(a)==1 else a[-2] for a in temp_addr]\n",
    "flats['Номер дома'] = [a[-1] if len(a)>0 else '' for a in temp_addr]\n",
    "flats['Номер дома'] = flats['Номер дома'].apply(lambda a:a if bool(re.search(r'\\d',a)) else '')"
   ],
   "metadata": {
    "collapsed": false,
    "ExecuteTime": {
     "end_time": "2023-07-04T21:05:06.146751Z",
     "start_time": "2023-07-04T21:05:06.085759Z"
    }
   }
  },
  {
   "cell_type": "code",
   "execution_count": 139,
   "outputs": [
    {
     "data": {
      "text/plain": "                                                  Адрес            Город  \\\n0     Санкт-Петербург, Выборгский район, Большой Сам...  Санкт-Петербург   \n1     Санкт-Петербург, Петроградский район, Петровск...  Санкт-Петербург   \n2     Санкт-Петербург, Невский район, проспект Обухо...  Санкт-Петербург   \n3     Санкт-Петербург, Красносельский район, Ленинск...  Санкт-Петербург   \n4     Санкт-Петербург, Московский район, Черниговска...  Санкт-Петербург   \n...                                                 ...              ...   \n9995  Санкт-Петербург, Выборгский район, Парголово, ...  Санкт-Петербург   \n9996  Санкт-Петербург, Приморский район, Богатырский...  Санкт-Петербург   \n9997  Санкт-Петербург, Московский район, улица Коли ...  Санкт-Петербург   \n9998  Санкт-Петербург, Выборгский район, Выборгское ...  Санкт-Петербург   \n9999  Санкт-Петербург, Приморский район, Глухарская ...  Санкт-Петербург   \n\n                      Район                             Улица Номер дома  \n0          Выборгский район   Большой Сампсониевский проспект          7  \n1       Петроградский район               Петровский проспект        2с2  \n2             Невский район       проспект Обуховской Обороны             \n3      Красносельский район                Ленинский проспект       72к1  \n4          Московский район                Черниговская улица       11к1  \n...                     ...                               ...        ...  \n9995       Выборгский район                 Ольгинская дорога       3/20  \n9996       Приморский район              Богатырский проспект         2А  \n9997       Московский район                улица Коли Томчака         10  \n9998       Выборгский район                  Выборгское шоссе          2  \n9999       Приморский район                  Глухарская улица         30  \n\n[10000 rows x 5 columns]",
      "text/html": "<div>\n<style scoped>\n    .dataframe tbody tr th:only-of-type {\n        vertical-align: middle;\n    }\n\n    .dataframe tbody tr th {\n        vertical-align: top;\n    }\n\n    .dataframe thead th {\n        text-align: right;\n    }\n</style>\n<table border=\"1\" class=\"dataframe\">\n  <thead>\n    <tr style=\"text-align: right;\">\n      <th></th>\n      <th>Адрес</th>\n      <th>Город</th>\n      <th>Район</th>\n      <th>Улица</th>\n      <th>Номер дома</th>\n    </tr>\n  </thead>\n  <tbody>\n    <tr>\n      <th>0</th>\n      <td>Санкт-Петербург, Выборгский район, Большой Сам...</td>\n      <td>Санкт-Петербург</td>\n      <td>Выборгский район</td>\n      <td>Большой Сампсониевский проспект</td>\n      <td>7</td>\n    </tr>\n    <tr>\n      <th>1</th>\n      <td>Санкт-Петербург, Петроградский район, Петровск...</td>\n      <td>Санкт-Петербург</td>\n      <td>Петроградский район</td>\n      <td>Петровский проспект</td>\n      <td>2с2</td>\n    </tr>\n    <tr>\n      <th>2</th>\n      <td>Санкт-Петербург, Невский район, проспект Обухо...</td>\n      <td>Санкт-Петербург</td>\n      <td>Невский район</td>\n      <td>проспект Обуховской Обороны</td>\n      <td></td>\n    </tr>\n    <tr>\n      <th>3</th>\n      <td>Санкт-Петербург, Красносельский район, Ленинск...</td>\n      <td>Санкт-Петербург</td>\n      <td>Красносельский район</td>\n      <td>Ленинский проспект</td>\n      <td>72к1</td>\n    </tr>\n    <tr>\n      <th>4</th>\n      <td>Санкт-Петербург, Московский район, Черниговска...</td>\n      <td>Санкт-Петербург</td>\n      <td>Московский район</td>\n      <td>Черниговская улица</td>\n      <td>11к1</td>\n    </tr>\n    <tr>\n      <th>...</th>\n      <td>...</td>\n      <td>...</td>\n      <td>...</td>\n      <td>...</td>\n      <td>...</td>\n    </tr>\n    <tr>\n      <th>9995</th>\n      <td>Санкт-Петербург, Выборгский район, Парголово, ...</td>\n      <td>Санкт-Петербург</td>\n      <td>Выборгский район</td>\n      <td>Ольгинская дорога</td>\n      <td>3/20</td>\n    </tr>\n    <tr>\n      <th>9996</th>\n      <td>Санкт-Петербург, Приморский район, Богатырский...</td>\n      <td>Санкт-Петербург</td>\n      <td>Приморский район</td>\n      <td>Богатырский проспект</td>\n      <td>2А</td>\n    </tr>\n    <tr>\n      <th>9997</th>\n      <td>Санкт-Петербург, Московский район, улица Коли ...</td>\n      <td>Санкт-Петербург</td>\n      <td>Московский район</td>\n      <td>улица Коли Томчака</td>\n      <td>10</td>\n    </tr>\n    <tr>\n      <th>9998</th>\n      <td>Санкт-Петербург, Выборгский район, Выборгское ...</td>\n      <td>Санкт-Петербург</td>\n      <td>Выборгский район</td>\n      <td>Выборгское шоссе</td>\n      <td>2</td>\n    </tr>\n    <tr>\n      <th>9999</th>\n      <td>Санкт-Петербург, Приморский район, Глухарская ...</td>\n      <td>Санкт-Петербург</td>\n      <td>Приморский район</td>\n      <td>Глухарская улица</td>\n      <td>30</td>\n    </tr>\n  </tbody>\n</table>\n<p>10000 rows × 5 columns</p>\n</div>"
     },
     "execution_count": 139,
     "metadata": {},
     "output_type": "execute_result"
    }
   ],
   "source": [
    "flats[['Адрес', 'Город', 'Район', 'Улица', 'Номер дома']]"
   ],
   "metadata": {
    "collapsed": false,
    "ExecuteTime": {
     "end_time": "2023-07-04T21:05:07.954974Z",
     "start_time": "2023-07-04T21:05:07.933743Z"
    }
   }
  }
 ],
 "metadata": {
  "kernelspec": {
   "display_name": "Python 3",
   "language": "python",
   "name": "python3"
  },
  "language_info": {
   "codemirror_mode": {
    "name": "ipython",
    "version": 2
   },
   "file_extension": ".py",
   "mimetype": "text/x-python",
   "name": "python",
   "nbconvert_exporter": "python",
   "pygments_lexer": "ipython2",
   "version": "2.7.6"
  }
 },
 "nbformat": 4,
 "nbformat_minor": 0
}
