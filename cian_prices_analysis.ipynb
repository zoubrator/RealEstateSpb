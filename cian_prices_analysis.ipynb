{
 "cells": [
  {
   "cell_type": "markdown",
   "metadata": {
    "pycharm": {
     "name": "#%%\n"
    }
   },
   "source": [
    "<h1>Flats prices analysis in St. Petersburg</h1>"
   ]
  },
  {
   "cell_type": "markdown",
   "metadata": {},
   "source": [
    "<div style=\"background:#abd5f5; border:1px solid #b3deff; padding: 20px\">\n",
    "    <h2 style=\"color:#002b63\">Table of content</h2>\n",
    "<ul>\n",
    "    <li>Indroduction</li>\n",
    "    <li>Visualization and Data Preprocessing</li>\n",
    "    <li>Model building</li>\n",
    "    <li>Conclusion</li>\n",
    "</ul>\n",
    "    </div>"
   ]
  },
  {
   "cell_type": "markdown",
   "metadata": {},
   "source": [
    "<h2>Indroduction</h2>"
   ]
  },
  {
   "cell_type": "markdown",
   "metadata": {},
   "source": [
    "This analysis focuses on flat prices in St. Petersburg. \n",
    "- First step is visualization. I am going to explore data with different plots\n",
    "- Next, I prepare data for analysis. \n",
    "- At last, I want to build predictive models using different methods."
   ]
  },
  {
   "cell_type": "markdown",
   "metadata": {},
   "source": [
    "<h2>Visualization and Data Preprocessing</h2>"
   ]
  },
  {
   "cell_type": "markdown",
   "metadata": {},
   "source": [
    "I am going to use my own CSV file. I created it using data from https://spb.cian.ru/kupit-kvartiru/ This file contains a list of St. Petersburg flats for sale."
   ]
  },
  {
   "cell_type": "code",
   "execution_count": 1,
   "metadata": {
    "pycharm": {
     "name": "#%%\n"
    }
   },
   "outputs": [],
   "source": [
    "import pandas as pd\n",
    "import numpy as np\n",
    "import re\n",
    "import sklearn\n",
    "import matplotlib.pyplot as plt"
   ]
  },
  {
   "cell_type": "code",
   "execution_count": 2,
   "metadata": {},
   "outputs": [
    {
     "data": {
      "text/html": [
       "<div>\n",
       "<style scoped>\n",
       "    .dataframe tbody tr th:only-of-type {\n",
       "        vertical-align: middle;\n",
       "    }\n",
       "\n",
       "    .dataframe tbody tr th {\n",
       "        vertical-align: top;\n",
       "    }\n",
       "\n",
       "    .dataframe thead th {\n",
       "        text-align: right;\n",
       "    }\n",
       "</style>\n",
       "<table border=\"1\" class=\"dataframe\">\n",
       "  <thead>\n",
       "    <tr style=\"text-align: right;\">\n",
       "      <th></th>\n",
       "      <th>link</th>\n",
       "      <th>price</th>\n",
       "      <th>total_area</th>\n",
       "      <th>living_area</th>\n",
       "      <th>kitchen_area</th>\n",
       "      <th>floor</th>\n",
       "      <th>type</th>\n",
       "      <th>height</th>\n",
       "      <th>bathrooms</th>\n",
       "      <th>balconies</th>\n",
       "      <th>...</th>\n",
       "      <th>renovation</th>\n",
       "      <th>view</th>\n",
       "      <th>rooms</th>\n",
       "      <th>city</th>\n",
       "      <th>area</th>\n",
       "      <th>neighborhood</th>\n",
       "      <th>street</th>\n",
       "      <th>metro_name</th>\n",
       "      <th>metro_km</th>\n",
       "      <th>number_of_floors</th>\n",
       "    </tr>\n",
       "  </thead>\n",
       "  <tbody>\n",
       "    <tr>\n",
       "      <th>0</th>\n",
       "      <td>https://spb.cian.ru/sale/flat/234775065/</td>\n",
       "      <td>13143249.0</td>\n",
       "      <td>74.13</td>\n",
       "      <td>26.3</td>\n",
       "      <td>22.0</td>\n",
       "      <td>3</td>\n",
       "      <td>Новостройка</td>\n",
       "      <td>3.3</td>\n",
       "      <td>2.0</td>\n",
       "      <td>1.0</td>\n",
       "      <td>...</td>\n",
       "      <td>NaN</td>\n",
       "      <td>NaN</td>\n",
       "      <td>2</td>\n",
       "      <td>Санкт-Петербург</td>\n",
       "      <td>р-н Приморский</td>\n",
       "      <td>Юнтолово</td>\n",
       "      <td>Планерная ул., 94</td>\n",
       "      <td>Комендантский проспект</td>\n",
       "      <td>1.98</td>\n",
       "      <td>12</td>\n",
       "    </tr>\n",
       "    <tr>\n",
       "      <th>1</th>\n",
       "      <td>https://spb.cian.ru/sale/flat/239273301/</td>\n",
       "      <td>12430600.0</td>\n",
       "      <td>47.81</td>\n",
       "      <td>NaN</td>\n",
       "      <td>NaN</td>\n",
       "      <td>2</td>\n",
       "      <td>Новостройка</td>\n",
       "      <td>NaN</td>\n",
       "      <td>0.0</td>\n",
       "      <td>0.0</td>\n",
       "      <td>...</td>\n",
       "      <td>NaN</td>\n",
       "      <td>NaN</td>\n",
       "      <td>1</td>\n",
       "      <td>Санкт-Петербург</td>\n",
       "      <td>р-н Петроградский</td>\n",
       "      <td>Посадский</td>\n",
       "      <td>ул. Рентгена, 25</td>\n",
       "      <td>Петроградская</td>\n",
       "      <td>1.04</td>\n",
       "      <td>8</td>\n",
       "    </tr>\n",
       "    <tr>\n",
       "      <th>2</th>\n",
       "      <td>https://spb.cian.ru/sale/flat/250966190/</td>\n",
       "      <td>13800000.0</td>\n",
       "      <td>44.10</td>\n",
       "      <td>14.1</td>\n",
       "      <td>19.4</td>\n",
       "      <td>2</td>\n",
       "      <td>Новостройка</td>\n",
       "      <td>NaN</td>\n",
       "      <td>0.0</td>\n",
       "      <td>0.0</td>\n",
       "      <td>...</td>\n",
       "      <td>NaN</td>\n",
       "      <td>NaN</td>\n",
       "      <td>1</td>\n",
       "      <td>Санкт-Петербург</td>\n",
       "      <td>р-н Курортный</td>\n",
       "      <td>мкр. Сестрорецк</td>\n",
       "      <td>ул. Максима Горького, 2Ас2</td>\n",
       "      <td>Беговая</td>\n",
       "      <td>9.57</td>\n",
       "      <td>5</td>\n",
       "    </tr>\n",
       "    <tr>\n",
       "      <th>3</th>\n",
       "      <td>https://spb.cian.ru/sale/flat/249950664/</td>\n",
       "      <td>8730851.0</td>\n",
       "      <td>56.29</td>\n",
       "      <td>29.3</td>\n",
       "      <td>10.9</td>\n",
       "      <td>5</td>\n",
       "      <td>Новостройка</td>\n",
       "      <td>NaN</td>\n",
       "      <td>2.0</td>\n",
       "      <td>2.0</td>\n",
       "      <td>...</td>\n",
       "      <td>NaN</td>\n",
       "      <td>NaN</td>\n",
       "      <td>2</td>\n",
       "      <td>Санкт-Петербург</td>\n",
       "      <td>р-н Приморский</td>\n",
       "      <td>Юнтолово</td>\n",
       "      <td>Нью Тайм жилой комплекс</td>\n",
       "      <td>Комендантский проспект</td>\n",
       "      <td>1.98</td>\n",
       "      <td>13</td>\n",
       "    </tr>\n",
       "    <tr>\n",
       "      <th>4</th>\n",
       "      <td>https://spb.cian.ru/sale/flat/250766812/</td>\n",
       "      <td>13650000.0</td>\n",
       "      <td>70.80</td>\n",
       "      <td>NaN</td>\n",
       "      <td>10.0</td>\n",
       "      <td>13</td>\n",
       "      <td>Вторичка</td>\n",
       "      <td>2.8</td>\n",
       "      <td>1.0</td>\n",
       "      <td>1.0</td>\n",
       "      <td>...</td>\n",
       "      <td>Евроремонт</td>\n",
       "      <td>На улицу и двор</td>\n",
       "      <td>2</td>\n",
       "      <td>Санкт-Петербург</td>\n",
       "      <td>р-н Приморский</td>\n",
       "      <td>Комендантский аэродром</td>\n",
       "      <td>аллея Поликарпова, 6к1</td>\n",
       "      <td>Пионерская</td>\n",
       "      <td>1.04</td>\n",
       "      <td>19</td>\n",
       "    </tr>\n",
       "  </tbody>\n",
       "</table>\n",
       "<p>5 rows × 23 columns</p>\n",
       "</div>"
      ],
      "text/plain": [
       "                                       link       price  total_area  \\\n",
       "0  https://spb.cian.ru/sale/flat/234775065/  13143249.0       74.13   \n",
       "1  https://spb.cian.ru/sale/flat/239273301/  12430600.0       47.81   \n",
       "2  https://spb.cian.ru/sale/flat/250966190/  13800000.0       44.10   \n",
       "3  https://spb.cian.ru/sale/flat/249950664/   8730851.0       56.29   \n",
       "4  https://spb.cian.ru/sale/flat/250766812/  13650000.0       70.80   \n",
       "\n",
       "   living_area  kitchen_area  floor         type  height  bathrooms  \\\n",
       "0         26.3          22.0      3  Новостройка     3.3        2.0   \n",
       "1          NaN           NaN      2  Новостройка     NaN        0.0   \n",
       "2         14.1          19.4      2  Новостройка     NaN        0.0   \n",
       "3         29.3          10.9      5  Новостройка     NaN        2.0   \n",
       "4          NaN          10.0     13     Вторичка     2.8        1.0   \n",
       "\n",
       "   balconies  ...  renovation             view rooms             city  \\\n",
       "0        1.0  ...         NaN              NaN     2  Санкт-Петербург   \n",
       "1        0.0  ...         NaN              NaN     1  Санкт-Петербург   \n",
       "2        0.0  ...         NaN              NaN     1  Санкт-Петербург   \n",
       "3        2.0  ...         NaN              NaN     2  Санкт-Петербург   \n",
       "4        1.0  ...  Евроремонт  На улицу и двор     2  Санкт-Петербург   \n",
       "\n",
       "                 area             neighborhood                       street  \\\n",
       "0      р-н Приморский                 Юнтолово            Планерная ул., 94   \n",
       "1   р-н Петроградский                Посадский             ул. Рентгена, 25   \n",
       "2       р-н Курортный          мкр. Сестрорецк   ул. Максима Горького, 2Ас2   \n",
       "3      р-н Приморский                 Юнтолово      Нью Тайм жилой комплекс   \n",
       "4      р-н Приморский   Комендантский аэродром       аллея Поликарпова, 6к1   \n",
       "\n",
       "                metro_name metro_km number_of_floors  \n",
       "0  Комендантский проспект      1.98               12  \n",
       "1           Петроградская      1.04                8  \n",
       "2                 Беговая      9.57                5  \n",
       "3  Комендантский проспект      1.98               13  \n",
       "4              Пионерская      1.04               19  \n",
       "\n",
       "[5 rows x 23 columns]"
      ]
     },
     "execution_count": 2,
     "metadata": {},
     "output_type": "execute_result"
    }
   ],
   "source": [
    "flats=pd.read_csv('data/clean_data_from_cian_2021.csv',sep=';')\n",
    "flats.head()"
   ]
  },
  {
   "cell_type": "markdown",
   "metadata": {},
   "source": [
    "Features description."
   ]
  },
  {
   "cell_type": "markdown",
   "metadata": {},
   "source": [
    "<table>\n",
    "    <tr>\n",
    "        <th>N</th>\n",
    "        <th>Name</th>\n",
    "        <th>Description</th>\n",
    "    </tr>\n",
    "    <tr>\n",
    "        <td>1</td>\n",
    "        <td>link</td>\n",
    "        <td>Link to the page with the flat on cian.ru</td>\n",
    "    </tr>\n",
    "    <tr>\n",
    "        <td>2</td>       \n",
    "        <td>price</td>\n",
    "        <td>Flat price</td>\n",
    "    </tr>\n",
    "    <tr>\n",
    "        <td>3</td>\n",
    "        <td>total_area</td>\n",
    "        <td>The total area of the flat in square meters</td>\n",
    "    </tr>\n",
    "    <tr>\n",
    "        <td>4</td>        \n",
    "        <td>living_area</td>\n",
    "        <td>All bedrooms area plus living room in square meters</td>\n",
    "    </tr>\n",
    "    <tr>\n",
    "        <td>5</td>\n",
    "        <td>kitchen_area</td>\n",
    "        <td>Kitchen area in square meters</td>\n",
    "    </tr>\n",
    "    <tr>\n",
    "        <td>6</td>\n",
    "        <td>floor</td>\n",
    "        <td>Floor number where the flat is located</td>\n",
    "    </tr>\n",
    "    <tr>\n",
    "        <td>7</td>\n",
    "        <td>type</td>\n",
    "        <td>Building type: new (still under construction) or old</td>\n",
    "    </tr>\n",
    "    <tr>\n",
    "        <td>8</td>\n",
    "        <td>height</td>\n",
    "        <td>Ceiling height</td>\n",
    "    </tr>    \n",
    "    <tr>\n",
    "        <td>9</td>\n",
    "        <td>bathrooms</td>\n",
    "        <td>Number of bathrooms</td>\n",
    "    </tr>\n",
    "    <tr>\n",
    "        <td>10</td>\n",
    "        <td>balconies</td>\n",
    "        <td>Number of balconies</td>\n",
    "    </tr>\n",
    "    <tr>\n",
    "        <td>11</td>\n",
    "        <td>finishing</td>\n",
    "        <td>Finishing type of new flats: renovated and without</td>\n",
    "    </tr>    \n",
    "    <tr>\n",
    "        <td>12</td>\n",
    "        <td>year_of_construction</td>\n",
    "        <td>Year when the building was or will be built</td>\n",
    "    </tr>    \n",
    "    <tr>\n",
    "        <td>13</td>\n",
    "        <td>layout</td>\n",
    "        <td>The layout determines how the entrance to the rooms is located: through another room or through a corridor</td>\n",
    "    </tr>    \n",
    "    <tr>\n",
    "        <td>14</td>\n",
    "        <td>renovation</td>\n",
    "        <td>Type of renovation</td>\n",
    "    </tr>    \n",
    "    <tr>\n",
    "        <td>15</td>\n",
    "        <td>view</td>\n",
    "        <td>View from windows</td>\n",
    "    </tr> \n",
    "    <tr>\n",
    "        <td>16</td>\n",
    "        <td>rooms</td>\n",
    "        <td>Number of rooms</td>\n",
    "    </tr>     \n",
    "    <tr>\n",
    "        <td>17</td>\n",
    "        <td>city</td>\n",
    "        <td>City name</td>\n",
    "    </tr>     \n",
    "    <tr>\n",
    "        <td>18</td>\n",
    "        <td>area</td>\n",
    "        <td>Area name</td>\n",
    "    </tr>     \n",
    "    <tr>\n",
    "        <td>19</td>\n",
    "        <td>neighborhood</td>\n",
    "        <td>Neighborhood name</td>\n",
    "    </tr> \n",
    "    <tr>\n",
    "        <td>20</td>\n",
    "        <td>street</td>\n",
    "        <td>Street name</td>\n",
    "    </tr>     \n",
    "    <tr>\n",
    "        <td>21</td>\n",
    "        <td>metro_name</td>\n",
    "        <td>The closest metro station</td>\n",
    "    </tr>     \n",
    "    <tr>\n",
    "        <td>22</td>\n",
    "        <td>metro_km</td>\n",
    "        <td>Distance to the closest metro station in km</td>\n",
    "    </tr>     \n",
    "    <tr>\n",
    "        <td>23</td>\n",
    "        <td>number_of_floors</td>\n",
    "        <td>Number of floors in the buildings</td>\n",
    "    </tr>\n",
    "</table>"
   ]
  },
  {
   "cell_type": "markdown",
   "metadata": {},
   "source": [
    "I decided not to take geo data for analysis because they give too much categories and it spoiles models. Because of it, I remove them."
   ]
  },
  {
   "cell_type": "code",
   "execution_count": 3,
   "metadata": {},
   "outputs": [],
   "source": [
    "flats.drop(columns=['link','area','city','neighborhood','street','metro_name'],inplace=True)"
   ]
  },
  {
   "cell_type": "markdown",
   "metadata": {},
   "source": [
    "I calcuclate the price for a square meter instead of the price."
   ]
  },
  {
   "cell_type": "code",
   "execution_count": 4,
   "metadata": {},
   "outputs": [],
   "source": [
    "flats.insert(0,'price_meter',0.0)\n",
    "flats['price_meter']=flats['price']/flats['total_area']\n",
    "flats.drop(columns=['price'],inplace=True)"
   ]
  },
  {
   "cell_type": "markdown",
   "metadata": {},
   "source": [
    "Let's check the dependence between price per meter and numerical variables."
   ]
  },
  {
   "cell_type": "code",
   "execution_count": 5,
   "metadata": {},
   "outputs": [
    {
     "data": {
      "image/png": "[encoded data removed]",
      "text/plain": [
       "<Figure size 1440x1080 with 8 Axes>"
      ]
     },
     "metadata": {
      "needs_background": "light"
     },
     "output_type": "display_data"
    }
   ],
   "source": [
    "fig, axs = plt.subplots(4, 2, figsize=(20, 15))\n",
    "fig.suptitle('Dependence between price_meter and other variables')\n",
    "\n",
    "axs[0,0].scatter(flats['living_area'],flats['price_meter'])\n",
    "axs[0,0].set_title('living_area')\n",
    "\n",
    "axs[0,1].scatter(flats['floor'],flats['price_meter'])\n",
    "axs[0,1].set_title('floor')\n",
    "\n",
    "axs[1,0].scatter(flats['height'],flats['price_meter'])\n",
    "axs[1,0].set_title('height')\n",
    "\n",
    "axs[1,1].scatter(flats['bathrooms'],flats['price_meter'])\n",
    "axs[1,1].set_title('bathrooms')\n",
    "\n",
    "axs[2,0].scatter(flats['balconies'],flats['price_meter'])\n",
    "axs[2,0].set_title('balconies')\n",
    "\n",
    "axs[2,1].scatter(flats['year_of_construction'],flats['price_meter'])\n",
    "axs[2,1].set_title('year_of_construction')\n",
    "\n",
    "axs[3,0].scatter(flats['metro_km'],flats['price_meter'])\n",
    "axs[3,0].set_title('metro_km')\n",
    "\n",
    "axs[3,1].scatter(flats['number_of_floors'],flats['price_meter'])\n",
    "axs[3,1].set_title('number_of_floors')\n",
    "\n",
    "plt.tight_layout()\n",
    "plt.show()"
   ]
  },
  {
   "cell_type": "markdown",
   "metadata": {},
   "source": [
    "As we see, we have outliers. Let's remove them."
   ]
  },
  {
   "cell_type": "code",
   "execution_count": 6,
   "metadata": {},
   "outputs": [],
   "source": [
    "flats = flats[(flats['living_area']<350)&(flats['price_meter']<1200000)\n",
    "             &(flats['height']>2)&(flats['height']<6)\n",
    "             &(flats['metro_km']<10)&(flats['number_of_floors']<30)\n",
    "             &(flats['bathrooms']<6)&(flats['balconies']<4)]"
   ]
  },
  {
   "cell_type": "markdown",
   "metadata": {},
   "source": [
    "Let's check categorical values."
   ]
  },
  {
   "cell_type": "code",
   "execution_count": 7,
   "metadata": {},
   "outputs": [
    {
     "data": {
      "image/png": "[encoded data removed]",
      "text/plain": [
       "<Figure size 1440x1080 with 6 Axes>"
      ]
     },
     "metadata": {
      "needs_background": "light"
     },
     "output_type": "display_data"
    }
   ],
   "source": [
    "fig, axs = plt.subplots(3, 2, figsize=(20, 15))\n",
    "fig.suptitle('Categorical variables')\n",
    "\n",
    "# replace Студия with 0,5 and Многокомнатная with 6\n",
    "flats['rooms']=flats['rooms'].replace(['Студия','Многокомнатная','Многокомнатные'],['0.5','6','6'])\n",
    "rooms = dict(flats['rooms'].value_counts())\n",
    "axs[0,0].bar(rooms.keys(),rooms.values())\n",
    "axs[0,0].set_title('Number of rooms')\n",
    "\n",
    "types = dict(flats['type'].value_counts())\n",
    "axs[0,1].bar(types.keys(),types.values())\n",
    "axs[0,1].set_title('Type')\n",
    "\n",
    "views = dict(flats['view'].value_counts())\n",
    "axs[1,0].bar(views.keys(),views.values())\n",
    "axs[1,0].set_title('View')\n",
    "\n",
    "finishings = dict(flats['finishing'].value_counts())\n",
    "axs[1,1].bar(finishings.keys(),finishings.values())\n",
    "axs[1,1].set_title('Finishing')\n",
    "\n",
    "layouts = dict(flats['layout'].value_counts())\n",
    "axs[2,0].bar(layouts.keys(),layouts.values())\n",
    "axs[2,0].set_title('Layout')\n",
    "\n",
    "renovations = dict(flats['renovation'].value_counts())\n",
    "axs[2,1].bar(renovations.keys(),renovations.values())\n",
    "axs[2,1].set_title('Renovation')\n",
    "\n",
    "plt.show()"
   ]
  },
  {
   "cell_type": "markdown",
   "metadata": {},
   "source": [
    "Values 'Апартаменты', 'Квартира' don't contain information about the number of rooms so I replace them with the most frequent value. Also, I convert the column into the float format."
   ]
  },
  {
   "cell_type": "code",
   "execution_count": 8,
   "metadata": {},
   "outputs": [],
   "source": [
    "flats['rooms']=flats['rooms'].replace(['Апартаменты','Квартира'],flats['rooms'].value_counts().idxmax())\n",
    "flats['rooms']=flats['rooms'].astype(float)"
   ]
  },
  {
   "cell_type": "markdown",
   "metadata": {},
   "source": [
    "Next, I will translate all categorical values into English."
   ]
  },
  {
   "cell_type": "code",
   "execution_count": 9,
   "metadata": {},
   "outputs": [],
   "source": [
    "flats['type']=flats['type'].replace(['Вторичка','Новостройка'],['secondary','new'])\n",
    "flats['view']=flats['view'].replace(['На улицу и двор','Во двор','На улицу'],['both','view_courtyard','view_street'])\n",
    "flats['finishing']=flats['finishing'].replace(['Чистовая','Нет','Черновая'],['fine','none','rough'])\n",
    "flats['layout']=flats['layout'].replace(['Изолированная','Смежно-изолированная','Смежная'],['isolated','mixed','adjoining'])\n",
    "flats['renovation']=flats['renovation'].replace(['Евроремонт','Без ремонта','Косметический','Дизайнерский'],\n",
    "                                                ['euro','none','redecorating','designer'])"
   ]
  },
  {
   "cell_type": "markdown",
   "metadata": {},
   "source": [
    "The next step is finding and dealing with missing data. Firstly, let's identify NaNs and zeros."
   ]
  },
  {
   "cell_type": "code",
   "execution_count": 10,
   "metadata": {
    "pycharm": {
     "name": "#%%\n"
    }
   },
   "outputs": [
    {
     "data": {
      "text/plain": [
       "price_meter               0\n",
       "total_area                0\n",
       "living_area               0\n",
       "kitchen_area             67\n",
       "floor                     0\n",
       "type                      0\n",
       "height                    0\n",
       "bathrooms                 0\n",
       "balconies                 0\n",
       "finishing               628\n",
       "year_of_construction     96\n",
       "layout                  308\n",
       "renovation              126\n",
       "view                    176\n",
       "rooms                     0\n",
       "metro_km                  0\n",
       "number_of_floors          0\n",
       "dtype: int64"
      ]
     },
     "execution_count": 10,
     "metadata": {},
     "output_type": "execute_result"
    }
   ],
   "source": [
    "pd.isna(flats).sum()"
   ]
  },
  {
   "cell_type": "markdown",
   "metadata": {},
   "source": [
    "Now I will find out the proportion between living_area, kitchen_area, total_area and replace missing data with the most common proportion."
   ]
  },
  {
   "cell_type": "code",
   "execution_count": 11,
   "metadata": {
    "pycharm": {
     "name": "#%%\n"
    }
   },
   "outputs": [],
   "source": [
    "flats['living_part']=flats['living_area']/flats['total_area']\n",
    "flats['kitchen_part']=flats['kitchen_area']/flats['total_area']\n",
    "flats['living_area']=flats['living_area'].combine_first(flats['total_area']*flats['living_part'].mean())\n",
    "flats['kitchen_area']=flats['kitchen_area'].combine_first(flats['total_area']*flats['kitchen_part'].mean())\n",
    "flats.drop(['living_part','kitchen_part'],axis='columns',inplace=True)"
   ]
  },
  {
   "cell_type": "markdown",
   "metadata": {},
   "source": [
    "I replace missing data in columns 'view', 'finishing', 'layout', 'renovation','year_of_construction' with the most popular value. Also, I replace the height with the mean value. "
   ]
  },
  {
   "cell_type": "code",
   "execution_count": 12,
   "metadata": {
    "pycharm": {
     "name": "#%%\n"
    }
   },
   "outputs": [],
   "source": [
    "flats['view']=flats['view'].replace(np.nan,flats['view'].value_counts().idxmax())\n",
    "flats['finishing']=flats['finishing'].replace(np.nan,flats['finishing'].value_counts().idxmax())\n",
    "flats['layout']=flats['layout'].replace(np.nan,flats['layout'].value_counts().idxmax())\n",
    "flats['renovation']=flats['renovation'].replace(np.nan,flats['renovation'].value_counts().idxmax())\n",
    "flats['year_of_construction']=flats['year_of_construction'].replace(np.nan,\n",
    "                              flats['year_of_construction'].value_counts().idxmax())\n",
    "flats['height']=flats['height'].replace(np.nan,flats['height'].mean())"
   ]
  },
  {
   "cell_type": "markdown",
   "metadata": {},
   "source": [
    "<h2>Model building</h2>"
   ]
  },
  {
   "cell_type": "markdown",
   "metadata": {},
   "source": [
    "Here I am going to build a predictive model. Price per meter is a dependent value. The rest of the characteristics are independent values. First, I need to prepare a dataframe."
   ]
  },
  {
   "cell_type": "code",
   "execution_count": 13,
   "metadata": {},
   "outputs": [
    {
     "name": "stdout",
     "output_type": "stream",
     "text": [
      "<class 'pandas.core.frame.DataFrame'>\n",
      "Int64Index: 679 entries, 0 to 1412\n",
      "Data columns (total 17 columns):\n",
      " #   Column                Non-Null Count  Dtype  \n",
      "---  ------                --------------  -----  \n",
      " 0   price_meter           679 non-null    float64\n",
      " 1   total_area            679 non-null    float64\n",
      " 2   living_area           679 non-null    float64\n",
      " 3   kitchen_area          679 non-null    float64\n",
      " 4   floor                 679 non-null    int64  \n",
      " 5   type                  679 non-null    object \n",
      " 6   height                679 non-null    float64\n",
      " 7   bathrooms             679 non-null    float64\n",
      " 8   balconies             679 non-null    float64\n",
      " 9   finishing             679 non-null    object \n",
      " 10  year_of_construction  679 non-null    float64\n",
      " 11  layout                679 non-null    object \n",
      " 12  renovation            679 non-null    object \n",
      " 13  view                  679 non-null    object \n",
      " 14  rooms                 679 non-null    float64\n",
      " 15  metro_km              679 non-null    float64\n",
      " 16  number_of_floors      679 non-null    int64  \n",
      "dtypes: float64(10), int64(2), object(5)\n",
      "memory usage: 95.5+ KB\n"
     ]
    }
   ],
   "source": [
    "flats_model = flats.copy()\n",
    "flats_model.info()"
   ]
  },
  {
   "cell_type": "markdown",
   "metadata": {},
   "source": [
    "Next, I need to turn all categorical values into numerical. I use 'get_dummies' function for one-hot encoding."
   ]
  },
  {
   "cell_type": "code",
   "execution_count": 14,
   "metadata": {
    "pycharm": {
     "name": "#%%\n"
    }
   },
   "outputs": [
    {
     "name": "stdout",
     "output_type": "stream",
     "text": [
      "<class 'pandas.core.frame.DataFrame'>\n",
      "Int64Index: 679 entries, 0 to 1412\n",
      "Data columns (total 22 columns):\n",
      " #   Column                   Non-Null Count  Dtype  \n",
      "---  ------                   --------------  -----  \n",
      " 0   price_meter              679 non-null    float64\n",
      " 1   total_area               679 non-null    float64\n",
      " 2   living_area              679 non-null    float64\n",
      " 3   kitchen_area             679 non-null    float64\n",
      " 4   floor                    679 non-null    int64  \n",
      " 5   height                   679 non-null    float64\n",
      " 6   bathrooms                679 non-null    float64\n",
      " 7   balconies                679 non-null    float64\n",
      " 8   year_of_construction     679 non-null    float64\n",
      " 9   rooms                    679 non-null    float64\n",
      " 10  metro_km                 679 non-null    float64\n",
      " 11  number_of_floors         679 non-null    int64  \n",
      " 12  type_secondary           679 non-null    uint8  \n",
      " 13  view_view_courtyard      679 non-null    uint8  \n",
      " 14  view_view_street         679 non-null    uint8  \n",
      " 15  finishing_none           679 non-null    uint8  \n",
      " 16  finishing_rough          679 non-null    uint8  \n",
      " 17  layout_isolated          679 non-null    uint8  \n",
      " 18  layout_mixed             679 non-null    uint8  \n",
      " 19  renovation_euro          679 non-null    uint8  \n",
      " 20  renovation_none          679 non-null    uint8  \n",
      " 21  renovation_redecorating  679 non-null    uint8  \n",
      "dtypes: float64(10), int64(2), uint8(10)\n",
      "memory usage: 75.6 KB\n"
     ]
    }
   ],
   "source": [
    "cat_df=flats_model[['type','view','finishing','layout','renovation']]\n",
    "cat_df=pd.get_dummies(data=cat_df,drop_first=True)\n",
    "\n",
    "#Join all the dataframes in one\n",
    "flats_model=pd.concat([flats_model,cat_df],axis=1)\n",
    "flats_model.drop(['type','view','finishing','layout','renovation'],axis='columns',inplace=True)\n",
    "\n",
    "# Check the result\n",
    "flats_model.info()"
   ]
  },
  {
   "cell_type": "markdown",
   "metadata": {},
   "source": [
    "\"total_area\" and \"living_area\" obviously have strong correlation. I think it is better to remove \"total_area\" because this feature has already been taken into account when I calculated \"price_meter\"."
   ]
  },
  {
   "cell_type": "code",
   "execution_count": 15,
   "metadata": {
    "pycharm": {
     "name": "#%%\n"
    }
   },
   "outputs": [],
   "source": [
    "flats_model.drop(['total_area'],axis='columns',inplace=True)"
   ]
  },
  {
   "cell_type": "markdown",
   "metadata": {},
   "source": [
    "Let's separate dependent and independent values. Y is a price that has a big range of values. Because of it, I'm going to use the logarithm of the price I After that, I'm going to divide them into training and test sets. "
   ]
  },
  {
   "cell_type": "code",
   "execution_count": 16,
   "metadata": {},
   "outputs": [],
   "source": [
    "Y = flats_model['price_meter']\n",
    "Y = np.log(Y)\n",
    "X = flats_model.drop(['price_meter'],axis=1)\n",
    "\n",
    "# split on test and train sets\n",
    "from sklearn.model_selection import train_test_split\n",
    "X_train, X_test, Y_train, Y_test = train_test_split(X, Y, test_size=0.3)"
   ]
  },
  {
   "cell_type": "markdown",
   "metadata": {},
   "source": [
    "Build Random Forest model with default parameters."
   ]
  },
  {
   "cell_type": "code",
   "execution_count": 44,
   "metadata": {},
   "outputs": [
    {
     "name": "stdout",
     "output_type": "stream",
     "text": [
      "RandomForestRegressor\n",
      "r2 = 0.5667334401546499\n",
      "rmse_rf = 0.08727348771154446\n",
      "mae_rf = 0.22034909115185355\n"
     ]
    }
   ],
   "source": [
    "from sklearn.ensemble import RandomForestRegressor\n",
    "from sklearn.preprocessing import StandardScaler\n",
    "from sklearn.metrics import r2_score, mean_squared_error, mean_absolute_error\n",
    "\n",
    "#scaling\n",
    "scale = StandardScaler().fit(X_train)\n",
    "X_train_sc = scale.transform(X_train)\n",
    "X_test_sc = scale.transform(X_test)\n",
    "\n",
    "# create and fit the model\n",
    "model_rf = RandomForestRegressor(random_state=0)\n",
    "model_rf.fit(X_train_sc,Y_train)\n",
    "Y_pred_rf = model_rf.predict(X_test_sc)\n",
    "\n",
    "# accuracy\n",
    "r2_rf = r2_score(Y_test, Y_pred_rf)\n",
    "rmse_rf =  mean_squared_error(Y_test, Y_pred_rf)\n",
    "mae_rf = mean_absolute_error(Y_test, Y_pred_rf)\n",
    "\n",
    "print('RandomForestRegressor')\n",
    "print('r2 =',r2_rf)\n",
    "print('rmse_rf =',rmse_rf)\n",
    "print('mae_rf =',mae_rf)"
   ]
  },
  {
   "cell_type": "markdown",
   "metadata": {},
   "source": [
    "Let's try to improve the model"
   ]
  },
  {
   "cell_type": "code",
   "execution_count": 31,
   "metadata": {},
   "outputs": [
    {
     "name": "stdout",
     "output_type": "stream",
     "text": [
      "Fitting 3 folds for each of 288 candidates, totalling 864 fits\n"
     ]
    },
    {
     "data": {
      "text/plain": [
       "GridSearchCV(cv=3, estimator=RandomForestRegressor(random_state=0), n_jobs=-1,\n",
       "             param_grid={'bootstrap': [True], 'max_depth': [80, 90, 100, 110],\n",
       "                         'max_features': [2, 3], 'min_samples_leaf': [3, 4, 5],\n",
       "                         'min_samples_split': [8, 10, 12],\n",
       "                         'n_estimators': [100, 200, 300, 1000]},\n",
       "             verbose=3)"
      ]
     },
     "execution_count": 31,
     "metadata": {},
     "output_type": "execute_result"
    }
   ],
   "source": [
    "from sklearn.model_selection import GridSearchCV\n",
    "    \n",
    "param_grid = {\n",
    "    'bootstrap': [True],\n",
    "    'max_depth': [80, 90, 100, 110],\n",
    "    'max_features': [2, 3],\n",
    "    'min_samples_leaf': [3, 4, 5],\n",
    "    'min_samples_split': [8, 10, 12],\n",
    "    'n_estimators': [100, 200, 300, 1000]\n",
    "}\n",
    "\n",
    "grid_search = GridSearchCV(estimator = model_rf, param_grid = param_grid, cv = 3, n_jobs = -1, verbose = 3)\n",
    "grid_search.fit(X_train_sc,Y_train)"
   ]
  },
  {
   "cell_type": "code",
   "execution_count": 62,
   "metadata": {},
   "outputs": [
    {
     "name": "stdout",
     "output_type": "stream",
     "text": [
      "RandomForestRegressor with hyperperameter tuning\n",
      "r2 = 0.5166041405499945\n",
      "rmse_rf = 0.09737110247922195\n",
      "mae_rf = 0.23709029268541662\n"
     ]
    }
   ],
   "source": [
    "model_rf_up = grid_search.best_estimator_\n",
    "model_rf_up.fit(X_train_sc,Y_train)\n",
    "Y_pred_rf_up = model_rf_up.predict(X_test_sc)\n",
    "\n",
    "# accuracy\n",
    "r2_rf_up = r2_score(Y_test, Y_pred_rf_up)\n",
    "rmse_rf_up =  mean_squared_error(Y_test, Y_pred_rf_up)\n",
    "mae_rf_up = mean_absolute_error(Y_test, Y_pred_rf_up)\n",
    "\n",
    "print('RandomForestRegressor with hyperperameter tuning')\n",
    "print('r2 =',r2_rf_up)\n",
    "print('rmse_rf =',rmse_rf_up)\n",
    "print('mae_rf =',mae_rf_up)"
   ]
  },
  {
   "cell_type": "markdown",
   "metadata": {},
   "source": [
    "Let's try XGBRegressor"
   ]
  },
  {
   "cell_type": "code",
   "execution_count": 60,
   "metadata": {},
   "outputs": [
    {
     "name": "stdout",
     "output_type": "stream",
     "text": [
      "XGBRegressor\n",
      "r2 = 0.5025728967681412\n",
      "rmse_rf = 0.10019743549280681\n",
      "mae_rf = 0.23763871138146223\n"
     ]
    }
   ],
   "source": [
    "from xgboost import XGBRegressor\n",
    "\n",
    "model_xgb = XGBRegressor(random_state=0)\n",
    "model_xgb.fit(X_train_sc,Y_train)\n",
    "Y_pred_xgb = model_xgb.predict(X_test_sc)\n",
    "\n",
    "# accuracy\n",
    "r2_xgb = r2_score(Y_test, Y_pred_xgb)\n",
    "rmse_xgb =  mean_squared_error(Y_test, Y_pred_xgb)\n",
    "mae_xgb = mean_absolute_error(Y_test, Y_pred_xgb)\n",
    "\n",
    "print('XGBRegressor')\n",
    "print('r2 =',r2_xgb)\n",
    "print('rmse_rf =',rmse_xgb)\n",
    "print('mae_rf =',mae_xgb)"
   ]
  },
  {
   "cell_type": "markdown",
   "metadata": {},
   "source": [
    "Let's try to improve the model"
   ]
  },
  {
   "cell_type": "code",
   "execution_count": 56,
   "metadata": {},
   "outputs": [
    {
     "name": "stdout",
     "output_type": "stream",
     "text": [
      "Fitting 3 folds for each of 48 candidates, totalling 144 fits\n"
     ]
    },
    {
     "data": {
      "text/plain": [
       "GridSearchCV(cv=3,\n",
       "             estimator=XGBRegressor(base_score=0.5, booster='gbtree',\n",
       "                                    colsample_bylevel=1, colsample_bynode=1,\n",
       "                                    colsample_bytree=1, gamma=0, gpu_id=-1,\n",
       "                                    importance_type='gain',\n",
       "                                    interaction_constraints='',\n",
       "                                    learning_rate=0.300000012, max_delta_step=0,\n",
       "                                    max_depth=6, min_child_weight=1,\n",
       "                                    missing=nan, monotone_constraints='()',\n",
       "                                    n_estimators=100, n_jobs=8,\n",
       "                                    num_parallel_tree=1, random_state=0,\n",
       "                                    reg_alpha=0, reg_lambda=1,\n",
       "                                    scale_pos_weight=1, subsample=1,\n",
       "                                    tree_method='exact', validate_parameters=1,\n",
       "                                    verbosity=None),\n",
       "             n_jobs=-1,\n",
       "             param_grid={'learning_rate': [0.1, 0.05, 0.01],\n",
       "                         'max_depth': [80, 90, 100, 110],\n",
       "                         'n_estimators': [100, 200, 300, 1000]},\n",
       "             verbose=3)"
      ]
     },
     "execution_count": 56,
     "metadata": {},
     "output_type": "execute_result"
    }
   ],
   "source": [
    "param_grid_xgb = {\n",
    "    'learning_rate' : [0.1, 0.05, 0.01],\n",
    "    'max_depth': [80, 90, 100, 110],\n",
    "    'n_estimators': [100, 200, 300, 1000],\n",
    "}\n",
    "\n",
    "grid_search_xgb = GridSearchCV(estimator = model_xgb, param_grid = param_grid_xgb, cv = 3, n_jobs = -1, verbose = 3)\n",
    "grid_search_xgb.fit(X_train_sc,Y_train)"
   ]
  },
  {
   "cell_type": "code",
   "execution_count": 61,
   "metadata": {},
   "outputs": [
    {
     "name": "stdout",
     "output_type": "stream",
     "text": [
      "XGBRegressor with hyperperameter tuning\n",
      "r2 = 0.552546898016776\n",
      "rmse_rf = 0.09013110268967933\n",
      "mae_rf = 0.22438264606091762\n"
     ]
    }
   ],
   "source": [
    "model_xgb_up = grid_search_xgb.best_estimator_\n",
    "model_xgb_up.fit(X_train_sc,Y_train)\n",
    "Y_pred_xgb_up = model_xgb_up.predict(X_test_sc)\n",
    "\n",
    "# accuracy\n",
    "r2_xgb_up = r2_score(Y_test, Y_pred_xgb_up)\n",
    "rmse_xgb_up =  mean_squared_error(Y_test, Y_pred_xgb_up)\n",
    "mae_xgb_up = mean_absolute_error(Y_test, Y_pred_xgb_up)\n",
    "\n",
    "print('XGBRegressor with hyperperameter tuning')\n",
    "print('r2 =',r2_xgb_up)\n",
    "print('rmse_rf =',rmse_xgb_up)\n",
    "print('mae_rf =',mae_xgb_up)"
   ]
  },
  {
   "cell_type": "markdown",
   "metadata": {},
   "source": [
    "We have got the best result with XGBRegressor with hyperperameter tuning"
   ]
  },
  {
   "cell_type": "markdown",
   "metadata": {},
   "source": [
    "<h2>Conclusion</h2>"
   ]
  },
  {
   "cell_type": "markdown",
   "metadata": {},
   "source": [
    "Summarising all above\n",
    "- I cleaned and preprocessed the data. I replace missing data with the most frequent value. Also, I turned categorical variables into numerical.\n",
    "- I created regression models for predicting a price per meter for flats in Saint Petersburg using Random Forest Regression and XGBoost\n",
    "- I have got the best result with XGBRegressor which explain more than a half of dispertion. It is a very good result"
   ]
  }
 ],
 "metadata": {
  "kernelspec": {
   "display_name": "Python 3",
   "language": "python",
   "name": "python3"
  },
  "language_info": {
   "codemirror_mode": {
    "name": "ipython",
    "version": 3
   },
   "file_extension": ".py",
   "mimetype": "text/x-python",
   "name": "python",
   "nbconvert_exporter": "python",
   "pygments_lexer": "ipython3",
   "version": "3.8.5"
  }
 },
 "nbformat": 4,
 "nbformat_minor": 1
}
